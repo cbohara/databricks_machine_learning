{
 "cells": [
  {
   "cell_type": "markdown",
   "metadata": {
    "application/vnd.databricks.v1+cell": {
     "cellMetadata": {},
     "inputWidgets": {},
     "nuid": "316509e8-390b-4806-acd3-cd1e46933dee",
     "showTitle": false,
     "title": ""
    }
   },
   "source": [
    "\n",
    "<div style=\"text-align: center; line-height: 0; padding-top: 9px;\">\n",
    "  <img src=\"https://databricks.com/wp-content/uploads/2018/03/db-academy-rgb-1200px.png\" alt=\"Databricks Learning\" style=\"width: 600px\">\n",
    "</div>"
   ]
  },
  {
   "cell_type": "markdown",
   "metadata": {
    "application/vnd.databricks.v1+cell": {
     "cellMetadata": {},
     "inputWidgets": {},
     "nuid": "db5a29be-7809-4dd5-8b97-45014c21d890",
     "showTitle": false,
     "title": "--i18n-c7e3123c-9ace-4d9a-89a1-10307b238964"
    }
   },
   "source": [
    "\n",
    "\n",
    "\n",
    "# Feature Store Lab\n",
    "\n",
    "Now that you are familiar with the <a href=\"https://docs.databricks.com/applications/machine-learning/feature-store.html\" target=\"_blank\">Databricks Feature Store</a>, try applying the concepts we learned to a new dataset below.\n",
    "\n",
    "The Feature Store Python API documentation can be found <a href=\"https://docs.databricks.com/dev-tools/api/python/latest/index.html#feature-store-python-api-reference\" target=\"_blank\">here</a>.\n",
    "\n",
    "## ![Spark Logo Tiny](https://files.training.databricks.com/images/105/logo_spark_tiny.png) Learning Objectives:<br>\n",
    "\n",
    "\n",
    "By the end of this lab, you should be able to;\n",
    "\n",
    "* Create a feature store and save features to this store\n",
    "* Update an existing feature store table\n",
    "* Register a MLflow model with feature store tables\n",
    "* Perform batch scoring with a feature store"
   ]
  },
  {
   "cell_type": "markdown",
   "metadata": {
    "application/vnd.databricks.v1+cell": {
     "cellMetadata": {},
     "inputWidgets": {},
     "nuid": "28270669-a74a-4d75-b088-d0b15cc8513f",
     "showTitle": false,
     "title": "--i18n-0d9e386c-d2a5-4390-9a68-783da2b6eaeb"
    }
   },
   "source": [
    "## Lab Setup\n",
    "\n",
    "The first thing we're going to do is to **run setup script**. This script will define the required configuration variables that are scoped to each user."
   ]
  },
  {
   "cell_type": "code",
   "execution_count": 0,
   "metadata": {
    "application/vnd.databricks.v1+cell": {
     "cellMetadata": {
      "byteLimit": 2048000,
      "rowLimit": 10000
     },
     "inputWidgets": {},
     "nuid": "5671733f-1377-4797-808e-0b06409276e5",
     "showTitle": false,
     "title": ""
    }
   },
   "outputs": [
    {
     "output_type": "stream",
     "name": "stdout",
     "output_type": "stream",
     "text": [
      "Python interpreter will be restarted.\nPython interpreter will be restarted.\n"
     ]
    },
    {
     "output_type": "stream",
     "name": "stdout",
     "output_type": "stream",
     "text": [
      "Resetting the learning environment:\n| No action taken\n\nSkipping install of existing datasets to \"dbfs:/mnt/dbacademy-datasets/scalable-machine-learning-with-apache-spark/v02\"\n\nValidating the locally installed datasets:\n| listing local files...(3 seconds)\n| validation completed...(3 seconds total)\n\nCreating & using the schema \"charlie_ohara_4mi2_da_sml\" in the catalog \"hive_metastore\"...(0 seconds)\n\nPredefined tables in \"charlie_ohara_4mi2_da_sml\":\n| -none-\n\nPredefined paths variables:\n| DA.paths.working_dir: dbfs:/mnt/dbacademy-users/charlie.ohara@standard.ai/scalable-machine-learning-with-apache-spark\n| DA.paths.user_db:     dbfs:/mnt/dbacademy-users/charlie.ohara@standard.ai/scalable-machine-learning-with-apache-spark/database.db\n| DA.paths.datasets:    dbfs:/mnt/dbacademy-datasets/scalable-machine-learning-with-apache-spark/v02\n\nSetup completed (6 seconds)\n"
     ]
    }
   ],
   "source": [
    "%run \"../Includes/Classroom-Setup\""
   ]
  },
  {
   "cell_type": "markdown",
   "metadata": {
    "application/vnd.databricks.v1+cell": {
     "cellMetadata": {},
     "inputWidgets": {},
     "nuid": "cfdd8ea5-f7ca-485d-b77c-e6d1fe50b6bb",
     "showTitle": false,
     "title": "--i18n-2861b87d-095f-44c7-848e-9e4ea539ed2d"
    }
   },
   "source": [
    "\n",
    "\n",
    "\n",
    "## Load the Dataset\n",
    "For this example, we will use a new COVID-19 dataset. Run the cell below to create our dataframe **`covid_df`**."
   ]
  },
  {
   "cell_type": "code",
   "execution_count": 0,
   "metadata": {
    "application/vnd.databricks.v1+cell": {
     "cellMetadata": {
      "byteLimit": 2048000,
      "rowLimit": 10000
     },
     "inputWidgets": {},
     "nuid": "0048f6b9-8b61-49dd-8754-7ad07d9f6665",
     "showTitle": false,
     "title": ""
    }
   },
   "outputs": [
    {
     "output_type": "display_data",
     "data": {
      "text/html": [
       "<style scoped>\n",
       "  .table-result-container {\n",
       "    max-height: 300px;\n",
       "    overflow: auto;\n",
       "  }\n",
       "  table, th, td {\n",
       "    border: 1px solid black;\n",
       "    border-collapse: collapse;\n",
       "  }\n",
       "  th, td {\n",
       "    padding: 5px;\n",
       "  }\n",
       "  th {\n",
       "    text-align: left;\n",
       "  }\n",
       "</style><div class='table-result-container'><table class='table-result'><thead style='background-color: white'><tr><th>date</th><th>time</th><th>test</th><th>negative</th><th>confirmed</th><th>released</th><th>deceased</th><th>index</th></tr></thead><tbody><tr><td>2020-01-20</td><td>16</td><td>1</td><td>0</td><td>1</td><td>0</td><td>0</td><td>0</td></tr><tr><td>2020-01-21</td><td>16</td><td>1</td><td>0</td><td>1</td><td>0</td><td>0</td><td>1</td></tr><tr><td>2020-01-22</td><td>16</td><td>4</td><td>3</td><td>1</td><td>0</td><td>0</td><td>2</td></tr><tr><td>2020-01-23</td><td>16</td><td>22</td><td>21</td><td>1</td><td>0</td><td>0</td><td>3</td></tr><tr><td>2020-01-24</td><td>16</td><td>27</td><td>25</td><td>2</td><td>0</td><td>0</td><td>4</td></tr><tr><td>2020-01-25</td><td>16</td><td>27</td><td>25</td><td>2</td><td>0</td><td>0</td><td>5</td></tr><tr><td>2020-01-26</td><td>16</td><td>51</td><td>47</td><td>3</td><td>0</td><td>0</td><td>6</td></tr><tr><td>2020-01-27</td><td>16</td><td>61</td><td>56</td><td>4</td><td>0</td><td>0</td><td>7</td></tr><tr><td>2020-01-28</td><td>16</td><td>116</td><td>97</td><td>4</td><td>0</td><td>0</td><td>8</td></tr><tr><td>2020-01-29</td><td>16</td><td>187</td><td>155</td><td>4</td><td>0</td><td>0</td><td>9</td></tr><tr><td>2020-01-30</td><td>16</td><td>246</td><td>199</td><td>6</td><td>0</td><td>0</td><td>10</td></tr><tr><td>2020-01-31</td><td>16</td><td>312</td><td>245</td><td>11</td><td>0</td><td>0</td><td>11</td></tr><tr><td>2020-02-01</td><td>16</td><td>371</td><td>289</td><td>12</td><td>0</td><td>0</td><td>12</td></tr><tr><td>2020-02-02</td><td>16</td><td>429</td><td>327</td><td>15</td><td>0</td><td>0</td><td>13</td></tr><tr><td>2020-02-03</td><td>16</td><td>490</td><td>414</td><td>15</td><td>0</td><td>0</td><td>14</td></tr><tr><td>2020-02-04</td><td>16</td><td>607</td><td>462</td><td>16</td><td>0</td><td>0</td><td>15</td></tr><tr><td>2020-02-05</td><td>16</td><td>714</td><td>522</td><td>18</td><td>1</td><td>0</td><td>16</td></tr><tr><td>2020-02-06</td><td>16</td><td>885</td><td>693</td><td>23</td><td>2</td><td>0</td><td>17</td></tr><tr><td>2020-02-07</td><td>16</td><td>1352</td><td>1001</td><td>24</td><td>2</td><td>0</td><td>18</td></tr><tr><td>2020-02-08</td><td>16</td><td>2097</td><td>1134</td><td>24</td><td>2</td><td>0</td><td>19</td></tr><tr><td>2020-02-09</td><td>16</td><td>2598</td><td>1683</td><td>27</td><td>3</td><td>0</td><td>20</td></tr><tr><td>2020-02-10</td><td>16</td><td>3110</td><td>2552</td><td>27</td><td>4</td><td>0</td><td>21</td></tr><tr><td>2020-02-11</td><td>16</td><td>4325</td><td>3535</td><td>28</td><td>4</td><td>0</td><td>22</td></tr><tr><td>2020-02-12</td><td>16</td><td>5624</td><td>4811</td><td>28</td><td>7</td><td>0</td><td>23</td></tr><tr><td>2020-02-13</td><td>16</td><td>6511</td><td>5921</td><td>28</td><td>7</td><td>0</td><td>24</td></tr><tr><td>2020-02-14</td><td>16</td><td>7242</td><td>6679</td><td>28</td><td>7</td><td>0</td><td>25</td></tr><tr><td>2020-02-15</td><td>16</td><td>7734</td><td>7148</td><td>28</td><td>9</td><td>0</td><td>26</td></tr><tr><td>2020-02-16</td><td>16</td><td>8161</td><td>7647</td><td>29</td><td>9</td><td>0</td><td>27</td></tr><tr><td>2020-02-17</td><td>16</td><td>8718</td><td>7980</td><td>30</td><td>10</td><td>0</td><td>28</td></tr><tr><td>2020-02-18</td><td>16</td><td>9772</td><td>8923</td><td>31</td><td>12</td><td>0</td><td>29</td></tr><tr><td>2020-02-19</td><td>16</td><td>11173</td><td>9973</td><td>51</td><td>16</td><td>0</td><td>30</td></tr><tr><td>2020-02-20</td><td>16</td><td>13202</td><td>11238</td><td>104</td><td>16</td><td>1</td><td>31</td></tr><tr><td>2020-02-21</td><td>16</td><td>16400</td><td>13016</td><td>204</td><td>17</td><td>2</td><td>32</td></tr><tr><td>2020-02-22</td><td>16</td><td>21586</td><td>15116</td><td>433</td><td>18</td><td>2</td><td>33</td></tr><tr><td>2020-02-23</td><td>16</td><td>26179</td><td>17520</td><td>602</td><td>18</td><td>6</td><td>34</td></tr><tr><td>2020-02-24</td><td>16</td><td>32756</td><td>20292</td><td>833</td><td>24</td><td>8</td><td>35</td></tr><tr><td>2020-02-25</td><td>16</td><td>40304</td><td>25447</td><td>977</td><td>24</td><td>12</td><td>36</td></tr><tr><td>2020-02-26</td><td>16</td><td>53553</td><td>31576</td><td>1261</td><td>24</td><td>12</td><td>37</td></tr><tr><td>2020-02-27</td><td>16</td><td>66652</td><td>39318</td><td>1766</td><td>26</td><td>13</td><td>38</td></tr><tr><td>2020-02-28</td><td>16</td><td>81167</td><td>48593</td><td>2337</td><td>27</td><td>13</td><td>39</td></tr><tr><td>2020-02-29</td><td>16</td><td>94055</td><td>55723</td><td>3150</td><td>28</td><td>17</td><td>40</td></tr><tr><td>2020-03-01</td><td>16</td><td>98921</td><td>61825</td><td>3736</td><td>30</td><td>18</td><td>41</td></tr><tr><td>2020-03-02</td><td>0</td><td>109591</td><td>71580</td><td>4212</td><td>31</td><td>22</td><td>42</td></tr><tr><td>2020-03-03</td><td>0</td><td>125851</td><td>85484</td><td>4812</td><td>34</td><td>28</td><td>43</td></tr><tr><td>2020-03-04</td><td>0</td><td>136707</td><td>102965</td><td>5328</td><td>41</td><td>32</td><td>44</td></tr><tr><td>2020-03-05</td><td>0</td><td>146541</td><td>118965</td><td>5766</td><td>88</td><td>35</td><td>45</td></tr><tr><td>2020-03-06</td><td>0</td><td>164740</td><td>136624</td><td>6284</td><td>108</td><td>42</td><td>46</td></tr><tr><td>2020-03-07</td><td>0</td><td>178189</td><td>151802</td><td>6767</td><td>118</td><td>44</td><td>47</td></tr><tr><td>2020-03-08</td><td>0</td><td>188518</td><td>162008</td><td>7134</td><td>130</td><td>50</td><td>48</td></tr><tr><td>2020-03-09</td><td>0</td><td>196618</td><td>171778</td><td>7382</td><td>166</td><td>51</td><td>49</td></tr><tr><td>2020-03-10</td><td>0</td><td>210144</td><td>184179</td><td>7513</td><td>247</td><td>54</td><td>50</td></tr><tr><td>2020-03-11</td><td>0</td><td>222395</td><td>196100</td><td>7755</td><td>288</td><td>60</td><td>51</td></tr><tr><td>2020-03-12</td><td>0</td><td>234998</td><td>209402</td><td>7869</td><td>333</td><td>66</td><td>52</td></tr><tr><td>2020-03-13</td><td>0</td><td>248647</td><td>222728</td><td>7979</td><td>510</td><td>67</td><td>53</td></tr><tr><td>2020-03-14</td><td>0</td><td>261335</td><td>235615</td><td>8086</td><td>714</td><td>72</td><td>54</td></tr><tr><td>2020-03-15</td><td>0</td><td>268212</td><td>243778</td><td>8126</td><td>834</td><td>75</td><td>55</td></tr><tr><td>2020-03-16</td><td>0</td><td>274504</td><td>251297</td><td>8236</td><td>1137</td><td>75</td><td>56</td></tr><tr><td>2020-03-17</td><td>0</td><td>286716</td><td>261105</td><td>8320</td><td>1401</td><td>81</td><td>57</td></tr><tr><td>2020-03-18</td><td>0</td><td>295647</td><td>270888</td><td>8413</td><td>1540</td><td>84</td><td>58</td></tr><tr><td>2020-03-19</td><td>0</td><td>307024</td><td>282555</td><td>8565</td><td>1947</td><td>91</td><td>59</td></tr><tr><td>2020-03-20</td><td>0</td><td>316664</td><td>292487</td><td>8652</td><td>2233</td><td>94</td><td>60</td></tr><tr><td>2020-03-21</td><td>0</td><td>327509</td><td>303006</td><td>8799</td><td>2612</td><td>102</td><td>61</td></tr><tr><td>2020-03-22</td><td>0</td><td>331780</td><td>308343</td><td>8897</td><td>2909</td><td>104</td><td>62</td></tr><tr><td>2020-03-23</td><td>0</td><td>338036</td><td>315447</td><td>8961</td><td>3166</td><td>111</td><td>63</td></tr><tr><td>2020-03-24</td><td>0</td><td>348582</td><td>324105</td><td>9037</td><td>3507</td><td>120</td><td>64</td></tr><tr><td>2020-03-25</td><td>0</td><td>357896</td><td>334481</td><td>9137</td><td>3730</td><td>126</td><td>65</td></tr><tr><td>2020-03-26</td><td>0</td><td>364942</td><td>341332</td><td>9241</td><td>4144</td><td>131</td><td>66</td></tr><tr><td>2020-03-27</td><td>0</td><td>376961</td><td>352410</td><td>9332</td><td>4528</td><td>139</td><td>67</td></tr><tr><td>2020-03-28</td><td>0</td><td>387925</td><td>361883</td><td>9478</td><td>4811</td><td>144</td><td>68</td></tr><tr><td>2020-03-29</td><td>0</td><td>394141</td><td>369530</td><td>9583</td><td>5033</td><td>152</td><td>69</td></tr><tr><td>2020-03-30</td><td>0</td><td>395194</td><td>372002</td><td>9661</td><td>5228</td><td>158</td><td>70</td></tr><tr><td>2020-03-31</td><td>0</td><td>410564</td><td>383886</td><td>9786</td><td>5408</td><td>162</td><td>71</td></tr><tr><td>2020-04-01</td><td>0</td><td>421547</td><td>395075</td><td>9887</td><td>5567</td><td>165</td><td>72</td></tr><tr><td>2020-04-02</td><td>0</td><td>431743</td><td>403882</td><td>9976</td><td>5828</td><td>169</td><td>73</td></tr><tr><td>2020-04-03</td><td>0</td><td>443273</td><td>414303</td><td>10062</td><td>6021</td><td>174</td><td>74</td></tr><tr><td>2020-04-04</td><td>0</td><td>455032</td><td>424732</td><td>10156</td><td>6325</td><td>177</td><td>75</td></tr><tr><td>2020-04-05</td><td>0</td><td>461233</td><td>431425</td><td>10237</td><td>6463</td><td>183</td><td>76</td></tr><tr><td>2020-04-06</td><td>0</td><td>466804</td><td>437225</td><td>10284</td><td>6598</td><td>186</td><td>77</td></tr><tr><td>2020-04-07</td><td>0</td><td>477304</td><td>446323</td><td>10331</td><td>6694</td><td>192</td><td>78</td></tr><tr><td>2020-04-08</td><td>0</td><td>486003</td><td>457761</td><td>10384</td><td>6776</td><td>200</td><td>79</td></tr><tr><td>2020-04-09</td><td>0</td><td>494711</td><td>468779</td><td>10423</td><td>6973</td><td>204</td><td>80</td></tr><tr><td>2020-04-10</td><td>0</td><td>503051</td><td>477303</td><td>10450</td><td>7117</td><td>208</td><td>81</td></tr><tr><td>2020-04-11</td><td>0</td><td>510479</td><td>485929</td><td>10480</td><td>7243</td><td>211</td><td>82</td></tr><tr><td>2020-04-12</td><td>0</td><td>514621</td><td>490321</td><td>10512</td><td>7368</td><td>214</td><td>83</td></tr><tr><td>2020-04-13</td><td>0</td><td>518743</td><td>494815</td><td>10537</td><td>7447</td><td>217</td><td>84</td></tr><tr><td>2020-04-14</td><td>0</td><td>527438</td><td>502223</td><td>10564</td><td>7534</td><td>222</td><td>85</td></tr><tr><td>2020-04-15</td><td>0</td><td>534552</td><td>508935</td><td>10591</td><td>7616</td><td>225</td><td>86</td></tr><tr><td>2020-04-16</td><td>0</td><td>538775</td><td>513894</td><td>10613</td><td>7757</td><td>229</td><td>87</td></tr><tr><td>2020-04-17</td><td>0</td><td>546463</td><td>521642</td><td>10635</td><td>7829</td><td>230</td><td>88</td></tr><tr><td>2020-04-18</td><td>0</td><td>554834</td><td>530631</td><td>10653</td><td>7937</td><td>232</td><td>89</td></tr><tr><td>2020-04-19</td><td>0</td><td>559109</td><td>536205</td><td>10661</td><td>8042</td><td>234</td><td>90</td></tr><tr><td>2020-04-20</td><td>0</td><td>563035</td><td>540380</td><td>10674</td><td>8114</td><td>236</td><td>91</td></tr><tr><td>2020-04-21</td><td>0</td><td>571014</td><td>547610</td><td>10683</td><td>8213</td><td>237</td><td>92</td></tr><tr><td>2020-04-22</td><td>0</td><td>577959</td><td>555144</td><td>10694</td><td>8277</td><td>238</td><td>93</td></tr><tr><td>2020-04-23</td><td>0</td><td>583971</td><td>563130</td><td>10702</td><td>8411</td><td>240</td><td>94</td></tr><tr><td>2020-04-24</td><td>0</td><td>589520</td><td>569212</td><td>10708</td><td>8501</td><td>240</td><td>95</td></tr><tr><td>2020-04-25</td><td>0</td><td>595161</td><td>575184</td><td>10718</td><td>8635</td><td>240</td><td>96</td></tr><tr><td>2020-04-26</td><td>0</td><td>598285</td><td>578558</td><td>10728</td><td>8717</td><td>242</td><td>97</td></tr><tr><td>2020-04-27</td><td>0</td><td>601660</td><td>582027</td><td>10738</td><td>8764</td><td>243</td><td>98</td></tr><tr><td>2020-04-28</td><td>0</td><td>608514</td><td>588559</td><td>10752</td><td>8854</td><td>244</td><td>99</td></tr><tr><td>2020-04-29</td><td>0</td><td>614197</td><td>595129</td><td>10761</td><td>8922</td><td>246</td><td>100</td></tr><tr><td>2020-04-30</td><td>0</td><td>619881</td><td>600482</td><td>10765</td><td>9059</td><td>247</td><td>101</td></tr><tr><td>2020-05-01</td><td>0</td><td>623069</td><td>603610</td><td>10774</td><td>9072</td><td>248</td><td>102</td></tr><tr><td>2020-05-02</td><td>0</td><td>627562</td><td>608286</td><td>10780</td><td>9123</td><td>250</td><td>103</td></tr><tr><td>2020-05-03</td><td>0</td><td>630973</td><td>611592</td><td>10793</td><td>9183</td><td>250</td><td>104</td></tr><tr><td>2020-05-04</td><td>0</td><td>633921</td><td>614944</td><td>10801</td><td>9217</td><td>252</td><td>105</td></tr><tr><td>2020-05-05</td><td>0</td><td>640237</td><td>620575</td><td>10804</td><td>9283</td><td>254</td><td>106</td></tr><tr><td>2020-05-06</td><td>0</td><td>643095</td><td>624280</td><td>10806</td><td>9333</td><td>255</td><td>107</td></tr><tr><td>2020-05-07</td><td>0</td><td>649388</td><td>630149</td><td>10810</td><td>9419</td><td>256</td><td>108</td></tr><tr><td>2020-05-08</td><td>0</td><td>654863</td><td>635174</td><td>10822</td><td>9484</td><td>256</td><td>109</td></tr><tr><td>2020-05-09</td><td>0</td><td>660030</td><td>640037</td><td>10840</td><td>9568</td><td>256</td><td>110</td></tr><tr><td>2020-05-10</td><td>0</td><td>663886</td><td>642884</td><td>10874</td><td>9610</td><td>256</td><td>111</td></tr><tr><td>2020-05-11</td><td>0</td><td>668492</td><td>646661</td><td>10909</td><td>9632</td><td>256</td><td>112</td></tr><tr><td>2020-05-12</td><td>0</td><td>680890</td><td>653624</td><td>10936</td><td>9670</td><td>258</td><td>113</td></tr><tr><td>2020-05-13</td><td>0</td><td>695920</td><td>665379</td><td>10962</td><td>9695</td><td>259</td><td>114</td></tr><tr><td>2020-05-14</td><td>0</td><td>711484</td><td>679771</td><td>10991</td><td>9762</td><td>260</td><td>115</td></tr><tr><td>2020-05-15</td><td>0</td><td>726747</td><td>695854</td><td>11018</td><td>9821</td><td>260</td><td>116</td></tr><tr><td>2020-05-16</td><td>0</td><td>740645</td><td>711265</td><td>11037</td><td>9851</td><td>262</td><td>117</td></tr><tr><td>2020-05-17</td><td>0</td><td>747653</td><td>718943</td><td>11050</td><td>9888</td><td>262</td><td>118</td></tr><tr><td>2020-05-18</td><td>0</td><td>753211</td><td>726053</td><td>11065</td><td>9904</td><td>263</td><td>119</td></tr><tr><td>2020-05-19</td><td>0</td><td>765574</td><td>737571</td><td>11078</td><td>9938</td><td>263</td><td>120</td></tr><tr><td>2020-05-20</td><td>0</td><td>776433</td><td>748972</td><td>11110</td><td>10066</td><td>263</td><td>121</td></tr><tr><td>2020-05-21</td><td>0</td><td>788684</td><td>759473</td><td>11122</td><td>10135</td><td>264</td><td>122</td></tr><tr><td>2020-05-22</td><td>0</td><td>802418</td><td>770990</td><td>11142</td><td>10162</td><td>264</td><td>123</td></tr><tr><td>2020-05-23</td><td>0</td><td>814420</td><td>781686</td><td>11165</td><td>10194</td><td>266</td><td>124</td></tr><tr><td>2020-05-24</td><td>0</td><td>820289</td><td>788766</td><td>11190</td><td>10213</td><td>266</td><td>125</td></tr><tr><td>2020-05-25</td><td>0</td><td>826437</td><td>796142</td><td>11206</td><td>10226</td><td>267</td><td>126</td></tr><tr><td>2020-05-26</td><td>0</td><td>839475</td><td>806206</td><td>11225</td><td>10275</td><td>269</td><td>127</td></tr><tr><td>2020-05-27</td><td>0</td><td>852876</td><td>820550</td><td>11265</td><td>10295</td><td>269</td><td>128</td></tr><tr><td>2020-05-28</td><td>0</td><td>868666</td><td>834952</td><td>11344</td><td>10340</td><td>269</td><td>129</td></tr><tr><td>2020-05-29</td><td>0</td><td>885120</td><td>849161</td><td>11402</td><td>10363</td><td>269</td><td>130</td></tr><tr><td>2020-05-30</td><td>0</td><td>902901</td><td>865162</td><td>11441</td><td>10398</td><td>269</td><td>131</td></tr><tr><td>2020-05-31</td><td>0</td><td>910822</td><td>876060</td><td>11468</td><td>10405</td><td>270</td><td>132</td></tr><tr><td>2020-06-01</td><td>0</td><td>921391</td><td>885830</td><td>11503</td><td>10422</td><td>271</td><td>133</td></tr><tr><td>2020-06-02</td><td>0</td><td>939851</td><td>899388</td><td>11541</td><td>10446</td><td>272</td><td>134</td></tr><tr><td>2020-06-03</td><td>0</td><td>956852</td><td>917397</td><td>11590</td><td>10467</td><td>273</td><td>135</td></tr><tr><td>2020-06-04</td><td>0</td><td>973858</td><td>934030</td><td>11629</td><td>10499</td><td>273</td><td>136</td></tr><tr><td>2020-06-05</td><td>0</td><td>990960</td><td>950526</td><td>11668</td><td>10506</td><td>273</td><td>137</td></tr><tr><td>2020-06-06</td><td>0</td><td>1005305</td><td>965632</td><td>11719</td><td>10531</td><td>273</td><td>138</td></tr><tr><td>2020-06-07</td><td>0</td><td>1012769</td><td>974512</td><td>11776</td><td>10552</td><td>273</td><td>139</td></tr><tr><td>2020-06-08</td><td>0</td><td>1018214</td><td>982026</td><td>11814</td><td>10563</td><td>273</td><td>140</td></tr><tr><td>2020-06-09</td><td>0</td><td>1035997</td><td>996686</td><td>11852</td><td>10589</td><td>274</td><td>141</td></tr><tr><td>2020-06-10</td><td>0</td><td>1051972</td><td>1013847</td><td>11902</td><td>10611</td><td>276</td><td>142</td></tr><tr><td>2020-06-11</td><td>0</td><td>1066888</td><td>1029447</td><td>11947</td><td>10654</td><td>276</td><td>143</td></tr><tr><td>2020-06-12</td><td>0</td><td>1081487</td><td>1045240</td><td>12003</td><td>10669</td><td>277</td><td>144</td></tr><tr><td>2020-06-13</td><td>0</td><td>1094704</td><td>1059301</td><td>12051</td><td>10691</td><td>277</td><td>145</td></tr><tr><td>2020-06-14</td><td>0</td><td>1100328</td><td>1066887</td><td>12085</td><td>10718</td><td>277</td><td>146</td></tr><tr><td>2020-06-15</td><td>0</td><td>1105719</td><td>1072805</td><td>12121</td><td>10730</td><td>277</td><td>147</td></tr><tr><td>2020-06-16</td><td>0</td><td>1119767</td><td>1084980</td><td>12155</td><td>10760</td><td>278</td><td>148</td></tr><tr><td>2020-06-17</td><td>0</td><td>1132823</td><td>1099136</td><td>12198</td><td>10774</td><td>279</td><td>149</td></tr><tr><td>2020-06-18</td><td>0</td><td>1145712</td><td>1111741</td><td>12257</td><td>10800</td><td>280</td><td>150</td></tr><tr><td>2020-06-19</td><td>0</td><td>1158063</td><td>1124567</td><td>12306</td><td>10835</td><td>280</td><td>151</td></tr><tr><td>2020-06-20</td><td>0</td><td>1170901</td><td>1137058</td><td>12373</td><td>10856</td><td>280</td><td>152</td></tr><tr><td>2020-06-21</td><td>0</td><td>1176463</td><td>1143971</td><td>12421</td><td>10868</td><td>280</td><td>153</td></tr><tr><td>2020-06-22</td><td>0</td><td>1182066</td><td>1150225</td><td>12438</td><td>10881</td><td>280</td><td>154</td></tr><tr><td>2020-06-23</td><td>0</td><td>1196012</td><td>1161250</td><td>12484</td><td>10908</td><td>281</td><td>155</td></tr><tr><td>2020-06-24</td><td>0</td><td>1208597</td><td>1175817</td><td>12535</td><td>10930</td><td>281</td><td>156</td></tr><tr><td>2020-06-25</td><td>0</td><td>1220478</td><td>1189015</td><td>12563</td><td>10974</td><td>282</td><td>157</td></tr><tr><td>2020-06-26</td><td>0</td><td>1232315</td><td>1200885</td><td>12602</td><td>11172</td><td>282</td><td>158</td></tr><tr><td>2020-06-27</td><td>0</td><td>1243780</td><td>1211261</td><td>12653</td><td>11317</td><td>282</td><td>159</td></tr><tr><td>2020-06-28</td><td>0</td><td>1251695</td><td>1219975</td><td>12715</td><td>11364</td><td>282</td><td>160</td></tr><tr><td>2020-06-29</td><td>0</td><td>1259954</td><td>1228698</td><td>12757</td><td>11429</td><td>282</td><td>161</td></tr><tr><td>2020-06-30</td><td>0</td><td>1273766</td><td>1240157</td><td>12800</td><td>11537</td><td>282</td><td>162</td></tr></tbody></table></div>"
      ]
     },
     "metadata": {
      "application/vnd.databricks.v1+output": {
       "addedWidgets": {},
       "aggData": [],
       "aggError": "",
       "aggOverflow": false,
       "aggSchema": [],
       "aggSeriesLimitReached": false,
       "aggType": "",
       "arguments": {},
       "columnCustomDisplayInfos": {},
       "data": [
        [
         "2020-01-20",
         16,
         1,
         0,
         1,
         0,
         0,
         0
        ],
        [
         "2020-01-21",
         16,
         1,
         0,
         1,
         0,
         0,
         1
        ],
        [
         "2020-01-22",
         16,
         4,
         3,
         1,
         0,
         0,
         2
        ],
        [
         "2020-01-23",
         16,
         22,
         21,
         1,
         0,
         0,
         3
        ],
        [
         "2020-01-24",
         16,
         27,
         25,
         2,
         0,
         0,
         4
        ],
        [
         "2020-01-25",
         16,
         27,
         25,
         2,
         0,
         0,
         5
        ],
        [
         "2020-01-26",
         16,
         51,
         47,
         3,
         0,
         0,
         6
        ],
        [
         "2020-01-27",
         16,
         61,
         56,
         4,
         0,
         0,
         7
        ],
        [
         "2020-01-28",
         16,
         116,
         97,
         4,
         0,
         0,
         8
        ],
        [
         "2020-01-29",
         16,
         187,
         155,
         4,
         0,
         0,
         9
        ],
        [
         "2020-01-30",
         16,
         246,
         199,
         6,
         0,
         0,
         10
        ],
        [
         "2020-01-31",
         16,
         312,
         245,
         11,
         0,
         0,
         11
        ],
        [
         "2020-02-01",
         16,
         371,
         289,
         12,
         0,
         0,
         12
        ],
        [
         "2020-02-02",
         16,
         429,
         327,
         15,
         0,
         0,
         13
        ],
        [
         "2020-02-03",
         16,
         490,
         414,
         15,
         0,
         0,
         14
        ],
        [
         "2020-02-04",
         16,
         607,
         462,
         16,
         0,
         0,
         15
        ],
        [
         "2020-02-05",
         16,
         714,
         522,
         18,
         1,
         0,
         16
        ],
        [
         "2020-02-06",
         16,
         885,
         693,
         23,
         2,
         0,
         17
        ],
        [
         "2020-02-07",
         16,
         1352,
         1001,
         24,
         2,
         0,
         18
        ],
        [
         "2020-02-08",
         16,
         2097,
         1134,
         24,
         2,
         0,
         19
        ],
        [
         "2020-02-09",
         16,
         2598,
         1683,
         27,
         3,
         0,
         20
        ],
        [
         "2020-02-10",
         16,
         3110,
         2552,
         27,
         4,
         0,
         21
        ],
        [
         "2020-02-11",
         16,
         4325,
         3535,
         28,
         4,
         0,
         22
        ],
        [
         "2020-02-12",
         16,
         5624,
         4811,
         28,
         7,
         0,
         23
        ],
        [
         "2020-02-13",
         16,
         6511,
         5921,
         28,
         7,
         0,
         24
        ],
        [
         "2020-02-14",
         16,
         7242,
         6679,
         28,
         7,
         0,
         25
        ],
        [
         "2020-02-15",
         16,
         7734,
         7148,
         28,
         9,
         0,
         26
        ],
        [
         "2020-02-16",
         16,
         8161,
         7647,
         29,
         9,
         0,
         27
        ],
        [
         "2020-02-17",
         16,
         8718,
         7980,
         30,
         10,
         0,
         28
        ],
        [
         "2020-02-18",
         16,
         9772,
         8923,
         31,
         12,
         0,
         29
        ],
        [
         "2020-02-19",
         16,
         11173,
         9973,
         51,
         16,
         0,
         30
        ],
        [
         "2020-02-20",
         16,
         13202,
         11238,
         104,
         16,
         1,
         31
        ],
        [
         "2020-02-21",
         16,
         16400,
         13016,
         204,
         17,
         2,
         32
        ],
        [
         "2020-02-22",
         16,
         21586,
         15116,
         433,
         18,
         2,
         33
        ],
        [
         "2020-02-23",
         16,
         26179,
         17520,
         602,
         18,
         6,
         34
        ],
        [
         "2020-02-24",
         16,
         32756,
         20292,
         833,
         24,
         8,
         35
        ],
        [
         "2020-02-25",
         16,
         40304,
         25447,
         977,
         24,
         12,
         36
        ],
        [
         "2020-02-26",
         16,
         53553,
         31576,
         1261,
         24,
         12,
         37
        ],
        [
         "2020-02-27",
         16,
         66652,
         39318,
         1766,
         26,
         13,
         38
        ],
        [
         "2020-02-28",
         16,
         81167,
         48593,
         2337,
         27,
         13,
         39
        ],
        [
         "2020-02-29",
         16,
         94055,
         55723,
         3150,
         28,
         17,
         40
        ],
        [
         "2020-03-01",
         16,
         98921,
         61825,
         3736,
         30,
         18,
         41
        ],
        [
         "2020-03-02",
         0,
         109591,
         71580,
         4212,
         31,
         22,
         42
        ],
        [
         "2020-03-03",
         0,
         125851,
         85484,
         4812,
         34,
         28,
         43
        ],
        [
         "2020-03-04",
         0,
         136707,
         102965,
         5328,
         41,
         32,
         44
        ],
        [
         "2020-03-05",
         0,
         146541,
         118965,
         5766,
         88,
         35,
         45
        ],
        [
         "2020-03-06",
         0,
         164740,
         136624,
         6284,
         108,
         42,
         46
        ],
        [
         "2020-03-07",
         0,
         178189,
         151802,
         6767,
         118,
         44,
         47
        ],
        [
         "2020-03-08",
         0,
         188518,
         162008,
         7134,
         130,
         50,
         48
        ],
        [
         "2020-03-09",
         0,
         196618,
         171778,
         7382,
         166,
         51,
         49
        ],
        [
         "2020-03-10",
         0,
         210144,
         184179,
         7513,
         247,
         54,
         50
        ],
        [
         "2020-03-11",
         0,
         222395,
         196100,
         7755,
         288,
         60,
         51
        ],
        [
         "2020-03-12",
         0,
         234998,
         209402,
         7869,
         333,
         66,
         52
        ],
        [
         "2020-03-13",
         0,
         248647,
         222728,
         7979,
         510,
         67,
         53
        ],
        [
         "2020-03-14",
         0,
         261335,
         235615,
         8086,
         714,
         72,
         54
        ],
        [
         "2020-03-15",
         0,
         268212,
         243778,
         8126,
         834,
         75,
         55
        ],
        [
         "2020-03-16",
         0,
         274504,
         251297,
         8236,
         1137,
         75,
         56
        ],
        [
         "2020-03-17",
         0,
         286716,
         261105,
         8320,
         1401,
         81,
         57
        ],
        [
         "2020-03-18",
         0,
         295647,
         270888,
         8413,
         1540,
         84,
         58
        ],
        [
         "2020-03-19",
         0,
         307024,
         282555,
         8565,
         1947,
         91,
         59
        ],
        [
         "2020-03-20",
         0,
         316664,
         292487,
         8652,
         2233,
         94,
         60
        ],
        [
         "2020-03-21",
         0,
         327509,
         303006,
         8799,
         2612,
         102,
         61
        ],
        [
         "2020-03-22",
         0,
         331780,
         308343,
         8897,
         2909,
         104,
         62
        ],
        [
         "2020-03-23",
         0,
         338036,
         315447,
         8961,
         3166,
         111,
         63
        ],
        [
         "2020-03-24",
         0,
         348582,
         324105,
         9037,
         3507,
         120,
         64
        ],
        [
         "2020-03-25",
         0,
         357896,
         334481,
         9137,
         3730,
         126,
         65
        ],
        [
         "2020-03-26",
         0,
         364942,
         341332,
         9241,
         4144,
         131,
         66
        ],
        [
         "2020-03-27",
         0,
         376961,
         352410,
         9332,
         4528,
         139,
         67
        ],
        [
         "2020-03-28",
         0,
         387925,
         361883,
         9478,
         4811,
         144,
         68
        ],
        [
         "2020-03-29",
         0,
         394141,
         369530,
         9583,
         5033,
         152,
         69
        ],
        [
         "2020-03-30",
         0,
         395194,
         372002,
         9661,
         5228,
         158,
         70
        ],
        [
         "2020-03-31",
         0,
         410564,
         383886,
         9786,
         5408,
         162,
         71
        ],
        [
         "2020-04-01",
         0,
         421547,
         395075,
         9887,
         5567,
         165,
         72
        ],
        [
         "2020-04-02",
         0,
         431743,
         403882,
         9976,
         5828,
         169,
         73
        ],
        [
         "2020-04-03",
         0,
         443273,
         414303,
         10062,
         6021,
         174,
         74
        ],
        [
         "2020-04-04",
         0,
         455032,
         424732,
         10156,
         6325,
         177,
         75
        ],
        [
         "2020-04-05",
         0,
         461233,
         431425,
         10237,
         6463,
         183,
         76
        ],
        [
         "2020-04-06",
         0,
         466804,
         437225,
         10284,
         6598,
         186,
         77
        ],
        [
         "2020-04-07",
         0,
         477304,
         446323,
         10331,
         6694,
         192,
         78
        ],
        [
         "2020-04-08",
         0,
         486003,
         457761,
         10384,
         6776,
         200,
         79
        ],
        [
         "2020-04-09",
         0,
         494711,
         468779,
         10423,
         6973,
         204,
         80
        ],
        [
         "2020-04-10",
         0,
         503051,
         477303,
         10450,
         7117,
         208,
         81
        ],
        [
         "2020-04-11",
         0,
         510479,
         485929,
         10480,
         7243,
         211,
         82
        ],
        [
         "2020-04-12",
         0,
         514621,
         490321,
         10512,
         7368,
         214,
         83
        ],
        [
         "2020-04-13",
         0,
         518743,
         494815,
         10537,
         7447,
         217,
         84
        ],
        [
         "2020-04-14",
         0,
         527438,
         502223,
         10564,
         7534,
         222,
         85
        ],
        [
         "2020-04-15",
         0,
         534552,
         508935,
         10591,
         7616,
         225,
         86
        ],
        [
         "2020-04-16",
         0,
         538775,
         513894,
         10613,
         7757,
         229,
         87
        ],
        [
         "2020-04-17",
         0,
         546463,
         521642,
         10635,
         7829,
         230,
         88
        ],
        [
         "2020-04-18",
         0,
         554834,
         530631,
         10653,
         7937,
         232,
         89
        ],
        [
         "2020-04-19",
         0,
         559109,
         536205,
         10661,
         8042,
         234,
         90
        ],
        [
         "2020-04-20",
         0,
         563035,
         540380,
         10674,
         8114,
         236,
         91
        ],
        [
         "2020-04-21",
         0,
         571014,
         547610,
         10683,
         8213,
         237,
         92
        ],
        [
         "2020-04-22",
         0,
         577959,
         555144,
         10694,
         8277,
         238,
         93
        ],
        [
         "2020-04-23",
         0,
         583971,
         563130,
         10702,
         8411,
         240,
         94
        ],
        [
         "2020-04-24",
         0,
         589520,
         569212,
         10708,
         8501,
         240,
         95
        ],
        [
         "2020-04-25",
         0,
         595161,
         575184,
         10718,
         8635,
         240,
         96
        ],
        [
         "2020-04-26",
         0,
         598285,
         578558,
         10728,
         8717,
         242,
         97
        ],
        [
         "2020-04-27",
         0,
         601660,
         582027,
         10738,
         8764,
         243,
         98
        ],
        [
         "2020-04-28",
         0,
         608514,
         588559,
         10752,
         8854,
         244,
         99
        ],
        [
         "2020-04-29",
         0,
         614197,
         595129,
         10761,
         8922,
         246,
         100
        ],
        [
         "2020-04-30",
         0,
         619881,
         600482,
         10765,
         9059,
         247,
         101
        ],
        [
         "2020-05-01",
         0,
         623069,
         603610,
         10774,
         9072,
         248,
         102
        ],
        [
         "2020-05-02",
         0,
         627562,
         608286,
         10780,
         9123,
         250,
         103
        ],
        [
         "2020-05-03",
         0,
         630973,
         611592,
         10793,
         9183,
         250,
         104
        ],
        [
         "2020-05-04",
         0,
         633921,
         614944,
         10801,
         9217,
         252,
         105
        ],
        [
         "2020-05-05",
         0,
         640237,
         620575,
         10804,
         9283,
         254,
         106
        ],
        [
         "2020-05-06",
         0,
         643095,
         624280,
         10806,
         9333,
         255,
         107
        ],
        [
         "2020-05-07",
         0,
         649388,
         630149,
         10810,
         9419,
         256,
         108
        ],
        [
         "2020-05-08",
         0,
         654863,
         635174,
         10822,
         9484,
         256,
         109
        ],
        [
         "2020-05-09",
         0,
         660030,
         640037,
         10840,
         9568,
         256,
         110
        ],
        [
         "2020-05-10",
         0,
         663886,
         642884,
         10874,
         9610,
         256,
         111
        ],
        [
         "2020-05-11",
         0,
         668492,
         646661,
         10909,
         9632,
         256,
         112
        ],
        [
         "2020-05-12",
         0,
         680890,
         653624,
         10936,
         9670,
         258,
         113
        ],
        [
         "2020-05-13",
         0,
         695920,
         665379,
         10962,
         9695,
         259,
         114
        ],
        [
         "2020-05-14",
         0,
         711484,
         679771,
         10991,
         9762,
         260,
         115
        ],
        [
         "2020-05-15",
         0,
         726747,
         695854,
         11018,
         9821,
         260,
         116
        ],
        [
         "2020-05-16",
         0,
         740645,
         711265,
         11037,
         9851,
         262,
         117
        ],
        [
         "2020-05-17",
         0,
         747653,
         718943,
         11050,
         9888,
         262,
         118
        ],
        [
         "2020-05-18",
         0,
         753211,
         726053,
         11065,
         9904,
         263,
         119
        ],
        [
         "2020-05-19",
         0,
         765574,
         737571,
         11078,
         9938,
         263,
         120
        ],
        [
         "2020-05-20",
         0,
         776433,
         748972,
         11110,
         10066,
         263,
         121
        ],
        [
         "2020-05-21",
         0,
         788684,
         759473,
         11122,
         10135,
         264,
         122
        ],
        [
         "2020-05-22",
         0,
         802418,
         770990,
         11142,
         10162,
         264,
         123
        ],
        [
         "2020-05-23",
         0,
         814420,
         781686,
         11165,
         10194,
         266,
         124
        ],
        [
         "2020-05-24",
         0,
         820289,
         788766,
         11190,
         10213,
         266,
         125
        ],
        [
         "2020-05-25",
         0,
         826437,
         796142,
         11206,
         10226,
         267,
         126
        ],
        [
         "2020-05-26",
         0,
         839475,
         806206,
         11225,
         10275,
         269,
         127
        ],
        [
         "2020-05-27",
         0,
         852876,
         820550,
         11265,
         10295,
         269,
         128
        ],
        [
         "2020-05-28",
         0,
         868666,
         834952,
         11344,
         10340,
         269,
         129
        ],
        [
         "2020-05-29",
         0,
         885120,
         849161,
         11402,
         10363,
         269,
         130
        ],
        [
         "2020-05-30",
         0,
         902901,
         865162,
         11441,
         10398,
         269,
         131
        ],
        [
         "2020-05-31",
         0,
         910822,
         876060,
         11468,
         10405,
         270,
         132
        ],
        [
         "2020-06-01",
         0,
         921391,
         885830,
         11503,
         10422,
         271,
         133
        ],
        [
         "2020-06-02",
         0,
         939851,
         899388,
         11541,
         10446,
         272,
         134
        ],
        [
         "2020-06-03",
         0,
         956852,
         917397,
         11590,
         10467,
         273,
         135
        ],
        [
         "2020-06-04",
         0,
         973858,
         934030,
         11629,
         10499,
         273,
         136
        ],
        [
         "2020-06-05",
         0,
         990960,
         950526,
         11668,
         10506,
         273,
         137
        ],
        [
         "2020-06-06",
         0,
         1005305,
         965632,
         11719,
         10531,
         273,
         138
        ],
        [
         "2020-06-07",
         0,
         1012769,
         974512,
         11776,
         10552,
         273,
         139
        ],
        [
         "2020-06-08",
         0,
         1018214,
         982026,
         11814,
         10563,
         273,
         140
        ],
        [
         "2020-06-09",
         0,
         1035997,
         996686,
         11852,
         10589,
         274,
         141
        ],
        [
         "2020-06-10",
         0,
         1051972,
         1013847,
         11902,
         10611,
         276,
         142
        ],
        [
         "2020-06-11",
         0,
         1066888,
         1029447,
         11947,
         10654,
         276,
         143
        ],
        [
         "2020-06-12",
         0,
         1081487,
         1045240,
         12003,
         10669,
         277,
         144
        ],
        [
         "2020-06-13",
         0,
         1094704,
         1059301,
         12051,
         10691,
         277,
         145
        ],
        [
         "2020-06-14",
         0,
         1100328,
         1066887,
         12085,
         10718,
         277,
         146
        ],
        [
         "2020-06-15",
         0,
         1105719,
         1072805,
         12121,
         10730,
         277,
         147
        ],
        [
         "2020-06-16",
         0,
         1119767,
         1084980,
         12155,
         10760,
         278,
         148
        ],
        [
         "2020-06-17",
         0,
         1132823,
         1099136,
         12198,
         10774,
         279,
         149
        ],
        [
         "2020-06-18",
         0,
         1145712,
         1111741,
         12257,
         10800,
         280,
         150
        ],
        [
         "2020-06-19",
         0,
         1158063,
         1124567,
         12306,
         10835,
         280,
         151
        ],
        [
         "2020-06-20",
         0,
         1170901,
         1137058,
         12373,
         10856,
         280,
         152
        ],
        [
         "2020-06-21",
         0,
         1176463,
         1143971,
         12421,
         10868,
         280,
         153
        ],
        [
         "2020-06-22",
         0,
         1182066,
         1150225,
         12438,
         10881,
         280,
         154
        ],
        [
         "2020-06-23",
         0,
         1196012,
         1161250,
         12484,
         10908,
         281,
         155
        ],
        [
         "2020-06-24",
         0,
         1208597,
         1175817,
         12535,
         10930,
         281,
         156
        ],
        [
         "2020-06-25",
         0,
         1220478,
         1189015,
         12563,
         10974,
         282,
         157
        ],
        [
         "2020-06-26",
         0,
         1232315,
         1200885,
         12602,
         11172,
         282,
         158
        ],
        [
         "2020-06-27",
         0,
         1243780,
         1211261,
         12653,
         11317,
         282,
         159
        ],
        [
         "2020-06-28",
         0,
         1251695,
         1219975,
         12715,
         11364,
         282,
         160
        ],
        [
         "2020-06-29",
         0,
         1259954,
         1228698,
         12757,
         11429,
         282,
         161
        ],
        [
         "2020-06-30",
         0,
         1273766,
         1240157,
         12800,
         11537,
         282,
         162
        ]
       ],
       "datasetInfos": [],
       "dbfsResultPath": null,
       "isJsonSchema": true,
       "metadata": {},
       "overflow": false,
       "plotOptions": {
        "customPlotOptions": {},
        "displayType": "table",
        "pivotAggregation": null,
        "pivotColumns": null,
        "xColumns": null,
        "yColumns": null
       },
       "removedWidgets": [],
       "schema": [
        {
         "metadata": "{\"__detected_date_formats\":\"yyyy-M-d\"}",
         "name": "date",
         "type": "\"date\""
        },
        {
         "metadata": "{}",
         "name": "time",
         "type": "\"integer\""
        },
        {
         "metadata": "{}",
         "name": "test",
         "type": "\"integer\""
        },
        {
         "metadata": "{}",
         "name": "negative",
         "type": "\"integer\""
        },
        {
         "metadata": "{}",
         "name": "confirmed",
         "type": "\"integer\""
        },
        {
         "metadata": "{}",
         "name": "released",
         "type": "\"integer\""
        },
        {
         "metadata": "{}",
         "name": "deceased",
         "type": "\"integer\""
        },
        {
         "metadata": "{}",
         "name": "index",
         "type": "\"long\""
        }
       ],
       "type": "table"
      }
     },
     "output_type": "display_data"
    }
   ],
   "source": [
    "from pyspark.sql.functions import monotonically_increasing_id\n",
    "\n",
    "file_path = f\"dbfs:/mnt/dbacademy-datasets/scalable-machine-learning-with-apache-spark/v02/COVID/coronavirusdataset/Time.csv\"\n",
    "covid_df = (spark.read\n",
    "            .format(\"csv\")\n",
    "            .option(\"header\",True)\n",
    "            .option(\"inferSchema\", True)\n",
    "            .load(file_path)\n",
    "            .withColumn(\"index\", monotonically_increasing_id()))\n",
    "\n",
    "display(covid_df)"
   ]
  },
  {
   "cell_type": "markdown",
   "metadata": {
    "application/vnd.databricks.v1+cell": {
     "cellMetadata": {},
     "inputWidgets": {},
     "nuid": "11088b45-0b38-4092-919f-9fda3d7ac90a",
     "showTitle": false,
     "title": "--i18n-e0cab81f-4d2b-486b-9af7-01f6fb212168"
    }
   },
   "source": [
    "\n",
    "\n",
    "\n",
    "Run the cell below to set up a database and unique table name **`table_name`** for the lab."
   ]
  },
  {
   "cell_type": "code",
   "execution_count": 0,
   "metadata": {
    "application/vnd.databricks.v1+cell": {
     "cellMetadata": {
      "byteLimit": 2048000,
      "rowLimit": 10000
     },
     "inputWidgets": {},
     "nuid": "12717121-a6d4-4106-9d89-eb1de749dcb1",
     "showTitle": false,
     "title": ""
    }
   },
   "outputs": [
    {
     "output_type": "stream",
     "name": "stdout",
     "output_type": "stream",
     "text": [
      "Table Name: charlie_ohara_4mi2_da_sml.coronavirus\n"
     ]
    }
   ],
   "source": [
    "spark.sql(f\"CREATE DATABASE IF NOT EXISTS charlie_ohara_4mi2_da_sml\")\n",
    "table_name = f\"charlie_ohara_4mi2_da_sml.coronavirus\"\n",
    "\n",
    "print(f\"Table Name: {table_name}\")"
   ]
  },
  {
   "cell_type": "markdown",
   "metadata": {
    "application/vnd.databricks.v1+cell": {
     "cellMetadata": {},
     "inputWidgets": {},
     "nuid": "6fd0c07d-c516-489d-b3ce-fbdf687c6452",
     "showTitle": false,
     "title": "--i18n-9db69933-359c-46df-88df-523c20aec03e"
    }
   },
   "source": [
    "\n",
    "\n",
    "\n",
    "Let's set up our FeatureStoreClient **`fs`**. \n",
    "\n",
    "To create a feature store client, initialize a **`FeatureStoreClient`** object from the **`feature_store`** module."
   ]
  },
  {
   "cell_type": "code",
   "execution_count": 0,
   "metadata": {
    "application/vnd.databricks.v1+cell": {
     "cellMetadata": {
      "byteLimit": 2048000,
      "rowLimit": 10000
     },
     "inputWidgets": {},
     "nuid": "51552cc8-c4fc-4689-80c4-9c20e92a689d",
     "showTitle": false,
     "title": ""
    }
   },
   "outputs": [],
   "source": [
    "# TODO\n",
    "from databricks import feature_store\n",
    " \n",
    "fs = feature_store.FeatureStoreClient()"
   ]
  },
  {
   "cell_type": "markdown",
   "metadata": {
    "application/vnd.databricks.v1+cell": {
     "cellMetadata": {},
     "inputWidgets": {},
     "nuid": "5026c3b7-c9bc-4c23-b008-c52317c845ef",
     "showTitle": false,
     "title": "--i18n-961b8810-5fce-4b34-b066-75f33a12e4f8"
    }
   },
   "source": [
    "\n",
    "\n",
    "\n",
    "## Extract Features\n",
    "\n",
    "In this simple example we want to predict the number of daily deceased using the other information from from day. \n",
    "\n",
    "Before we write to our feature table, we will need to write a feature computation function that separates our features from the label. \n",
    "\n",
    "Fill in the feature computation function below to select only the feature columns, not **`deceased`**."
   ]
  },
  {
   "cell_type": "code",
   "execution_count": 0,
   "metadata": {
    "application/vnd.databricks.v1+cell": {
     "cellMetadata": {
      "byteLimit": 2048000,
      "rowLimit": 10000
     },
     "inputWidgets": {},
     "nuid": "dd866c98-db44-47a2-810c-2377eac990ae",
     "showTitle": false,
     "title": ""
    }
   },
   "outputs": [
    {
     "output_type": "stream",
     "name": "stdout",
     "output_type": "stream",
     "text": [
      "<class 'list'>\n"
     ]
    }
   ],
   "source": [
    "columns = covid_df.columns\n",
    "print(type(columns))\n",
    "columns.remove('deceased')\n"
   ]
  },
  {
   "cell_type": "code",
   "execution_count": 0,
   "metadata": {
    "application/vnd.databricks.v1+cell": {
     "cellMetadata": {
      "byteLimit": 2048000,
      "rowLimit": 10000
     },
     "inputWidgets": {},
     "nuid": "2fb784dd-7ed3-4534-bd21-ebc2f74c7ea0",
     "showTitle": false,
     "title": ""
    }
   },
   "outputs": [
    {
     "output_type": "display_data",
     "data": {
      "text/html": [
       "<style scoped>\n",
       "  .table-result-container {\n",
       "    max-height: 300px;\n",
       "    overflow: auto;\n",
       "  }\n",
       "  table, th, td {\n",
       "    border: 1px solid black;\n",
       "    border-collapse: collapse;\n",
       "  }\n",
       "  th, td {\n",
       "    padding: 5px;\n",
       "  }\n",
       "  th {\n",
       "    text-align: left;\n",
       "  }\n",
       "</style><div class='table-result-container'><table class='table-result'><thead style='background-color: white'><tr><th>date</th><th>time</th><th>test</th><th>negative</th><th>confirmed</th><th>released</th><th>index</th></tr></thead><tbody><tr><td>2020-01-20</td><td>16</td><td>1</td><td>0</td><td>1</td><td>0</td><td>0</td></tr><tr><td>2020-01-21</td><td>16</td><td>1</td><td>0</td><td>1</td><td>0</td><td>1</td></tr><tr><td>2020-01-22</td><td>16</td><td>4</td><td>3</td><td>1</td><td>0</td><td>2</td></tr><tr><td>2020-01-23</td><td>16</td><td>22</td><td>21</td><td>1</td><td>0</td><td>3</td></tr><tr><td>2020-01-24</td><td>16</td><td>27</td><td>25</td><td>2</td><td>0</td><td>4</td></tr><tr><td>2020-01-25</td><td>16</td><td>27</td><td>25</td><td>2</td><td>0</td><td>5</td></tr><tr><td>2020-01-26</td><td>16</td><td>51</td><td>47</td><td>3</td><td>0</td><td>6</td></tr><tr><td>2020-01-27</td><td>16</td><td>61</td><td>56</td><td>4</td><td>0</td><td>7</td></tr><tr><td>2020-01-28</td><td>16</td><td>116</td><td>97</td><td>4</td><td>0</td><td>8</td></tr><tr><td>2020-01-29</td><td>16</td><td>187</td><td>155</td><td>4</td><td>0</td><td>9</td></tr><tr><td>2020-01-30</td><td>16</td><td>246</td><td>199</td><td>6</td><td>0</td><td>10</td></tr><tr><td>2020-01-31</td><td>16</td><td>312</td><td>245</td><td>11</td><td>0</td><td>11</td></tr><tr><td>2020-02-01</td><td>16</td><td>371</td><td>289</td><td>12</td><td>0</td><td>12</td></tr><tr><td>2020-02-02</td><td>16</td><td>429</td><td>327</td><td>15</td><td>0</td><td>13</td></tr><tr><td>2020-02-03</td><td>16</td><td>490</td><td>414</td><td>15</td><td>0</td><td>14</td></tr><tr><td>2020-02-04</td><td>16</td><td>607</td><td>462</td><td>16</td><td>0</td><td>15</td></tr><tr><td>2020-02-05</td><td>16</td><td>714</td><td>522</td><td>18</td><td>1</td><td>16</td></tr><tr><td>2020-02-06</td><td>16</td><td>885</td><td>693</td><td>23</td><td>2</td><td>17</td></tr><tr><td>2020-02-07</td><td>16</td><td>1352</td><td>1001</td><td>24</td><td>2</td><td>18</td></tr><tr><td>2020-02-08</td><td>16</td><td>2097</td><td>1134</td><td>24</td><td>2</td><td>19</td></tr><tr><td>2020-02-09</td><td>16</td><td>2598</td><td>1683</td><td>27</td><td>3</td><td>20</td></tr><tr><td>2020-02-10</td><td>16</td><td>3110</td><td>2552</td><td>27</td><td>4</td><td>21</td></tr><tr><td>2020-02-11</td><td>16</td><td>4325</td><td>3535</td><td>28</td><td>4</td><td>22</td></tr><tr><td>2020-02-12</td><td>16</td><td>5624</td><td>4811</td><td>28</td><td>7</td><td>23</td></tr><tr><td>2020-02-13</td><td>16</td><td>6511</td><td>5921</td><td>28</td><td>7</td><td>24</td></tr><tr><td>2020-02-14</td><td>16</td><td>7242</td><td>6679</td><td>28</td><td>7</td><td>25</td></tr><tr><td>2020-02-15</td><td>16</td><td>7734</td><td>7148</td><td>28</td><td>9</td><td>26</td></tr><tr><td>2020-02-16</td><td>16</td><td>8161</td><td>7647</td><td>29</td><td>9</td><td>27</td></tr><tr><td>2020-02-17</td><td>16</td><td>8718</td><td>7980</td><td>30</td><td>10</td><td>28</td></tr><tr><td>2020-02-18</td><td>16</td><td>9772</td><td>8923</td><td>31</td><td>12</td><td>29</td></tr><tr><td>2020-02-19</td><td>16</td><td>11173</td><td>9973</td><td>51</td><td>16</td><td>30</td></tr><tr><td>2020-02-20</td><td>16</td><td>13202</td><td>11238</td><td>104</td><td>16</td><td>31</td></tr><tr><td>2020-02-21</td><td>16</td><td>16400</td><td>13016</td><td>204</td><td>17</td><td>32</td></tr><tr><td>2020-02-22</td><td>16</td><td>21586</td><td>15116</td><td>433</td><td>18</td><td>33</td></tr><tr><td>2020-02-23</td><td>16</td><td>26179</td><td>17520</td><td>602</td><td>18</td><td>34</td></tr><tr><td>2020-02-24</td><td>16</td><td>32756</td><td>20292</td><td>833</td><td>24</td><td>35</td></tr><tr><td>2020-02-25</td><td>16</td><td>40304</td><td>25447</td><td>977</td><td>24</td><td>36</td></tr><tr><td>2020-02-26</td><td>16</td><td>53553</td><td>31576</td><td>1261</td><td>24</td><td>37</td></tr><tr><td>2020-02-27</td><td>16</td><td>66652</td><td>39318</td><td>1766</td><td>26</td><td>38</td></tr><tr><td>2020-02-28</td><td>16</td><td>81167</td><td>48593</td><td>2337</td><td>27</td><td>39</td></tr><tr><td>2020-02-29</td><td>16</td><td>94055</td><td>55723</td><td>3150</td><td>28</td><td>40</td></tr><tr><td>2020-03-01</td><td>16</td><td>98921</td><td>61825</td><td>3736</td><td>30</td><td>41</td></tr><tr><td>2020-03-02</td><td>0</td><td>109591</td><td>71580</td><td>4212</td><td>31</td><td>42</td></tr><tr><td>2020-03-03</td><td>0</td><td>125851</td><td>85484</td><td>4812</td><td>34</td><td>43</td></tr><tr><td>2020-03-04</td><td>0</td><td>136707</td><td>102965</td><td>5328</td><td>41</td><td>44</td></tr><tr><td>2020-03-05</td><td>0</td><td>146541</td><td>118965</td><td>5766</td><td>88</td><td>45</td></tr><tr><td>2020-03-06</td><td>0</td><td>164740</td><td>136624</td><td>6284</td><td>108</td><td>46</td></tr><tr><td>2020-03-07</td><td>0</td><td>178189</td><td>151802</td><td>6767</td><td>118</td><td>47</td></tr><tr><td>2020-03-08</td><td>0</td><td>188518</td><td>162008</td><td>7134</td><td>130</td><td>48</td></tr><tr><td>2020-03-09</td><td>0</td><td>196618</td><td>171778</td><td>7382</td><td>166</td><td>49</td></tr><tr><td>2020-03-10</td><td>0</td><td>210144</td><td>184179</td><td>7513</td><td>247</td><td>50</td></tr><tr><td>2020-03-11</td><td>0</td><td>222395</td><td>196100</td><td>7755</td><td>288</td><td>51</td></tr><tr><td>2020-03-12</td><td>0</td><td>234998</td><td>209402</td><td>7869</td><td>333</td><td>52</td></tr><tr><td>2020-03-13</td><td>0</td><td>248647</td><td>222728</td><td>7979</td><td>510</td><td>53</td></tr><tr><td>2020-03-14</td><td>0</td><td>261335</td><td>235615</td><td>8086</td><td>714</td><td>54</td></tr><tr><td>2020-03-15</td><td>0</td><td>268212</td><td>243778</td><td>8126</td><td>834</td><td>55</td></tr><tr><td>2020-03-16</td><td>0</td><td>274504</td><td>251297</td><td>8236</td><td>1137</td><td>56</td></tr><tr><td>2020-03-17</td><td>0</td><td>286716</td><td>261105</td><td>8320</td><td>1401</td><td>57</td></tr><tr><td>2020-03-18</td><td>0</td><td>295647</td><td>270888</td><td>8413</td><td>1540</td><td>58</td></tr><tr><td>2020-03-19</td><td>0</td><td>307024</td><td>282555</td><td>8565</td><td>1947</td><td>59</td></tr><tr><td>2020-03-20</td><td>0</td><td>316664</td><td>292487</td><td>8652</td><td>2233</td><td>60</td></tr><tr><td>2020-03-21</td><td>0</td><td>327509</td><td>303006</td><td>8799</td><td>2612</td><td>61</td></tr><tr><td>2020-03-22</td><td>0</td><td>331780</td><td>308343</td><td>8897</td><td>2909</td><td>62</td></tr><tr><td>2020-03-23</td><td>0</td><td>338036</td><td>315447</td><td>8961</td><td>3166</td><td>63</td></tr><tr><td>2020-03-24</td><td>0</td><td>348582</td><td>324105</td><td>9037</td><td>3507</td><td>64</td></tr><tr><td>2020-03-25</td><td>0</td><td>357896</td><td>334481</td><td>9137</td><td>3730</td><td>65</td></tr><tr><td>2020-03-26</td><td>0</td><td>364942</td><td>341332</td><td>9241</td><td>4144</td><td>66</td></tr><tr><td>2020-03-27</td><td>0</td><td>376961</td><td>352410</td><td>9332</td><td>4528</td><td>67</td></tr><tr><td>2020-03-28</td><td>0</td><td>387925</td><td>361883</td><td>9478</td><td>4811</td><td>68</td></tr><tr><td>2020-03-29</td><td>0</td><td>394141</td><td>369530</td><td>9583</td><td>5033</td><td>69</td></tr><tr><td>2020-03-30</td><td>0</td><td>395194</td><td>372002</td><td>9661</td><td>5228</td><td>70</td></tr><tr><td>2020-03-31</td><td>0</td><td>410564</td><td>383886</td><td>9786</td><td>5408</td><td>71</td></tr><tr><td>2020-04-01</td><td>0</td><td>421547</td><td>395075</td><td>9887</td><td>5567</td><td>72</td></tr><tr><td>2020-04-02</td><td>0</td><td>431743</td><td>403882</td><td>9976</td><td>5828</td><td>73</td></tr><tr><td>2020-04-03</td><td>0</td><td>443273</td><td>414303</td><td>10062</td><td>6021</td><td>74</td></tr><tr><td>2020-04-04</td><td>0</td><td>455032</td><td>424732</td><td>10156</td><td>6325</td><td>75</td></tr><tr><td>2020-04-05</td><td>0</td><td>461233</td><td>431425</td><td>10237</td><td>6463</td><td>76</td></tr><tr><td>2020-04-06</td><td>0</td><td>466804</td><td>437225</td><td>10284</td><td>6598</td><td>77</td></tr><tr><td>2020-04-07</td><td>0</td><td>477304</td><td>446323</td><td>10331</td><td>6694</td><td>78</td></tr><tr><td>2020-04-08</td><td>0</td><td>486003</td><td>457761</td><td>10384</td><td>6776</td><td>79</td></tr><tr><td>2020-04-09</td><td>0</td><td>494711</td><td>468779</td><td>10423</td><td>6973</td><td>80</td></tr><tr><td>2020-04-10</td><td>0</td><td>503051</td><td>477303</td><td>10450</td><td>7117</td><td>81</td></tr><tr><td>2020-04-11</td><td>0</td><td>510479</td><td>485929</td><td>10480</td><td>7243</td><td>82</td></tr><tr><td>2020-04-12</td><td>0</td><td>514621</td><td>490321</td><td>10512</td><td>7368</td><td>83</td></tr><tr><td>2020-04-13</td><td>0</td><td>518743</td><td>494815</td><td>10537</td><td>7447</td><td>84</td></tr><tr><td>2020-04-14</td><td>0</td><td>527438</td><td>502223</td><td>10564</td><td>7534</td><td>85</td></tr><tr><td>2020-04-15</td><td>0</td><td>534552</td><td>508935</td><td>10591</td><td>7616</td><td>86</td></tr><tr><td>2020-04-16</td><td>0</td><td>538775</td><td>513894</td><td>10613</td><td>7757</td><td>87</td></tr><tr><td>2020-04-17</td><td>0</td><td>546463</td><td>521642</td><td>10635</td><td>7829</td><td>88</td></tr><tr><td>2020-04-18</td><td>0</td><td>554834</td><td>530631</td><td>10653</td><td>7937</td><td>89</td></tr><tr><td>2020-04-19</td><td>0</td><td>559109</td><td>536205</td><td>10661</td><td>8042</td><td>90</td></tr><tr><td>2020-04-20</td><td>0</td><td>563035</td><td>540380</td><td>10674</td><td>8114</td><td>91</td></tr><tr><td>2020-04-21</td><td>0</td><td>571014</td><td>547610</td><td>10683</td><td>8213</td><td>92</td></tr><tr><td>2020-04-22</td><td>0</td><td>577959</td><td>555144</td><td>10694</td><td>8277</td><td>93</td></tr><tr><td>2020-04-23</td><td>0</td><td>583971</td><td>563130</td><td>10702</td><td>8411</td><td>94</td></tr><tr><td>2020-04-24</td><td>0</td><td>589520</td><td>569212</td><td>10708</td><td>8501</td><td>95</td></tr><tr><td>2020-04-25</td><td>0</td><td>595161</td><td>575184</td><td>10718</td><td>8635</td><td>96</td></tr><tr><td>2020-04-26</td><td>0</td><td>598285</td><td>578558</td><td>10728</td><td>8717</td><td>97</td></tr><tr><td>2020-04-27</td><td>0</td><td>601660</td><td>582027</td><td>10738</td><td>8764</td><td>98</td></tr><tr><td>2020-04-28</td><td>0</td><td>608514</td><td>588559</td><td>10752</td><td>8854</td><td>99</td></tr><tr><td>2020-04-29</td><td>0</td><td>614197</td><td>595129</td><td>10761</td><td>8922</td><td>100</td></tr><tr><td>2020-04-30</td><td>0</td><td>619881</td><td>600482</td><td>10765</td><td>9059</td><td>101</td></tr><tr><td>2020-05-01</td><td>0</td><td>623069</td><td>603610</td><td>10774</td><td>9072</td><td>102</td></tr><tr><td>2020-05-02</td><td>0</td><td>627562</td><td>608286</td><td>10780</td><td>9123</td><td>103</td></tr><tr><td>2020-05-03</td><td>0</td><td>630973</td><td>611592</td><td>10793</td><td>9183</td><td>104</td></tr><tr><td>2020-05-04</td><td>0</td><td>633921</td><td>614944</td><td>10801</td><td>9217</td><td>105</td></tr><tr><td>2020-05-05</td><td>0</td><td>640237</td><td>620575</td><td>10804</td><td>9283</td><td>106</td></tr><tr><td>2020-05-06</td><td>0</td><td>643095</td><td>624280</td><td>10806</td><td>9333</td><td>107</td></tr><tr><td>2020-05-07</td><td>0</td><td>649388</td><td>630149</td><td>10810</td><td>9419</td><td>108</td></tr><tr><td>2020-05-08</td><td>0</td><td>654863</td><td>635174</td><td>10822</td><td>9484</td><td>109</td></tr><tr><td>2020-05-09</td><td>0</td><td>660030</td><td>640037</td><td>10840</td><td>9568</td><td>110</td></tr><tr><td>2020-05-10</td><td>0</td><td>663886</td><td>642884</td><td>10874</td><td>9610</td><td>111</td></tr><tr><td>2020-05-11</td><td>0</td><td>668492</td><td>646661</td><td>10909</td><td>9632</td><td>112</td></tr><tr><td>2020-05-12</td><td>0</td><td>680890</td><td>653624</td><td>10936</td><td>9670</td><td>113</td></tr><tr><td>2020-05-13</td><td>0</td><td>695920</td><td>665379</td><td>10962</td><td>9695</td><td>114</td></tr><tr><td>2020-05-14</td><td>0</td><td>711484</td><td>679771</td><td>10991</td><td>9762</td><td>115</td></tr><tr><td>2020-05-15</td><td>0</td><td>726747</td><td>695854</td><td>11018</td><td>9821</td><td>116</td></tr><tr><td>2020-05-16</td><td>0</td><td>740645</td><td>711265</td><td>11037</td><td>9851</td><td>117</td></tr><tr><td>2020-05-17</td><td>0</td><td>747653</td><td>718943</td><td>11050</td><td>9888</td><td>118</td></tr><tr><td>2020-05-18</td><td>0</td><td>753211</td><td>726053</td><td>11065</td><td>9904</td><td>119</td></tr><tr><td>2020-05-19</td><td>0</td><td>765574</td><td>737571</td><td>11078</td><td>9938</td><td>120</td></tr><tr><td>2020-05-20</td><td>0</td><td>776433</td><td>748972</td><td>11110</td><td>10066</td><td>121</td></tr><tr><td>2020-05-21</td><td>0</td><td>788684</td><td>759473</td><td>11122</td><td>10135</td><td>122</td></tr><tr><td>2020-05-22</td><td>0</td><td>802418</td><td>770990</td><td>11142</td><td>10162</td><td>123</td></tr><tr><td>2020-05-23</td><td>0</td><td>814420</td><td>781686</td><td>11165</td><td>10194</td><td>124</td></tr><tr><td>2020-05-24</td><td>0</td><td>820289</td><td>788766</td><td>11190</td><td>10213</td><td>125</td></tr><tr><td>2020-05-25</td><td>0</td><td>826437</td><td>796142</td><td>11206</td><td>10226</td><td>126</td></tr><tr><td>2020-05-26</td><td>0</td><td>839475</td><td>806206</td><td>11225</td><td>10275</td><td>127</td></tr><tr><td>2020-05-27</td><td>0</td><td>852876</td><td>820550</td><td>11265</td><td>10295</td><td>128</td></tr><tr><td>2020-05-28</td><td>0</td><td>868666</td><td>834952</td><td>11344</td><td>10340</td><td>129</td></tr><tr><td>2020-05-29</td><td>0</td><td>885120</td><td>849161</td><td>11402</td><td>10363</td><td>130</td></tr><tr><td>2020-05-30</td><td>0</td><td>902901</td><td>865162</td><td>11441</td><td>10398</td><td>131</td></tr><tr><td>2020-05-31</td><td>0</td><td>910822</td><td>876060</td><td>11468</td><td>10405</td><td>132</td></tr><tr><td>2020-06-01</td><td>0</td><td>921391</td><td>885830</td><td>11503</td><td>10422</td><td>133</td></tr><tr><td>2020-06-02</td><td>0</td><td>939851</td><td>899388</td><td>11541</td><td>10446</td><td>134</td></tr><tr><td>2020-06-03</td><td>0</td><td>956852</td><td>917397</td><td>11590</td><td>10467</td><td>135</td></tr><tr><td>2020-06-04</td><td>0</td><td>973858</td><td>934030</td><td>11629</td><td>10499</td><td>136</td></tr><tr><td>2020-06-05</td><td>0</td><td>990960</td><td>950526</td><td>11668</td><td>10506</td><td>137</td></tr><tr><td>2020-06-06</td><td>0</td><td>1005305</td><td>965632</td><td>11719</td><td>10531</td><td>138</td></tr><tr><td>2020-06-07</td><td>0</td><td>1012769</td><td>974512</td><td>11776</td><td>10552</td><td>139</td></tr><tr><td>2020-06-08</td><td>0</td><td>1018214</td><td>982026</td><td>11814</td><td>10563</td><td>140</td></tr><tr><td>2020-06-09</td><td>0</td><td>1035997</td><td>996686</td><td>11852</td><td>10589</td><td>141</td></tr><tr><td>2020-06-10</td><td>0</td><td>1051972</td><td>1013847</td><td>11902</td><td>10611</td><td>142</td></tr><tr><td>2020-06-11</td><td>0</td><td>1066888</td><td>1029447</td><td>11947</td><td>10654</td><td>143</td></tr><tr><td>2020-06-12</td><td>0</td><td>1081487</td><td>1045240</td><td>12003</td><td>10669</td><td>144</td></tr><tr><td>2020-06-13</td><td>0</td><td>1094704</td><td>1059301</td><td>12051</td><td>10691</td><td>145</td></tr><tr><td>2020-06-14</td><td>0</td><td>1100328</td><td>1066887</td><td>12085</td><td>10718</td><td>146</td></tr><tr><td>2020-06-15</td><td>0</td><td>1105719</td><td>1072805</td><td>12121</td><td>10730</td><td>147</td></tr><tr><td>2020-06-16</td><td>0</td><td>1119767</td><td>1084980</td><td>12155</td><td>10760</td><td>148</td></tr><tr><td>2020-06-17</td><td>0</td><td>1132823</td><td>1099136</td><td>12198</td><td>10774</td><td>149</td></tr><tr><td>2020-06-18</td><td>0</td><td>1145712</td><td>1111741</td><td>12257</td><td>10800</td><td>150</td></tr><tr><td>2020-06-19</td><td>0</td><td>1158063</td><td>1124567</td><td>12306</td><td>10835</td><td>151</td></tr><tr><td>2020-06-20</td><td>0</td><td>1170901</td><td>1137058</td><td>12373</td><td>10856</td><td>152</td></tr><tr><td>2020-06-21</td><td>0</td><td>1176463</td><td>1143971</td><td>12421</td><td>10868</td><td>153</td></tr><tr><td>2020-06-22</td><td>0</td><td>1182066</td><td>1150225</td><td>12438</td><td>10881</td><td>154</td></tr><tr><td>2020-06-23</td><td>0</td><td>1196012</td><td>1161250</td><td>12484</td><td>10908</td><td>155</td></tr><tr><td>2020-06-24</td><td>0</td><td>1208597</td><td>1175817</td><td>12535</td><td>10930</td><td>156</td></tr><tr><td>2020-06-25</td><td>0</td><td>1220478</td><td>1189015</td><td>12563</td><td>10974</td><td>157</td></tr><tr><td>2020-06-26</td><td>0</td><td>1232315</td><td>1200885</td><td>12602</td><td>11172</td><td>158</td></tr><tr><td>2020-06-27</td><td>0</td><td>1243780</td><td>1211261</td><td>12653</td><td>11317</td><td>159</td></tr><tr><td>2020-06-28</td><td>0</td><td>1251695</td><td>1219975</td><td>12715</td><td>11364</td><td>160</td></tr><tr><td>2020-06-29</td><td>0</td><td>1259954</td><td>1228698</td><td>12757</td><td>11429</td><td>161</td></tr><tr><td>2020-06-30</td><td>0</td><td>1273766</td><td>1240157</td><td>12800</td><td>11537</td><td>162</td></tr></tbody></table></div>"
      ]
     },
     "metadata": {
      "application/vnd.databricks.v1+output": {
       "addedWidgets": {},
       "aggData": [],
       "aggError": "",
       "aggOverflow": false,
       "aggSchema": [],
       "aggSeriesLimitReached": false,
       "aggType": "",
       "arguments": {},
       "columnCustomDisplayInfos": {},
       "data": [
        [
         "2020-01-20",
         16,
         1,
         0,
         1,
         0,
         0
        ],
        [
         "2020-01-21",
         16,
         1,
         0,
         1,
         0,
         1
        ],
        [
         "2020-01-22",
         16,
         4,
         3,
         1,
         0,
         2
        ],
        [
         "2020-01-23",
         16,
         22,
         21,
         1,
         0,
         3
        ],
        [
         "2020-01-24",
         16,
         27,
         25,
         2,
         0,
         4
        ],
        [
         "2020-01-25",
         16,
         27,
         25,
         2,
         0,
         5
        ],
        [
         "2020-01-26",
         16,
         51,
         47,
         3,
         0,
         6
        ],
        [
         "2020-01-27",
         16,
         61,
         56,
         4,
         0,
         7
        ],
        [
         "2020-01-28",
         16,
         116,
         97,
         4,
         0,
         8
        ],
        [
         "2020-01-29",
         16,
         187,
         155,
         4,
         0,
         9
        ],
        [
         "2020-01-30",
         16,
         246,
         199,
         6,
         0,
         10
        ],
        [
         "2020-01-31",
         16,
         312,
         245,
         11,
         0,
         11
        ],
        [
         "2020-02-01",
         16,
         371,
         289,
         12,
         0,
         12
        ],
        [
         "2020-02-02",
         16,
         429,
         327,
         15,
         0,
         13
        ],
        [
         "2020-02-03",
         16,
         490,
         414,
         15,
         0,
         14
        ],
        [
         "2020-02-04",
         16,
         607,
         462,
         16,
         0,
         15
        ],
        [
         "2020-02-05",
         16,
         714,
         522,
         18,
         1,
         16
        ],
        [
         "2020-02-06",
         16,
         885,
         693,
         23,
         2,
         17
        ],
        [
         "2020-02-07",
         16,
         1352,
         1001,
         24,
         2,
         18
        ],
        [
         "2020-02-08",
         16,
         2097,
         1134,
         24,
         2,
         19
        ],
        [
         "2020-02-09",
         16,
         2598,
         1683,
         27,
         3,
         20
        ],
        [
         "2020-02-10",
         16,
         3110,
         2552,
         27,
         4,
         21
        ],
        [
         "2020-02-11",
         16,
         4325,
         3535,
         28,
         4,
         22
        ],
        [
         "2020-02-12",
         16,
         5624,
         4811,
         28,
         7,
         23
        ],
        [
         "2020-02-13",
         16,
         6511,
         5921,
         28,
         7,
         24
        ],
        [
         "2020-02-14",
         16,
         7242,
         6679,
         28,
         7,
         25
        ],
        [
         "2020-02-15",
         16,
         7734,
         7148,
         28,
         9,
         26
        ],
        [
         "2020-02-16",
         16,
         8161,
         7647,
         29,
         9,
         27
        ],
        [
         "2020-02-17",
         16,
         8718,
         7980,
         30,
         10,
         28
        ],
        [
         "2020-02-18",
         16,
         9772,
         8923,
         31,
         12,
         29
        ],
        [
         "2020-02-19",
         16,
         11173,
         9973,
         51,
         16,
         30
        ],
        [
         "2020-02-20",
         16,
         13202,
         11238,
         104,
         16,
         31
        ],
        [
         "2020-02-21",
         16,
         16400,
         13016,
         204,
         17,
         32
        ],
        [
         "2020-02-22",
         16,
         21586,
         15116,
         433,
         18,
         33
        ],
        [
         "2020-02-23",
         16,
         26179,
         17520,
         602,
         18,
         34
        ],
        [
         "2020-02-24",
         16,
         32756,
         20292,
         833,
         24,
         35
        ],
        [
         "2020-02-25",
         16,
         40304,
         25447,
         977,
         24,
         36
        ],
        [
         "2020-02-26",
         16,
         53553,
         31576,
         1261,
         24,
         37
        ],
        [
         "2020-02-27",
         16,
         66652,
         39318,
         1766,
         26,
         38
        ],
        [
         "2020-02-28",
         16,
         81167,
         48593,
         2337,
         27,
         39
        ],
        [
         "2020-02-29",
         16,
         94055,
         55723,
         3150,
         28,
         40
        ],
        [
         "2020-03-01",
         16,
         98921,
         61825,
         3736,
         30,
         41
        ],
        [
         "2020-03-02",
         0,
         109591,
         71580,
         4212,
         31,
         42
        ],
        [
         "2020-03-03",
         0,
         125851,
         85484,
         4812,
         34,
         43
        ],
        [
         "2020-03-04",
         0,
         136707,
         102965,
         5328,
         41,
         44
        ],
        [
         "2020-03-05",
         0,
         146541,
         118965,
         5766,
         88,
         45
        ],
        [
         "2020-03-06",
         0,
         164740,
         136624,
         6284,
         108,
         46
        ],
        [
         "2020-03-07",
         0,
         178189,
         151802,
         6767,
         118,
         47
        ],
        [
         "2020-03-08",
         0,
         188518,
         162008,
         7134,
         130,
         48
        ],
        [
         "2020-03-09",
         0,
         196618,
         171778,
         7382,
         166,
         49
        ],
        [
         "2020-03-10",
         0,
         210144,
         184179,
         7513,
         247,
         50
        ],
        [
         "2020-03-11",
         0,
         222395,
         196100,
         7755,
         288,
         51
        ],
        [
         "2020-03-12",
         0,
         234998,
         209402,
         7869,
         333,
         52
        ],
        [
         "2020-03-13",
         0,
         248647,
         222728,
         7979,
         510,
         53
        ],
        [
         "2020-03-14",
         0,
         261335,
         235615,
         8086,
         714,
         54
        ],
        [
         "2020-03-15",
         0,
         268212,
         243778,
         8126,
         834,
         55
        ],
        [
         "2020-03-16",
         0,
         274504,
         251297,
         8236,
         1137,
         56
        ],
        [
         "2020-03-17",
         0,
         286716,
         261105,
         8320,
         1401,
         57
        ],
        [
         "2020-03-18",
         0,
         295647,
         270888,
         8413,
         1540,
         58
        ],
        [
         "2020-03-19",
         0,
         307024,
         282555,
         8565,
         1947,
         59
        ],
        [
         "2020-03-20",
         0,
         316664,
         292487,
         8652,
         2233,
         60
        ],
        [
         "2020-03-21",
         0,
         327509,
         303006,
         8799,
         2612,
         61
        ],
        [
         "2020-03-22",
         0,
         331780,
         308343,
         8897,
         2909,
         62
        ],
        [
         "2020-03-23",
         0,
         338036,
         315447,
         8961,
         3166,
         63
        ],
        [
         "2020-03-24",
         0,
         348582,
         324105,
         9037,
         3507,
         64
        ],
        [
         "2020-03-25",
         0,
         357896,
         334481,
         9137,
         3730,
         65
        ],
        [
         "2020-03-26",
         0,
         364942,
         341332,
         9241,
         4144,
         66
        ],
        [
         "2020-03-27",
         0,
         376961,
         352410,
         9332,
         4528,
         67
        ],
        [
         "2020-03-28",
         0,
         387925,
         361883,
         9478,
         4811,
         68
        ],
        [
         "2020-03-29",
         0,
         394141,
         369530,
         9583,
         5033,
         69
        ],
        [
         "2020-03-30",
         0,
         395194,
         372002,
         9661,
         5228,
         70
        ],
        [
         "2020-03-31",
         0,
         410564,
         383886,
         9786,
         5408,
         71
        ],
        [
         "2020-04-01",
         0,
         421547,
         395075,
         9887,
         5567,
         72
        ],
        [
         "2020-04-02",
         0,
         431743,
         403882,
         9976,
         5828,
         73
        ],
        [
         "2020-04-03",
         0,
         443273,
         414303,
         10062,
         6021,
         74
        ],
        [
         "2020-04-04",
         0,
         455032,
         424732,
         10156,
         6325,
         75
        ],
        [
         "2020-04-05",
         0,
         461233,
         431425,
         10237,
         6463,
         76
        ],
        [
         "2020-04-06",
         0,
         466804,
         437225,
         10284,
         6598,
         77
        ],
        [
         "2020-04-07",
         0,
         477304,
         446323,
         10331,
         6694,
         78
        ],
        [
         "2020-04-08",
         0,
         486003,
         457761,
         10384,
         6776,
         79
        ],
        [
         "2020-04-09",
         0,
         494711,
         468779,
         10423,
         6973,
         80
        ],
        [
         "2020-04-10",
         0,
         503051,
         477303,
         10450,
         7117,
         81
        ],
        [
         "2020-04-11",
         0,
         510479,
         485929,
         10480,
         7243,
         82
        ],
        [
         "2020-04-12",
         0,
         514621,
         490321,
         10512,
         7368,
         83
        ],
        [
         "2020-04-13",
         0,
         518743,
         494815,
         10537,
         7447,
         84
        ],
        [
         "2020-04-14",
         0,
         527438,
         502223,
         10564,
         7534,
         85
        ],
        [
         "2020-04-15",
         0,
         534552,
         508935,
         10591,
         7616,
         86
        ],
        [
         "2020-04-16",
         0,
         538775,
         513894,
         10613,
         7757,
         87
        ],
        [
         "2020-04-17",
         0,
         546463,
         521642,
         10635,
         7829,
         88
        ],
        [
         "2020-04-18",
         0,
         554834,
         530631,
         10653,
         7937,
         89
        ],
        [
         "2020-04-19",
         0,
         559109,
         536205,
         10661,
         8042,
         90
        ],
        [
         "2020-04-20",
         0,
         563035,
         540380,
         10674,
         8114,
         91
        ],
        [
         "2020-04-21",
         0,
         571014,
         547610,
         10683,
         8213,
         92
        ],
        [
         "2020-04-22",
         0,
         577959,
         555144,
         10694,
         8277,
         93
        ],
        [
         "2020-04-23",
         0,
         583971,
         563130,
         10702,
         8411,
         94
        ],
        [
         "2020-04-24",
         0,
         589520,
         569212,
         10708,
         8501,
         95
        ],
        [
         "2020-04-25",
         0,
         595161,
         575184,
         10718,
         8635,
         96
        ],
        [
         "2020-04-26",
         0,
         598285,
         578558,
         10728,
         8717,
         97
        ],
        [
         "2020-04-27",
         0,
         601660,
         582027,
         10738,
         8764,
         98
        ],
        [
         "2020-04-28",
         0,
         608514,
         588559,
         10752,
         8854,
         99
        ],
        [
         "2020-04-29",
         0,
         614197,
         595129,
         10761,
         8922,
         100
        ],
        [
         "2020-04-30",
         0,
         619881,
         600482,
         10765,
         9059,
         101
        ],
        [
         "2020-05-01",
         0,
         623069,
         603610,
         10774,
         9072,
         102
        ],
        [
         "2020-05-02",
         0,
         627562,
         608286,
         10780,
         9123,
         103
        ],
        [
         "2020-05-03",
         0,
         630973,
         611592,
         10793,
         9183,
         104
        ],
        [
         "2020-05-04",
         0,
         633921,
         614944,
         10801,
         9217,
         105
        ],
        [
         "2020-05-05",
         0,
         640237,
         620575,
         10804,
         9283,
         106
        ],
        [
         "2020-05-06",
         0,
         643095,
         624280,
         10806,
         9333,
         107
        ],
        [
         "2020-05-07",
         0,
         649388,
         630149,
         10810,
         9419,
         108
        ],
        [
         "2020-05-08",
         0,
         654863,
         635174,
         10822,
         9484,
         109
        ],
        [
         "2020-05-09",
         0,
         660030,
         640037,
         10840,
         9568,
         110
        ],
        [
         "2020-05-10",
         0,
         663886,
         642884,
         10874,
         9610,
         111
        ],
        [
         "2020-05-11",
         0,
         668492,
         646661,
         10909,
         9632,
         112
        ],
        [
         "2020-05-12",
         0,
         680890,
         653624,
         10936,
         9670,
         113
        ],
        [
         "2020-05-13",
         0,
         695920,
         665379,
         10962,
         9695,
         114
        ],
        [
         "2020-05-14",
         0,
         711484,
         679771,
         10991,
         9762,
         115
        ],
        [
         "2020-05-15",
         0,
         726747,
         695854,
         11018,
         9821,
         116
        ],
        [
         "2020-05-16",
         0,
         740645,
         711265,
         11037,
         9851,
         117
        ],
        [
         "2020-05-17",
         0,
         747653,
         718943,
         11050,
         9888,
         118
        ],
        [
         "2020-05-18",
         0,
         753211,
         726053,
         11065,
         9904,
         119
        ],
        [
         "2020-05-19",
         0,
         765574,
         737571,
         11078,
         9938,
         120
        ],
        [
         "2020-05-20",
         0,
         776433,
         748972,
         11110,
         10066,
         121
        ],
        [
         "2020-05-21",
         0,
         788684,
         759473,
         11122,
         10135,
         122
        ],
        [
         "2020-05-22",
         0,
         802418,
         770990,
         11142,
         10162,
         123
        ],
        [
         "2020-05-23",
         0,
         814420,
         781686,
         11165,
         10194,
         124
        ],
        [
         "2020-05-24",
         0,
         820289,
         788766,
         11190,
         10213,
         125
        ],
        [
         "2020-05-25",
         0,
         826437,
         796142,
         11206,
         10226,
         126
        ],
        [
         "2020-05-26",
         0,
         839475,
         806206,
         11225,
         10275,
         127
        ],
        [
         "2020-05-27",
         0,
         852876,
         820550,
         11265,
         10295,
         128
        ],
        [
         "2020-05-28",
         0,
         868666,
         834952,
         11344,
         10340,
         129
        ],
        [
         "2020-05-29",
         0,
         885120,
         849161,
         11402,
         10363,
         130
        ],
        [
         "2020-05-30",
         0,
         902901,
         865162,
         11441,
         10398,
         131
        ],
        [
         "2020-05-31",
         0,
         910822,
         876060,
         11468,
         10405,
         132
        ],
        [
         "2020-06-01",
         0,
         921391,
         885830,
         11503,
         10422,
         133
        ],
        [
         "2020-06-02",
         0,
         939851,
         899388,
         11541,
         10446,
         134
        ],
        [
         "2020-06-03",
         0,
         956852,
         917397,
         11590,
         10467,
         135
        ],
        [
         "2020-06-04",
         0,
         973858,
         934030,
         11629,
         10499,
         136
        ],
        [
         "2020-06-05",
         0,
         990960,
         950526,
         11668,
         10506,
         137
        ],
        [
         "2020-06-06",
         0,
         1005305,
         965632,
         11719,
         10531,
         138
        ],
        [
         "2020-06-07",
         0,
         1012769,
         974512,
         11776,
         10552,
         139
        ],
        [
         "2020-06-08",
         0,
         1018214,
         982026,
         11814,
         10563,
         140
        ],
        [
         "2020-06-09",
         0,
         1035997,
         996686,
         11852,
         10589,
         141
        ],
        [
         "2020-06-10",
         0,
         1051972,
         1013847,
         11902,
         10611,
         142
        ],
        [
         "2020-06-11",
         0,
         1066888,
         1029447,
         11947,
         10654,
         143
        ],
        [
         "2020-06-12",
         0,
         1081487,
         1045240,
         12003,
         10669,
         144
        ],
        [
         "2020-06-13",
         0,
         1094704,
         1059301,
         12051,
         10691,
         145
        ],
        [
         "2020-06-14",
         0,
         1100328,
         1066887,
         12085,
         10718,
         146
        ],
        [
         "2020-06-15",
         0,
         1105719,
         1072805,
         12121,
         10730,
         147
        ],
        [
         "2020-06-16",
         0,
         1119767,
         1084980,
         12155,
         10760,
         148
        ],
        [
         "2020-06-17",
         0,
         1132823,
         1099136,
         12198,
         10774,
         149
        ],
        [
         "2020-06-18",
         0,
         1145712,
         1111741,
         12257,
         10800,
         150
        ],
        [
         "2020-06-19",
         0,
         1158063,
         1124567,
         12306,
         10835,
         151
        ],
        [
         "2020-06-20",
         0,
         1170901,
         1137058,
         12373,
         10856,
         152
        ],
        [
         "2020-06-21",
         0,
         1176463,
         1143971,
         12421,
         10868,
         153
        ],
        [
         "2020-06-22",
         0,
         1182066,
         1150225,
         12438,
         10881,
         154
        ],
        [
         "2020-06-23",
         0,
         1196012,
         1161250,
         12484,
         10908,
         155
        ],
        [
         "2020-06-24",
         0,
         1208597,
         1175817,
         12535,
         10930,
         156
        ],
        [
         "2020-06-25",
         0,
         1220478,
         1189015,
         12563,
         10974,
         157
        ],
        [
         "2020-06-26",
         0,
         1232315,
         1200885,
         12602,
         11172,
         158
        ],
        [
         "2020-06-27",
         0,
         1243780,
         1211261,
         12653,
         11317,
         159
        ],
        [
         "2020-06-28",
         0,
         1251695,
         1219975,
         12715,
         11364,
         160
        ],
        [
         "2020-06-29",
         0,
         1259954,
         1228698,
         12757,
         11429,
         161
        ],
        [
         "2020-06-30",
         0,
         1273766,
         1240157,
         12800,
         11537,
         162
        ]
       ],
       "datasetInfos": [],
       "dbfsResultPath": null,
       "isJsonSchema": true,
       "metadata": {},
       "overflow": false,
       "plotOptions": {
        "customPlotOptions": {},
        "displayType": "table",
        "pivotAggregation": null,
        "pivotColumns": null,
        "xColumns": null,
        "yColumns": null
       },
       "removedWidgets": [],
       "schema": [
        {
         "metadata": "{\"__detected_date_formats\":\"yyyy-M-d\"}",
         "name": "date",
         "type": "\"date\""
        },
        {
         "metadata": "{}",
         "name": "time",
         "type": "\"integer\""
        },
        {
         "metadata": "{}",
         "name": "test",
         "type": "\"integer\""
        },
        {
         "metadata": "{}",
         "name": "negative",
         "type": "\"integer\""
        },
        {
         "metadata": "{}",
         "name": "confirmed",
         "type": "\"integer\""
        },
        {
         "metadata": "{}",
         "name": "released",
         "type": "\"integer\""
        },
        {
         "metadata": "{}",
         "name": "index",
         "type": "\"long\""
        }
       ],
       "type": "table"
      }
     },
     "output_type": "display_data"
    }
   ],
   "source": [
    "@feature_store.feature_table\n",
    "def select_features(dataframe):\n",
    "  return dataframe.select(columns)\n",
    "\n",
    "\n",
    "covid_features_df = select_features(covid_df)\n",
    "display(covid_features_df)"
   ]
  },
  {
   "cell_type": "markdown",
   "metadata": {
    "application/vnd.databricks.v1+cell": {
     "cellMetadata": {},
     "inputWidgets": {},
     "nuid": "bf2dc775-f33f-4fa1-a78e-06ffe407ec2c",
     "showTitle": false,
     "title": "--i18n-d3892ba8-77ca-403f-869f-a6e0b0706555"
    }
   },
   "source": [
    "\n",
    "\n",
    "\n",
    "## Create Feature Table\n",
    "\n",
    "Now that we have our features ready, complete the cell below to create our feature table.\n",
    "\n",
    "Make sure to set the name to the **`table_name`** we defined above.\n",
    "\n",
    "**NOTE:** The primary key needs to be defined in a list as follows: [\"primary key name\"]"
   ]
  },
  {
   "cell_type": "code",
   "execution_count": 0,
   "metadata": {
    "application/vnd.databricks.v1+cell": {
     "cellMetadata": {
      "byteLimit": 2048000,
      "rowLimit": 10000
     },
     "inputWidgets": {},
     "nuid": "4dd149bf-fe1c-4a97-8632-320198f74b92",
     "showTitle": false,
     "title": ""
    }
   },
   "outputs": [
    {
     "output_type": "stream",
     "name": "stderr",
     "output_type": "stream",
     "text": [
      "2024/03/01 16:45:38 INFO databricks.feature_store._compute_client._compute_client: Created feature table 'hive_metastore.charlie_ohara_4mi2_da_sml.coronavirus'.\n/databricks/python/lib/python3.9/site-packages/databricks/feature_store/entities/_feature_store_object.py:8: FutureWarning: ``databricks.feature_store.entities.feature_table.FeatureTable.keys`` is deprecated since v0.3.6. This method will be removed in a future release. Use ``FeatureTable.primary_keys`` instead.\n  yield prop, self.__getattribute__(prop)\n"
     ]
    },
    {
     "output_type": "stream",
     "name": "stdout",
     "output_type": "stream",
     "text": [
      "Out[11]: <FeatureTable: keys=['index'], tags={}>"
     ]
    }
   ],
   "source": [
    "\n",
    "fs.create_table(\n",
    "    name=table_name,\n",
    "    primary_keys=[\"index\"],\n",
    "    df=covid_features_df,\n",
    "    schema=covid_features_df.schema,\n",
    "    description=\"lab\"\n",
    ")"
   ]
  },
  {
   "cell_type": "markdown",
   "metadata": {
    "application/vnd.databricks.v1+cell": {
     "cellMetadata": {},
     "inputWidgets": {},
     "nuid": "b3d2d9b0-0646-4177-8bf9-c156aa36c3bc",
     "showTitle": false,
     "title": "--i18n-a7a6fb53-a77d-465b-b9bd-1671e3afbbd6"
    }
   },
   "source": [
    "\n",
    "\n",
    "\n",
    "## Update Feature Table\n",
    "\n",
    "Imagine now that we wanted to add separate columns for the month and day of the date for each entry. \n",
    "\n",
    "Rather than recompute the table with these values, we just want to append these new columns to the existing table. \n",
    "\n",
    "First, let's create columns for the month and day."
   ]
  },
  {
   "cell_type": "code",
   "execution_count": 0,
   "metadata": {
    "application/vnd.databricks.v1+cell": {
     "cellMetadata": {
      "byteLimit": 2048000,
      "rowLimit": 10000
     },
     "inputWidgets": {},
     "nuid": "09c18141-918d-46a9-acae-608b3e33c7a4",
     "showTitle": false,
     "title": ""
    }
   },
   "outputs": [
    {
     "output_type": "display_data",
     "data": {
      "text/html": [
       "<style scoped>\n",
       "  .table-result-container {\n",
       "    max-height: 300px;\n",
       "    overflow: auto;\n",
       "  }\n",
       "  table, th, td {\n",
       "    border: 1px solid black;\n",
       "    border-collapse: collapse;\n",
       "  }\n",
       "  th, td {\n",
       "    padding: 5px;\n",
       "  }\n",
       "  th {\n",
       "    text-align: left;\n",
       "  }\n",
       "</style><div class='table-result-container'><table class='table-result'><thead style='background-color: white'><tr><th>date</th><th>index</th><th>month</th><th>day</th></tr></thead><tbody><tr><td>2020-01-20</td><td>0</td><td>1</td><td>20</td></tr><tr><td>2020-01-21</td><td>1</td><td>1</td><td>21</td></tr><tr><td>2020-01-22</td><td>2</td><td>1</td><td>22</td></tr><tr><td>2020-01-23</td><td>3</td><td>1</td><td>23</td></tr><tr><td>2020-01-24</td><td>4</td><td>1</td><td>24</td></tr><tr><td>2020-01-25</td><td>5</td><td>1</td><td>25</td></tr><tr><td>2020-01-26</td><td>6</td><td>1</td><td>26</td></tr><tr><td>2020-01-27</td><td>7</td><td>1</td><td>27</td></tr><tr><td>2020-01-28</td><td>8</td><td>1</td><td>28</td></tr><tr><td>2020-01-29</td><td>9</td><td>1</td><td>29</td></tr><tr><td>2020-01-30</td><td>10</td><td>1</td><td>30</td></tr><tr><td>2020-01-31</td><td>11</td><td>1</td><td>31</td></tr><tr><td>2020-02-01</td><td>12</td><td>2</td><td>1</td></tr><tr><td>2020-02-02</td><td>13</td><td>2</td><td>2</td></tr><tr><td>2020-02-03</td><td>14</td><td>2</td><td>3</td></tr><tr><td>2020-02-04</td><td>15</td><td>2</td><td>4</td></tr><tr><td>2020-02-05</td><td>16</td><td>2</td><td>5</td></tr><tr><td>2020-02-06</td><td>17</td><td>2</td><td>6</td></tr><tr><td>2020-02-07</td><td>18</td><td>2</td><td>7</td></tr><tr><td>2020-02-08</td><td>19</td><td>2</td><td>8</td></tr><tr><td>2020-02-09</td><td>20</td><td>2</td><td>9</td></tr><tr><td>2020-02-10</td><td>21</td><td>2</td><td>10</td></tr><tr><td>2020-02-11</td><td>22</td><td>2</td><td>11</td></tr><tr><td>2020-02-12</td><td>23</td><td>2</td><td>12</td></tr><tr><td>2020-02-13</td><td>24</td><td>2</td><td>13</td></tr><tr><td>2020-02-14</td><td>25</td><td>2</td><td>14</td></tr><tr><td>2020-02-15</td><td>26</td><td>2</td><td>15</td></tr><tr><td>2020-02-16</td><td>27</td><td>2</td><td>16</td></tr><tr><td>2020-02-17</td><td>28</td><td>2</td><td>17</td></tr><tr><td>2020-02-18</td><td>29</td><td>2</td><td>18</td></tr><tr><td>2020-02-19</td><td>30</td><td>2</td><td>19</td></tr><tr><td>2020-02-20</td><td>31</td><td>2</td><td>20</td></tr><tr><td>2020-02-21</td><td>32</td><td>2</td><td>21</td></tr><tr><td>2020-02-22</td><td>33</td><td>2</td><td>22</td></tr><tr><td>2020-02-23</td><td>34</td><td>2</td><td>23</td></tr><tr><td>2020-02-24</td><td>35</td><td>2</td><td>24</td></tr><tr><td>2020-02-25</td><td>36</td><td>2</td><td>25</td></tr><tr><td>2020-02-26</td><td>37</td><td>2</td><td>26</td></tr><tr><td>2020-02-27</td><td>38</td><td>2</td><td>27</td></tr><tr><td>2020-02-28</td><td>39</td><td>2</td><td>28</td></tr><tr><td>2020-02-29</td><td>40</td><td>2</td><td>29</td></tr><tr><td>2020-03-01</td><td>41</td><td>3</td><td>1</td></tr><tr><td>2020-03-02</td><td>42</td><td>3</td><td>2</td></tr><tr><td>2020-03-03</td><td>43</td><td>3</td><td>3</td></tr><tr><td>2020-03-04</td><td>44</td><td>3</td><td>4</td></tr><tr><td>2020-03-05</td><td>45</td><td>3</td><td>5</td></tr><tr><td>2020-03-06</td><td>46</td><td>3</td><td>6</td></tr><tr><td>2020-03-07</td><td>47</td><td>3</td><td>7</td></tr><tr><td>2020-03-08</td><td>48</td><td>3</td><td>8</td></tr><tr><td>2020-03-09</td><td>49</td><td>3</td><td>9</td></tr><tr><td>2020-03-10</td><td>50</td><td>3</td><td>10</td></tr><tr><td>2020-03-11</td><td>51</td><td>3</td><td>11</td></tr><tr><td>2020-03-12</td><td>52</td><td>3</td><td>12</td></tr><tr><td>2020-03-13</td><td>53</td><td>3</td><td>13</td></tr><tr><td>2020-03-14</td><td>54</td><td>3</td><td>14</td></tr><tr><td>2020-03-15</td><td>55</td><td>3</td><td>15</td></tr><tr><td>2020-03-16</td><td>56</td><td>3</td><td>16</td></tr><tr><td>2020-03-17</td><td>57</td><td>3</td><td>17</td></tr><tr><td>2020-03-18</td><td>58</td><td>3</td><td>18</td></tr><tr><td>2020-03-19</td><td>59</td><td>3</td><td>19</td></tr><tr><td>2020-03-20</td><td>60</td><td>3</td><td>20</td></tr><tr><td>2020-03-21</td><td>61</td><td>3</td><td>21</td></tr><tr><td>2020-03-22</td><td>62</td><td>3</td><td>22</td></tr><tr><td>2020-03-23</td><td>63</td><td>3</td><td>23</td></tr><tr><td>2020-03-24</td><td>64</td><td>3</td><td>24</td></tr><tr><td>2020-03-25</td><td>65</td><td>3</td><td>25</td></tr><tr><td>2020-03-26</td><td>66</td><td>3</td><td>26</td></tr><tr><td>2020-03-27</td><td>67</td><td>3</td><td>27</td></tr><tr><td>2020-03-28</td><td>68</td><td>3</td><td>28</td></tr><tr><td>2020-03-29</td><td>69</td><td>3</td><td>29</td></tr><tr><td>2020-03-30</td><td>70</td><td>3</td><td>30</td></tr><tr><td>2020-03-31</td><td>71</td><td>3</td><td>31</td></tr><tr><td>2020-04-01</td><td>72</td><td>4</td><td>1</td></tr><tr><td>2020-04-02</td><td>73</td><td>4</td><td>2</td></tr><tr><td>2020-04-03</td><td>74</td><td>4</td><td>3</td></tr><tr><td>2020-04-04</td><td>75</td><td>4</td><td>4</td></tr><tr><td>2020-04-05</td><td>76</td><td>4</td><td>5</td></tr><tr><td>2020-04-06</td><td>77</td><td>4</td><td>6</td></tr><tr><td>2020-04-07</td><td>78</td><td>4</td><td>7</td></tr><tr><td>2020-04-08</td><td>79</td><td>4</td><td>8</td></tr><tr><td>2020-04-09</td><td>80</td><td>4</td><td>9</td></tr><tr><td>2020-04-10</td><td>81</td><td>4</td><td>10</td></tr><tr><td>2020-04-11</td><td>82</td><td>4</td><td>11</td></tr><tr><td>2020-04-12</td><td>83</td><td>4</td><td>12</td></tr><tr><td>2020-04-13</td><td>84</td><td>4</td><td>13</td></tr><tr><td>2020-04-14</td><td>85</td><td>4</td><td>14</td></tr><tr><td>2020-04-15</td><td>86</td><td>4</td><td>15</td></tr><tr><td>2020-04-16</td><td>87</td><td>4</td><td>16</td></tr><tr><td>2020-04-17</td><td>88</td><td>4</td><td>17</td></tr><tr><td>2020-04-18</td><td>89</td><td>4</td><td>18</td></tr><tr><td>2020-04-19</td><td>90</td><td>4</td><td>19</td></tr><tr><td>2020-04-20</td><td>91</td><td>4</td><td>20</td></tr><tr><td>2020-04-21</td><td>92</td><td>4</td><td>21</td></tr><tr><td>2020-04-22</td><td>93</td><td>4</td><td>22</td></tr><tr><td>2020-04-23</td><td>94</td><td>4</td><td>23</td></tr><tr><td>2020-04-24</td><td>95</td><td>4</td><td>24</td></tr><tr><td>2020-04-25</td><td>96</td><td>4</td><td>25</td></tr><tr><td>2020-04-26</td><td>97</td><td>4</td><td>26</td></tr><tr><td>2020-04-27</td><td>98</td><td>4</td><td>27</td></tr><tr><td>2020-04-28</td><td>99</td><td>4</td><td>28</td></tr><tr><td>2020-04-29</td><td>100</td><td>4</td><td>29</td></tr><tr><td>2020-04-30</td><td>101</td><td>4</td><td>30</td></tr><tr><td>2020-05-01</td><td>102</td><td>5</td><td>1</td></tr><tr><td>2020-05-02</td><td>103</td><td>5</td><td>2</td></tr><tr><td>2020-05-03</td><td>104</td><td>5</td><td>3</td></tr><tr><td>2020-05-04</td><td>105</td><td>5</td><td>4</td></tr><tr><td>2020-05-05</td><td>106</td><td>5</td><td>5</td></tr><tr><td>2020-05-06</td><td>107</td><td>5</td><td>6</td></tr><tr><td>2020-05-07</td><td>108</td><td>5</td><td>7</td></tr><tr><td>2020-05-08</td><td>109</td><td>5</td><td>8</td></tr><tr><td>2020-05-09</td><td>110</td><td>5</td><td>9</td></tr><tr><td>2020-05-10</td><td>111</td><td>5</td><td>10</td></tr><tr><td>2020-05-11</td><td>112</td><td>5</td><td>11</td></tr><tr><td>2020-05-12</td><td>113</td><td>5</td><td>12</td></tr><tr><td>2020-05-13</td><td>114</td><td>5</td><td>13</td></tr><tr><td>2020-05-14</td><td>115</td><td>5</td><td>14</td></tr><tr><td>2020-05-15</td><td>116</td><td>5</td><td>15</td></tr><tr><td>2020-05-16</td><td>117</td><td>5</td><td>16</td></tr><tr><td>2020-05-17</td><td>118</td><td>5</td><td>17</td></tr><tr><td>2020-05-18</td><td>119</td><td>5</td><td>18</td></tr><tr><td>2020-05-19</td><td>120</td><td>5</td><td>19</td></tr><tr><td>2020-05-20</td><td>121</td><td>5</td><td>20</td></tr><tr><td>2020-05-21</td><td>122</td><td>5</td><td>21</td></tr><tr><td>2020-05-22</td><td>123</td><td>5</td><td>22</td></tr><tr><td>2020-05-23</td><td>124</td><td>5</td><td>23</td></tr><tr><td>2020-05-24</td><td>125</td><td>5</td><td>24</td></tr><tr><td>2020-05-25</td><td>126</td><td>5</td><td>25</td></tr><tr><td>2020-05-26</td><td>127</td><td>5</td><td>26</td></tr><tr><td>2020-05-27</td><td>128</td><td>5</td><td>27</td></tr><tr><td>2020-05-28</td><td>129</td><td>5</td><td>28</td></tr><tr><td>2020-05-29</td><td>130</td><td>5</td><td>29</td></tr><tr><td>2020-05-30</td><td>131</td><td>5</td><td>30</td></tr><tr><td>2020-05-31</td><td>132</td><td>5</td><td>31</td></tr><tr><td>2020-06-01</td><td>133</td><td>6</td><td>1</td></tr><tr><td>2020-06-02</td><td>134</td><td>6</td><td>2</td></tr><tr><td>2020-06-03</td><td>135</td><td>6</td><td>3</td></tr><tr><td>2020-06-04</td><td>136</td><td>6</td><td>4</td></tr><tr><td>2020-06-05</td><td>137</td><td>6</td><td>5</td></tr><tr><td>2020-06-06</td><td>138</td><td>6</td><td>6</td></tr><tr><td>2020-06-07</td><td>139</td><td>6</td><td>7</td></tr><tr><td>2020-06-08</td><td>140</td><td>6</td><td>8</td></tr><tr><td>2020-06-09</td><td>141</td><td>6</td><td>9</td></tr><tr><td>2020-06-10</td><td>142</td><td>6</td><td>10</td></tr><tr><td>2020-06-11</td><td>143</td><td>6</td><td>11</td></tr><tr><td>2020-06-12</td><td>144</td><td>6</td><td>12</td></tr><tr><td>2020-06-13</td><td>145</td><td>6</td><td>13</td></tr><tr><td>2020-06-14</td><td>146</td><td>6</td><td>14</td></tr><tr><td>2020-06-15</td><td>147</td><td>6</td><td>15</td></tr><tr><td>2020-06-16</td><td>148</td><td>6</td><td>16</td></tr><tr><td>2020-06-17</td><td>149</td><td>6</td><td>17</td></tr><tr><td>2020-06-18</td><td>150</td><td>6</td><td>18</td></tr><tr><td>2020-06-19</td><td>151</td><td>6</td><td>19</td></tr><tr><td>2020-06-20</td><td>152</td><td>6</td><td>20</td></tr><tr><td>2020-06-21</td><td>153</td><td>6</td><td>21</td></tr><tr><td>2020-06-22</td><td>154</td><td>6</td><td>22</td></tr><tr><td>2020-06-23</td><td>155</td><td>6</td><td>23</td></tr><tr><td>2020-06-24</td><td>156</td><td>6</td><td>24</td></tr><tr><td>2020-06-25</td><td>157</td><td>6</td><td>25</td></tr><tr><td>2020-06-26</td><td>158</td><td>6</td><td>26</td></tr><tr><td>2020-06-27</td><td>159</td><td>6</td><td>27</td></tr><tr><td>2020-06-28</td><td>160</td><td>6</td><td>28</td></tr><tr><td>2020-06-29</td><td>161</td><td>6</td><td>29</td></tr><tr><td>2020-06-30</td><td>162</td><td>6</td><td>30</td></tr></tbody></table></div>"
      ]
     },
     "metadata": {
      "application/vnd.databricks.v1+output": {
       "addedWidgets": {},
       "aggData": [],
       "aggError": "",
       "aggOverflow": false,
       "aggSchema": [],
       "aggSeriesLimitReached": false,
       "aggType": "",
       "arguments": {},
       "columnCustomDisplayInfos": {},
       "data": [
        [
         "2020-01-20",
         0,
         1,
         20
        ],
        [
         "2020-01-21",
         1,
         1,
         21
        ],
        [
         "2020-01-22",
         2,
         1,
         22
        ],
        [
         "2020-01-23",
         3,
         1,
         23
        ],
        [
         "2020-01-24",
         4,
         1,
         24
        ],
        [
         "2020-01-25",
         5,
         1,
         25
        ],
        [
         "2020-01-26",
         6,
         1,
         26
        ],
        [
         "2020-01-27",
         7,
         1,
         27
        ],
        [
         "2020-01-28",
         8,
         1,
         28
        ],
        [
         "2020-01-29",
         9,
         1,
         29
        ],
        [
         "2020-01-30",
         10,
         1,
         30
        ],
        [
         "2020-01-31",
         11,
         1,
         31
        ],
        [
         "2020-02-01",
         12,
         2,
         1
        ],
        [
         "2020-02-02",
         13,
         2,
         2
        ],
        [
         "2020-02-03",
         14,
         2,
         3
        ],
        [
         "2020-02-04",
         15,
         2,
         4
        ],
        [
         "2020-02-05",
         16,
         2,
         5
        ],
        [
         "2020-02-06",
         17,
         2,
         6
        ],
        [
         "2020-02-07",
         18,
         2,
         7
        ],
        [
         "2020-02-08",
         19,
         2,
         8
        ],
        [
         "2020-02-09",
         20,
         2,
         9
        ],
        [
         "2020-02-10",
         21,
         2,
         10
        ],
        [
         "2020-02-11",
         22,
         2,
         11
        ],
        [
         "2020-02-12",
         23,
         2,
         12
        ],
        [
         "2020-02-13",
         24,
         2,
         13
        ],
        [
         "2020-02-14",
         25,
         2,
         14
        ],
        [
         "2020-02-15",
         26,
         2,
         15
        ],
        [
         "2020-02-16",
         27,
         2,
         16
        ],
        [
         "2020-02-17",
         28,
         2,
         17
        ],
        [
         "2020-02-18",
         29,
         2,
         18
        ],
        [
         "2020-02-19",
         30,
         2,
         19
        ],
        [
         "2020-02-20",
         31,
         2,
         20
        ],
        [
         "2020-02-21",
         32,
         2,
         21
        ],
        [
         "2020-02-22",
         33,
         2,
         22
        ],
        [
         "2020-02-23",
         34,
         2,
         23
        ],
        [
         "2020-02-24",
         35,
         2,
         24
        ],
        [
         "2020-02-25",
         36,
         2,
         25
        ],
        [
         "2020-02-26",
         37,
         2,
         26
        ],
        [
         "2020-02-27",
         38,
         2,
         27
        ],
        [
         "2020-02-28",
         39,
         2,
         28
        ],
        [
         "2020-02-29",
         40,
         2,
         29
        ],
        [
         "2020-03-01",
         41,
         3,
         1
        ],
        [
         "2020-03-02",
         42,
         3,
         2
        ],
        [
         "2020-03-03",
         43,
         3,
         3
        ],
        [
         "2020-03-04",
         44,
         3,
         4
        ],
        [
         "2020-03-05",
         45,
         3,
         5
        ],
        [
         "2020-03-06",
         46,
         3,
         6
        ],
        [
         "2020-03-07",
         47,
         3,
         7
        ],
        [
         "2020-03-08",
         48,
         3,
         8
        ],
        [
         "2020-03-09",
         49,
         3,
         9
        ],
        [
         "2020-03-10",
         50,
         3,
         10
        ],
        [
         "2020-03-11",
         51,
         3,
         11
        ],
        [
         "2020-03-12",
         52,
         3,
         12
        ],
        [
         "2020-03-13",
         53,
         3,
         13
        ],
        [
         "2020-03-14",
         54,
         3,
         14
        ],
        [
         "2020-03-15",
         55,
         3,
         15
        ],
        [
         "2020-03-16",
         56,
         3,
         16
        ],
        [
         "2020-03-17",
         57,
         3,
         17
        ],
        [
         "2020-03-18",
         58,
         3,
         18
        ],
        [
         "2020-03-19",
         59,
         3,
         19
        ],
        [
         "2020-03-20",
         60,
         3,
         20
        ],
        [
         "2020-03-21",
         61,
         3,
         21
        ],
        [
         "2020-03-22",
         62,
         3,
         22
        ],
        [
         "2020-03-23",
         63,
         3,
         23
        ],
        [
         "2020-03-24",
         64,
         3,
         24
        ],
        [
         "2020-03-25",
         65,
         3,
         25
        ],
        [
         "2020-03-26",
         66,
         3,
         26
        ],
        [
         "2020-03-27",
         67,
         3,
         27
        ],
        [
         "2020-03-28",
         68,
         3,
         28
        ],
        [
         "2020-03-29",
         69,
         3,
         29
        ],
        [
         "2020-03-30",
         70,
         3,
         30
        ],
        [
         "2020-03-31",
         71,
         3,
         31
        ],
        [
         "2020-04-01",
         72,
         4,
         1
        ],
        [
         "2020-04-02",
         73,
         4,
         2
        ],
        [
         "2020-04-03",
         74,
         4,
         3
        ],
        [
         "2020-04-04",
         75,
         4,
         4
        ],
        [
         "2020-04-05",
         76,
         4,
         5
        ],
        [
         "2020-04-06",
         77,
         4,
         6
        ],
        [
         "2020-04-07",
         78,
         4,
         7
        ],
        [
         "2020-04-08",
         79,
         4,
         8
        ],
        [
         "2020-04-09",
         80,
         4,
         9
        ],
        [
         "2020-04-10",
         81,
         4,
         10
        ],
        [
         "2020-04-11",
         82,
         4,
         11
        ],
        [
         "2020-04-12",
         83,
         4,
         12
        ],
        [
         "2020-04-13",
         84,
         4,
         13
        ],
        [
         "2020-04-14",
         85,
         4,
         14
        ],
        [
         "2020-04-15",
         86,
         4,
         15
        ],
        [
         "2020-04-16",
         87,
         4,
         16
        ],
        [
         "2020-04-17",
         88,
         4,
         17
        ],
        [
         "2020-04-18",
         89,
         4,
         18
        ],
        [
         "2020-04-19",
         90,
         4,
         19
        ],
        [
         "2020-04-20",
         91,
         4,
         20
        ],
        [
         "2020-04-21",
         92,
         4,
         21
        ],
        [
         "2020-04-22",
         93,
         4,
         22
        ],
        [
         "2020-04-23",
         94,
         4,
         23
        ],
        [
         "2020-04-24",
         95,
         4,
         24
        ],
        [
         "2020-04-25",
         96,
         4,
         25
        ],
        [
         "2020-04-26",
         97,
         4,
         26
        ],
        [
         "2020-04-27",
         98,
         4,
         27
        ],
        [
         "2020-04-28",
         99,
         4,
         28
        ],
        [
         "2020-04-29",
         100,
         4,
         29
        ],
        [
         "2020-04-30",
         101,
         4,
         30
        ],
        [
         "2020-05-01",
         102,
         5,
         1
        ],
        [
         "2020-05-02",
         103,
         5,
         2
        ],
        [
         "2020-05-03",
         104,
         5,
         3
        ],
        [
         "2020-05-04",
         105,
         5,
         4
        ],
        [
         "2020-05-05",
         106,
         5,
         5
        ],
        [
         "2020-05-06",
         107,
         5,
         6
        ],
        [
         "2020-05-07",
         108,
         5,
         7
        ],
        [
         "2020-05-08",
         109,
         5,
         8
        ],
        [
         "2020-05-09",
         110,
         5,
         9
        ],
        [
         "2020-05-10",
         111,
         5,
         10
        ],
        [
         "2020-05-11",
         112,
         5,
         11
        ],
        [
         "2020-05-12",
         113,
         5,
         12
        ],
        [
         "2020-05-13",
         114,
         5,
         13
        ],
        [
         "2020-05-14",
         115,
         5,
         14
        ],
        [
         "2020-05-15",
         116,
         5,
         15
        ],
        [
         "2020-05-16",
         117,
         5,
         16
        ],
        [
         "2020-05-17",
         118,
         5,
         17
        ],
        [
         "2020-05-18",
         119,
         5,
         18
        ],
        [
         "2020-05-19",
         120,
         5,
         19
        ],
        [
         "2020-05-20",
         121,
         5,
         20
        ],
        [
         "2020-05-21",
         122,
         5,
         21
        ],
        [
         "2020-05-22",
         123,
         5,
         22
        ],
        [
         "2020-05-23",
         124,
         5,
         23
        ],
        [
         "2020-05-24",
         125,
         5,
         24
        ],
        [
         "2020-05-25",
         126,
         5,
         25
        ],
        [
         "2020-05-26",
         127,
         5,
         26
        ],
        [
         "2020-05-27",
         128,
         5,
         27
        ],
        [
         "2020-05-28",
         129,
         5,
         28
        ],
        [
         "2020-05-29",
         130,
         5,
         29
        ],
        [
         "2020-05-30",
         131,
         5,
         30
        ],
        [
         "2020-05-31",
         132,
         5,
         31
        ],
        [
         "2020-06-01",
         133,
         6,
         1
        ],
        [
         "2020-06-02",
         134,
         6,
         2
        ],
        [
         "2020-06-03",
         135,
         6,
         3
        ],
        [
         "2020-06-04",
         136,
         6,
         4
        ],
        [
         "2020-06-05",
         137,
         6,
         5
        ],
        [
         "2020-06-06",
         138,
         6,
         6
        ],
        [
         "2020-06-07",
         139,
         6,
         7
        ],
        [
         "2020-06-08",
         140,
         6,
         8
        ],
        [
         "2020-06-09",
         141,
         6,
         9
        ],
        [
         "2020-06-10",
         142,
         6,
         10
        ],
        [
         "2020-06-11",
         143,
         6,
         11
        ],
        [
         "2020-06-12",
         144,
         6,
         12
        ],
        [
         "2020-06-13",
         145,
         6,
         13
        ],
        [
         "2020-06-14",
         146,
         6,
         14
        ],
        [
         "2020-06-15",
         147,
         6,
         15
        ],
        [
         "2020-06-16",
         148,
         6,
         16
        ],
        [
         "2020-06-17",
         149,
         6,
         17
        ],
        [
         "2020-06-18",
         150,
         6,
         18
        ],
        [
         "2020-06-19",
         151,
         6,
         19
        ],
        [
         "2020-06-20",
         152,
         6,
         20
        ],
        [
         "2020-06-21",
         153,
         6,
         21
        ],
        [
         "2020-06-22",
         154,
         6,
         22
        ],
        [
         "2020-06-23",
         155,
         6,
         23
        ],
        [
         "2020-06-24",
         156,
         6,
         24
        ],
        [
         "2020-06-25",
         157,
         6,
         25
        ],
        [
         "2020-06-26",
         158,
         6,
         26
        ],
        [
         "2020-06-27",
         159,
         6,
         27
        ],
        [
         "2020-06-28",
         160,
         6,
         28
        ],
        [
         "2020-06-29",
         161,
         6,
         29
        ],
        [
         "2020-06-30",
         162,
         6,
         30
        ]
       ],
       "datasetInfos": [],
       "dbfsResultPath": null,
       "isJsonSchema": true,
       "metadata": {},
       "overflow": false,
       "plotOptions": {
        "customPlotOptions": {},
        "displayType": "table",
        "pivotAggregation": null,
        "pivotColumns": null,
        "xColumns": null,
        "yColumns": null
       },
       "removedWidgets": [],
       "schema": [
        {
         "metadata": "{\"__detected_date_formats\":\"yyyy-M-d\"}",
         "name": "date",
         "type": "\"date\""
        },
        {
         "metadata": "{}",
         "name": "index",
         "type": "\"long\""
        },
        {
         "metadata": "{}",
         "name": "month",
         "type": "\"integer\""
        },
        {
         "metadata": "{}",
         "name": "day",
         "type": "\"integer\""
        }
       ],
       "type": "table"
      }
     },
     "output_type": "display_data"
    }
   ],
   "source": [
    "from pyspark.sql.functions import month, dayofmonth\n",
    "\n",
    "add_df = (covid_features_df\n",
    "  .select(\"date\", \"index\")\n",
    "  .withColumn(\"month\", month(\"date\"))\n",
    "  .withColumn(\"day\", dayofmonth(\"date\"))\n",
    ")\n",
    "\n",
    "display(add_df)"
   ]
  },
  {
   "cell_type": "markdown",
   "metadata": {
    "application/vnd.databricks.v1+cell": {
     "cellMetadata": {},
     "inputWidgets": {},
     "nuid": "50d4e2c0-13a0-413b-ab1f-a58542408670",
     "showTitle": false,
     "title": "--i18n-c040ac8a-f24d-4951-82bc-af1f509a90c2"
    }
   },
   "source": [
    "\n",
    "\n",
    "\n",
    "Now we want to add this information to our feature table using **`write_table`**. \n",
    "\n",
    "**NOTE:** Remember, we can use either **`\"overwrite\"`** or **`\"merge\"`** mode. Which one should we use here?"
   ]
  },
  {
   "cell_type": "code",
   "execution_count": 0,
   "metadata": {
    "application/vnd.databricks.v1+cell": {
     "cellMetadata": {
      "byteLimit": 2048000,
      "rowLimit": 10000
     },
     "inputWidgets": {},
     "nuid": "41069a00-9749-4e05-8c9a-fc22b0de2678",
     "showTitle": false,
     "title": ""
    }
   },
   "outputs": [],
   "source": [
    "# added 2 columns\n",
    "fs.write_table(\n",
    "    name=table_name,\n",
    "    df=add_df,\n",
    ")"
   ]
  },
  {
   "cell_type": "markdown",
   "metadata": {
    "application/vnd.databricks.v1+cell": {
     "cellMetadata": {},
     "inputWidgets": {},
     "nuid": "fc412586-cbc0-41cc-ae25-c9a327ad68dd",
     "showTitle": false,
     "title": "--i18n-67d3eb45-0083-4a4c-a391-92ce31628b42"
    }
   },
   "source": [
    "\n",
    "\n",
    "\n",
    "Now try using **`fs.read_table`**, specifying the **`table_name`** to see our updated feature table."
   ]
  },
  {
   "cell_type": "code",
   "execution_count": 0,
   "metadata": {
    "application/vnd.databricks.v1+cell": {
     "cellMetadata": {
      "byteLimit": 2048000,
      "rowLimit": 10000
     },
     "inputWidgets": {},
     "nuid": "cc350de3-4a8f-4bf4-b664-a9ee043407a1",
     "showTitle": false,
     "title": ""
    }
   },
   "outputs": [
    {
     "output_type": "display_data",
     "data": {
      "text/html": [
       "<style scoped>\n",
       "  .table-result-container {\n",
       "    max-height: 300px;\n",
       "    overflow: auto;\n",
       "  }\n",
       "  table, th, td {\n",
       "    border: 1px solid black;\n",
       "    border-collapse: collapse;\n",
       "  }\n",
       "  th, td {\n",
       "    padding: 5px;\n",
       "  }\n",
       "  th {\n",
       "    text-align: left;\n",
       "  }\n",
       "</style><div class='table-result-container'><table class='table-result'><thead style='background-color: white'><tr><th>date</th><th>time</th><th>test</th><th>negative</th><th>confirmed</th><th>released</th><th>index</th><th>month</th><th>day</th></tr></thead><tbody><tr><td>2020-01-20</td><td>16</td><td>1</td><td>0</td><td>1</td><td>0</td><td>0</td><td>1</td><td>20</td></tr><tr><td>2020-01-21</td><td>16</td><td>1</td><td>0</td><td>1</td><td>0</td><td>1</td><td>1</td><td>21</td></tr><tr><td>2020-01-22</td><td>16</td><td>4</td><td>3</td><td>1</td><td>0</td><td>2</td><td>1</td><td>22</td></tr><tr><td>2020-01-23</td><td>16</td><td>22</td><td>21</td><td>1</td><td>0</td><td>3</td><td>1</td><td>23</td></tr><tr><td>2020-01-24</td><td>16</td><td>27</td><td>25</td><td>2</td><td>0</td><td>4</td><td>1</td><td>24</td></tr><tr><td>2020-01-25</td><td>16</td><td>27</td><td>25</td><td>2</td><td>0</td><td>5</td><td>1</td><td>25</td></tr><tr><td>2020-01-26</td><td>16</td><td>51</td><td>47</td><td>3</td><td>0</td><td>6</td><td>1</td><td>26</td></tr><tr><td>2020-01-27</td><td>16</td><td>61</td><td>56</td><td>4</td><td>0</td><td>7</td><td>1</td><td>27</td></tr><tr><td>2020-01-28</td><td>16</td><td>116</td><td>97</td><td>4</td><td>0</td><td>8</td><td>1</td><td>28</td></tr><tr><td>2020-01-29</td><td>16</td><td>187</td><td>155</td><td>4</td><td>0</td><td>9</td><td>1</td><td>29</td></tr><tr><td>2020-01-30</td><td>16</td><td>246</td><td>199</td><td>6</td><td>0</td><td>10</td><td>1</td><td>30</td></tr><tr><td>2020-01-31</td><td>16</td><td>312</td><td>245</td><td>11</td><td>0</td><td>11</td><td>1</td><td>31</td></tr><tr><td>2020-02-01</td><td>16</td><td>371</td><td>289</td><td>12</td><td>0</td><td>12</td><td>2</td><td>1</td></tr><tr><td>2020-02-02</td><td>16</td><td>429</td><td>327</td><td>15</td><td>0</td><td>13</td><td>2</td><td>2</td></tr><tr><td>2020-02-03</td><td>16</td><td>490</td><td>414</td><td>15</td><td>0</td><td>14</td><td>2</td><td>3</td></tr><tr><td>2020-02-04</td><td>16</td><td>607</td><td>462</td><td>16</td><td>0</td><td>15</td><td>2</td><td>4</td></tr><tr><td>2020-02-05</td><td>16</td><td>714</td><td>522</td><td>18</td><td>1</td><td>16</td><td>2</td><td>5</td></tr><tr><td>2020-02-06</td><td>16</td><td>885</td><td>693</td><td>23</td><td>2</td><td>17</td><td>2</td><td>6</td></tr><tr><td>2020-02-07</td><td>16</td><td>1352</td><td>1001</td><td>24</td><td>2</td><td>18</td><td>2</td><td>7</td></tr><tr><td>2020-02-08</td><td>16</td><td>2097</td><td>1134</td><td>24</td><td>2</td><td>19</td><td>2</td><td>8</td></tr><tr><td>2020-02-09</td><td>16</td><td>2598</td><td>1683</td><td>27</td><td>3</td><td>20</td><td>2</td><td>9</td></tr><tr><td>2020-02-10</td><td>16</td><td>3110</td><td>2552</td><td>27</td><td>4</td><td>21</td><td>2</td><td>10</td></tr><tr><td>2020-02-11</td><td>16</td><td>4325</td><td>3535</td><td>28</td><td>4</td><td>22</td><td>2</td><td>11</td></tr><tr><td>2020-02-12</td><td>16</td><td>5624</td><td>4811</td><td>28</td><td>7</td><td>23</td><td>2</td><td>12</td></tr><tr><td>2020-02-13</td><td>16</td><td>6511</td><td>5921</td><td>28</td><td>7</td><td>24</td><td>2</td><td>13</td></tr><tr><td>2020-02-14</td><td>16</td><td>7242</td><td>6679</td><td>28</td><td>7</td><td>25</td><td>2</td><td>14</td></tr><tr><td>2020-02-15</td><td>16</td><td>7734</td><td>7148</td><td>28</td><td>9</td><td>26</td><td>2</td><td>15</td></tr><tr><td>2020-02-16</td><td>16</td><td>8161</td><td>7647</td><td>29</td><td>9</td><td>27</td><td>2</td><td>16</td></tr><tr><td>2020-02-17</td><td>16</td><td>8718</td><td>7980</td><td>30</td><td>10</td><td>28</td><td>2</td><td>17</td></tr><tr><td>2020-02-18</td><td>16</td><td>9772</td><td>8923</td><td>31</td><td>12</td><td>29</td><td>2</td><td>18</td></tr><tr><td>2020-02-19</td><td>16</td><td>11173</td><td>9973</td><td>51</td><td>16</td><td>30</td><td>2</td><td>19</td></tr><tr><td>2020-02-20</td><td>16</td><td>13202</td><td>11238</td><td>104</td><td>16</td><td>31</td><td>2</td><td>20</td></tr><tr><td>2020-02-21</td><td>16</td><td>16400</td><td>13016</td><td>204</td><td>17</td><td>32</td><td>2</td><td>21</td></tr><tr><td>2020-02-22</td><td>16</td><td>21586</td><td>15116</td><td>433</td><td>18</td><td>33</td><td>2</td><td>22</td></tr><tr><td>2020-02-23</td><td>16</td><td>26179</td><td>17520</td><td>602</td><td>18</td><td>34</td><td>2</td><td>23</td></tr><tr><td>2020-02-24</td><td>16</td><td>32756</td><td>20292</td><td>833</td><td>24</td><td>35</td><td>2</td><td>24</td></tr><tr><td>2020-02-25</td><td>16</td><td>40304</td><td>25447</td><td>977</td><td>24</td><td>36</td><td>2</td><td>25</td></tr><tr><td>2020-02-26</td><td>16</td><td>53553</td><td>31576</td><td>1261</td><td>24</td><td>37</td><td>2</td><td>26</td></tr><tr><td>2020-02-27</td><td>16</td><td>66652</td><td>39318</td><td>1766</td><td>26</td><td>38</td><td>2</td><td>27</td></tr><tr><td>2020-02-28</td><td>16</td><td>81167</td><td>48593</td><td>2337</td><td>27</td><td>39</td><td>2</td><td>28</td></tr><tr><td>2020-02-29</td><td>16</td><td>94055</td><td>55723</td><td>3150</td><td>28</td><td>40</td><td>2</td><td>29</td></tr><tr><td>2020-03-01</td><td>16</td><td>98921</td><td>61825</td><td>3736</td><td>30</td><td>41</td><td>3</td><td>1</td></tr><tr><td>2020-03-02</td><td>0</td><td>109591</td><td>71580</td><td>4212</td><td>31</td><td>42</td><td>3</td><td>2</td></tr><tr><td>2020-03-03</td><td>0</td><td>125851</td><td>85484</td><td>4812</td><td>34</td><td>43</td><td>3</td><td>3</td></tr><tr><td>2020-03-04</td><td>0</td><td>136707</td><td>102965</td><td>5328</td><td>41</td><td>44</td><td>3</td><td>4</td></tr><tr><td>2020-03-05</td><td>0</td><td>146541</td><td>118965</td><td>5766</td><td>88</td><td>45</td><td>3</td><td>5</td></tr><tr><td>2020-03-06</td><td>0</td><td>164740</td><td>136624</td><td>6284</td><td>108</td><td>46</td><td>3</td><td>6</td></tr><tr><td>2020-03-07</td><td>0</td><td>178189</td><td>151802</td><td>6767</td><td>118</td><td>47</td><td>3</td><td>7</td></tr><tr><td>2020-03-08</td><td>0</td><td>188518</td><td>162008</td><td>7134</td><td>130</td><td>48</td><td>3</td><td>8</td></tr><tr><td>2020-03-09</td><td>0</td><td>196618</td><td>171778</td><td>7382</td><td>166</td><td>49</td><td>3</td><td>9</td></tr><tr><td>2020-03-10</td><td>0</td><td>210144</td><td>184179</td><td>7513</td><td>247</td><td>50</td><td>3</td><td>10</td></tr><tr><td>2020-03-11</td><td>0</td><td>222395</td><td>196100</td><td>7755</td><td>288</td><td>51</td><td>3</td><td>11</td></tr><tr><td>2020-03-12</td><td>0</td><td>234998</td><td>209402</td><td>7869</td><td>333</td><td>52</td><td>3</td><td>12</td></tr><tr><td>2020-03-13</td><td>0</td><td>248647</td><td>222728</td><td>7979</td><td>510</td><td>53</td><td>3</td><td>13</td></tr><tr><td>2020-03-14</td><td>0</td><td>261335</td><td>235615</td><td>8086</td><td>714</td><td>54</td><td>3</td><td>14</td></tr><tr><td>2020-03-15</td><td>0</td><td>268212</td><td>243778</td><td>8126</td><td>834</td><td>55</td><td>3</td><td>15</td></tr><tr><td>2020-03-16</td><td>0</td><td>274504</td><td>251297</td><td>8236</td><td>1137</td><td>56</td><td>3</td><td>16</td></tr><tr><td>2020-03-17</td><td>0</td><td>286716</td><td>261105</td><td>8320</td><td>1401</td><td>57</td><td>3</td><td>17</td></tr><tr><td>2020-03-18</td><td>0</td><td>295647</td><td>270888</td><td>8413</td><td>1540</td><td>58</td><td>3</td><td>18</td></tr><tr><td>2020-03-19</td><td>0</td><td>307024</td><td>282555</td><td>8565</td><td>1947</td><td>59</td><td>3</td><td>19</td></tr><tr><td>2020-03-20</td><td>0</td><td>316664</td><td>292487</td><td>8652</td><td>2233</td><td>60</td><td>3</td><td>20</td></tr><tr><td>2020-03-21</td><td>0</td><td>327509</td><td>303006</td><td>8799</td><td>2612</td><td>61</td><td>3</td><td>21</td></tr><tr><td>2020-03-22</td><td>0</td><td>331780</td><td>308343</td><td>8897</td><td>2909</td><td>62</td><td>3</td><td>22</td></tr><tr><td>2020-03-23</td><td>0</td><td>338036</td><td>315447</td><td>8961</td><td>3166</td><td>63</td><td>3</td><td>23</td></tr><tr><td>2020-03-24</td><td>0</td><td>348582</td><td>324105</td><td>9037</td><td>3507</td><td>64</td><td>3</td><td>24</td></tr><tr><td>2020-03-25</td><td>0</td><td>357896</td><td>334481</td><td>9137</td><td>3730</td><td>65</td><td>3</td><td>25</td></tr><tr><td>2020-03-26</td><td>0</td><td>364942</td><td>341332</td><td>9241</td><td>4144</td><td>66</td><td>3</td><td>26</td></tr><tr><td>2020-03-27</td><td>0</td><td>376961</td><td>352410</td><td>9332</td><td>4528</td><td>67</td><td>3</td><td>27</td></tr><tr><td>2020-03-28</td><td>0</td><td>387925</td><td>361883</td><td>9478</td><td>4811</td><td>68</td><td>3</td><td>28</td></tr><tr><td>2020-03-29</td><td>0</td><td>394141</td><td>369530</td><td>9583</td><td>5033</td><td>69</td><td>3</td><td>29</td></tr><tr><td>2020-03-30</td><td>0</td><td>395194</td><td>372002</td><td>9661</td><td>5228</td><td>70</td><td>3</td><td>30</td></tr><tr><td>2020-03-31</td><td>0</td><td>410564</td><td>383886</td><td>9786</td><td>5408</td><td>71</td><td>3</td><td>31</td></tr><tr><td>2020-04-01</td><td>0</td><td>421547</td><td>395075</td><td>9887</td><td>5567</td><td>72</td><td>4</td><td>1</td></tr><tr><td>2020-04-02</td><td>0</td><td>431743</td><td>403882</td><td>9976</td><td>5828</td><td>73</td><td>4</td><td>2</td></tr><tr><td>2020-04-03</td><td>0</td><td>443273</td><td>414303</td><td>10062</td><td>6021</td><td>74</td><td>4</td><td>3</td></tr><tr><td>2020-04-04</td><td>0</td><td>455032</td><td>424732</td><td>10156</td><td>6325</td><td>75</td><td>4</td><td>4</td></tr><tr><td>2020-04-05</td><td>0</td><td>461233</td><td>431425</td><td>10237</td><td>6463</td><td>76</td><td>4</td><td>5</td></tr><tr><td>2020-04-06</td><td>0</td><td>466804</td><td>437225</td><td>10284</td><td>6598</td><td>77</td><td>4</td><td>6</td></tr><tr><td>2020-04-07</td><td>0</td><td>477304</td><td>446323</td><td>10331</td><td>6694</td><td>78</td><td>4</td><td>7</td></tr><tr><td>2020-04-08</td><td>0</td><td>486003</td><td>457761</td><td>10384</td><td>6776</td><td>79</td><td>4</td><td>8</td></tr><tr><td>2020-04-09</td><td>0</td><td>494711</td><td>468779</td><td>10423</td><td>6973</td><td>80</td><td>4</td><td>9</td></tr><tr><td>2020-04-10</td><td>0</td><td>503051</td><td>477303</td><td>10450</td><td>7117</td><td>81</td><td>4</td><td>10</td></tr><tr><td>2020-04-11</td><td>0</td><td>510479</td><td>485929</td><td>10480</td><td>7243</td><td>82</td><td>4</td><td>11</td></tr><tr><td>2020-04-12</td><td>0</td><td>514621</td><td>490321</td><td>10512</td><td>7368</td><td>83</td><td>4</td><td>12</td></tr><tr><td>2020-04-13</td><td>0</td><td>518743</td><td>494815</td><td>10537</td><td>7447</td><td>84</td><td>4</td><td>13</td></tr><tr><td>2020-04-14</td><td>0</td><td>527438</td><td>502223</td><td>10564</td><td>7534</td><td>85</td><td>4</td><td>14</td></tr><tr><td>2020-04-15</td><td>0</td><td>534552</td><td>508935</td><td>10591</td><td>7616</td><td>86</td><td>4</td><td>15</td></tr><tr><td>2020-04-16</td><td>0</td><td>538775</td><td>513894</td><td>10613</td><td>7757</td><td>87</td><td>4</td><td>16</td></tr><tr><td>2020-04-17</td><td>0</td><td>546463</td><td>521642</td><td>10635</td><td>7829</td><td>88</td><td>4</td><td>17</td></tr><tr><td>2020-04-18</td><td>0</td><td>554834</td><td>530631</td><td>10653</td><td>7937</td><td>89</td><td>4</td><td>18</td></tr><tr><td>2020-04-19</td><td>0</td><td>559109</td><td>536205</td><td>10661</td><td>8042</td><td>90</td><td>4</td><td>19</td></tr><tr><td>2020-04-20</td><td>0</td><td>563035</td><td>540380</td><td>10674</td><td>8114</td><td>91</td><td>4</td><td>20</td></tr><tr><td>2020-04-21</td><td>0</td><td>571014</td><td>547610</td><td>10683</td><td>8213</td><td>92</td><td>4</td><td>21</td></tr><tr><td>2020-04-22</td><td>0</td><td>577959</td><td>555144</td><td>10694</td><td>8277</td><td>93</td><td>4</td><td>22</td></tr><tr><td>2020-04-23</td><td>0</td><td>583971</td><td>563130</td><td>10702</td><td>8411</td><td>94</td><td>4</td><td>23</td></tr><tr><td>2020-04-24</td><td>0</td><td>589520</td><td>569212</td><td>10708</td><td>8501</td><td>95</td><td>4</td><td>24</td></tr><tr><td>2020-04-25</td><td>0</td><td>595161</td><td>575184</td><td>10718</td><td>8635</td><td>96</td><td>4</td><td>25</td></tr><tr><td>2020-04-26</td><td>0</td><td>598285</td><td>578558</td><td>10728</td><td>8717</td><td>97</td><td>4</td><td>26</td></tr><tr><td>2020-04-27</td><td>0</td><td>601660</td><td>582027</td><td>10738</td><td>8764</td><td>98</td><td>4</td><td>27</td></tr><tr><td>2020-04-28</td><td>0</td><td>608514</td><td>588559</td><td>10752</td><td>8854</td><td>99</td><td>4</td><td>28</td></tr><tr><td>2020-04-29</td><td>0</td><td>614197</td><td>595129</td><td>10761</td><td>8922</td><td>100</td><td>4</td><td>29</td></tr><tr><td>2020-04-30</td><td>0</td><td>619881</td><td>600482</td><td>10765</td><td>9059</td><td>101</td><td>4</td><td>30</td></tr><tr><td>2020-05-01</td><td>0</td><td>623069</td><td>603610</td><td>10774</td><td>9072</td><td>102</td><td>5</td><td>1</td></tr><tr><td>2020-05-02</td><td>0</td><td>627562</td><td>608286</td><td>10780</td><td>9123</td><td>103</td><td>5</td><td>2</td></tr><tr><td>2020-05-03</td><td>0</td><td>630973</td><td>611592</td><td>10793</td><td>9183</td><td>104</td><td>5</td><td>3</td></tr><tr><td>2020-05-04</td><td>0</td><td>633921</td><td>614944</td><td>10801</td><td>9217</td><td>105</td><td>5</td><td>4</td></tr><tr><td>2020-05-05</td><td>0</td><td>640237</td><td>620575</td><td>10804</td><td>9283</td><td>106</td><td>5</td><td>5</td></tr><tr><td>2020-05-06</td><td>0</td><td>643095</td><td>624280</td><td>10806</td><td>9333</td><td>107</td><td>5</td><td>6</td></tr><tr><td>2020-05-07</td><td>0</td><td>649388</td><td>630149</td><td>10810</td><td>9419</td><td>108</td><td>5</td><td>7</td></tr><tr><td>2020-05-08</td><td>0</td><td>654863</td><td>635174</td><td>10822</td><td>9484</td><td>109</td><td>5</td><td>8</td></tr><tr><td>2020-05-09</td><td>0</td><td>660030</td><td>640037</td><td>10840</td><td>9568</td><td>110</td><td>5</td><td>9</td></tr><tr><td>2020-05-10</td><td>0</td><td>663886</td><td>642884</td><td>10874</td><td>9610</td><td>111</td><td>5</td><td>10</td></tr><tr><td>2020-05-11</td><td>0</td><td>668492</td><td>646661</td><td>10909</td><td>9632</td><td>112</td><td>5</td><td>11</td></tr><tr><td>2020-05-12</td><td>0</td><td>680890</td><td>653624</td><td>10936</td><td>9670</td><td>113</td><td>5</td><td>12</td></tr><tr><td>2020-05-13</td><td>0</td><td>695920</td><td>665379</td><td>10962</td><td>9695</td><td>114</td><td>5</td><td>13</td></tr><tr><td>2020-05-14</td><td>0</td><td>711484</td><td>679771</td><td>10991</td><td>9762</td><td>115</td><td>5</td><td>14</td></tr><tr><td>2020-05-15</td><td>0</td><td>726747</td><td>695854</td><td>11018</td><td>9821</td><td>116</td><td>5</td><td>15</td></tr><tr><td>2020-05-16</td><td>0</td><td>740645</td><td>711265</td><td>11037</td><td>9851</td><td>117</td><td>5</td><td>16</td></tr><tr><td>2020-05-17</td><td>0</td><td>747653</td><td>718943</td><td>11050</td><td>9888</td><td>118</td><td>5</td><td>17</td></tr><tr><td>2020-05-18</td><td>0</td><td>753211</td><td>726053</td><td>11065</td><td>9904</td><td>119</td><td>5</td><td>18</td></tr><tr><td>2020-05-19</td><td>0</td><td>765574</td><td>737571</td><td>11078</td><td>9938</td><td>120</td><td>5</td><td>19</td></tr><tr><td>2020-05-20</td><td>0</td><td>776433</td><td>748972</td><td>11110</td><td>10066</td><td>121</td><td>5</td><td>20</td></tr><tr><td>2020-05-21</td><td>0</td><td>788684</td><td>759473</td><td>11122</td><td>10135</td><td>122</td><td>5</td><td>21</td></tr><tr><td>2020-05-22</td><td>0</td><td>802418</td><td>770990</td><td>11142</td><td>10162</td><td>123</td><td>5</td><td>22</td></tr><tr><td>2020-05-23</td><td>0</td><td>814420</td><td>781686</td><td>11165</td><td>10194</td><td>124</td><td>5</td><td>23</td></tr><tr><td>2020-05-24</td><td>0</td><td>820289</td><td>788766</td><td>11190</td><td>10213</td><td>125</td><td>5</td><td>24</td></tr><tr><td>2020-05-25</td><td>0</td><td>826437</td><td>796142</td><td>11206</td><td>10226</td><td>126</td><td>5</td><td>25</td></tr><tr><td>2020-05-26</td><td>0</td><td>839475</td><td>806206</td><td>11225</td><td>10275</td><td>127</td><td>5</td><td>26</td></tr><tr><td>2020-05-27</td><td>0</td><td>852876</td><td>820550</td><td>11265</td><td>10295</td><td>128</td><td>5</td><td>27</td></tr><tr><td>2020-05-28</td><td>0</td><td>868666</td><td>834952</td><td>11344</td><td>10340</td><td>129</td><td>5</td><td>28</td></tr><tr><td>2020-05-29</td><td>0</td><td>885120</td><td>849161</td><td>11402</td><td>10363</td><td>130</td><td>5</td><td>29</td></tr><tr><td>2020-05-30</td><td>0</td><td>902901</td><td>865162</td><td>11441</td><td>10398</td><td>131</td><td>5</td><td>30</td></tr><tr><td>2020-05-31</td><td>0</td><td>910822</td><td>876060</td><td>11468</td><td>10405</td><td>132</td><td>5</td><td>31</td></tr><tr><td>2020-06-01</td><td>0</td><td>921391</td><td>885830</td><td>11503</td><td>10422</td><td>133</td><td>6</td><td>1</td></tr><tr><td>2020-06-02</td><td>0</td><td>939851</td><td>899388</td><td>11541</td><td>10446</td><td>134</td><td>6</td><td>2</td></tr><tr><td>2020-06-03</td><td>0</td><td>956852</td><td>917397</td><td>11590</td><td>10467</td><td>135</td><td>6</td><td>3</td></tr><tr><td>2020-06-04</td><td>0</td><td>973858</td><td>934030</td><td>11629</td><td>10499</td><td>136</td><td>6</td><td>4</td></tr><tr><td>2020-06-05</td><td>0</td><td>990960</td><td>950526</td><td>11668</td><td>10506</td><td>137</td><td>6</td><td>5</td></tr><tr><td>2020-06-06</td><td>0</td><td>1005305</td><td>965632</td><td>11719</td><td>10531</td><td>138</td><td>6</td><td>6</td></tr><tr><td>2020-06-07</td><td>0</td><td>1012769</td><td>974512</td><td>11776</td><td>10552</td><td>139</td><td>6</td><td>7</td></tr><tr><td>2020-06-08</td><td>0</td><td>1018214</td><td>982026</td><td>11814</td><td>10563</td><td>140</td><td>6</td><td>8</td></tr><tr><td>2020-06-09</td><td>0</td><td>1035997</td><td>996686</td><td>11852</td><td>10589</td><td>141</td><td>6</td><td>9</td></tr><tr><td>2020-06-10</td><td>0</td><td>1051972</td><td>1013847</td><td>11902</td><td>10611</td><td>142</td><td>6</td><td>10</td></tr><tr><td>2020-06-11</td><td>0</td><td>1066888</td><td>1029447</td><td>11947</td><td>10654</td><td>143</td><td>6</td><td>11</td></tr><tr><td>2020-06-12</td><td>0</td><td>1081487</td><td>1045240</td><td>12003</td><td>10669</td><td>144</td><td>6</td><td>12</td></tr><tr><td>2020-06-13</td><td>0</td><td>1094704</td><td>1059301</td><td>12051</td><td>10691</td><td>145</td><td>6</td><td>13</td></tr><tr><td>2020-06-14</td><td>0</td><td>1100328</td><td>1066887</td><td>12085</td><td>10718</td><td>146</td><td>6</td><td>14</td></tr><tr><td>2020-06-15</td><td>0</td><td>1105719</td><td>1072805</td><td>12121</td><td>10730</td><td>147</td><td>6</td><td>15</td></tr><tr><td>2020-06-16</td><td>0</td><td>1119767</td><td>1084980</td><td>12155</td><td>10760</td><td>148</td><td>6</td><td>16</td></tr><tr><td>2020-06-17</td><td>0</td><td>1132823</td><td>1099136</td><td>12198</td><td>10774</td><td>149</td><td>6</td><td>17</td></tr><tr><td>2020-06-18</td><td>0</td><td>1145712</td><td>1111741</td><td>12257</td><td>10800</td><td>150</td><td>6</td><td>18</td></tr><tr><td>2020-06-19</td><td>0</td><td>1158063</td><td>1124567</td><td>12306</td><td>10835</td><td>151</td><td>6</td><td>19</td></tr><tr><td>2020-06-20</td><td>0</td><td>1170901</td><td>1137058</td><td>12373</td><td>10856</td><td>152</td><td>6</td><td>20</td></tr><tr><td>2020-06-21</td><td>0</td><td>1176463</td><td>1143971</td><td>12421</td><td>10868</td><td>153</td><td>6</td><td>21</td></tr><tr><td>2020-06-22</td><td>0</td><td>1182066</td><td>1150225</td><td>12438</td><td>10881</td><td>154</td><td>6</td><td>22</td></tr><tr><td>2020-06-23</td><td>0</td><td>1196012</td><td>1161250</td><td>12484</td><td>10908</td><td>155</td><td>6</td><td>23</td></tr><tr><td>2020-06-24</td><td>0</td><td>1208597</td><td>1175817</td><td>12535</td><td>10930</td><td>156</td><td>6</td><td>24</td></tr><tr><td>2020-06-25</td><td>0</td><td>1220478</td><td>1189015</td><td>12563</td><td>10974</td><td>157</td><td>6</td><td>25</td></tr><tr><td>2020-06-26</td><td>0</td><td>1232315</td><td>1200885</td><td>12602</td><td>11172</td><td>158</td><td>6</td><td>26</td></tr><tr><td>2020-06-27</td><td>0</td><td>1243780</td><td>1211261</td><td>12653</td><td>11317</td><td>159</td><td>6</td><td>27</td></tr><tr><td>2020-06-28</td><td>0</td><td>1251695</td><td>1219975</td><td>12715</td><td>11364</td><td>160</td><td>6</td><td>28</td></tr><tr><td>2020-06-29</td><td>0</td><td>1259954</td><td>1228698</td><td>12757</td><td>11429</td><td>161</td><td>6</td><td>29</td></tr><tr><td>2020-06-30</td><td>0</td><td>1273766</td><td>1240157</td><td>12800</td><td>11537</td><td>162</td><td>6</td><td>30</td></tr></tbody></table></div>"
      ]
     },
     "metadata": {
      "application/vnd.databricks.v1+output": {
       "addedWidgets": {},
       "aggData": [],
       "aggError": "",
       "aggOverflow": false,
       "aggSchema": [],
       "aggSeriesLimitReached": false,
       "aggType": "",
       "arguments": {},
       "columnCustomDisplayInfos": {},
       "data": [
        [
         "2020-01-20",
         16,
         1,
         0,
         1,
         0,
         0,
         1,
         20
        ],
        [
         "2020-01-21",
         16,
         1,
         0,
         1,
         0,
         1,
         1,
         21
        ],
        [
         "2020-01-22",
         16,
         4,
         3,
         1,
         0,
         2,
         1,
         22
        ],
        [
         "2020-01-23",
         16,
         22,
         21,
         1,
         0,
         3,
         1,
         23
        ],
        [
         "2020-01-24",
         16,
         27,
         25,
         2,
         0,
         4,
         1,
         24
        ],
        [
         "2020-01-25",
         16,
         27,
         25,
         2,
         0,
         5,
         1,
         25
        ],
        [
         "2020-01-26",
         16,
         51,
         47,
         3,
         0,
         6,
         1,
         26
        ],
        [
         "2020-01-27",
         16,
         61,
         56,
         4,
         0,
         7,
         1,
         27
        ],
        [
         "2020-01-28",
         16,
         116,
         97,
         4,
         0,
         8,
         1,
         28
        ],
        [
         "2020-01-29",
         16,
         187,
         155,
         4,
         0,
         9,
         1,
         29
        ],
        [
         "2020-01-30",
         16,
         246,
         199,
         6,
         0,
         10,
         1,
         30
        ],
        [
         "2020-01-31",
         16,
         312,
         245,
         11,
         0,
         11,
         1,
         31
        ],
        [
         "2020-02-01",
         16,
         371,
         289,
         12,
         0,
         12,
         2,
         1
        ],
        [
         "2020-02-02",
         16,
         429,
         327,
         15,
         0,
         13,
         2,
         2
        ],
        [
         "2020-02-03",
         16,
         490,
         414,
         15,
         0,
         14,
         2,
         3
        ],
        [
         "2020-02-04",
         16,
         607,
         462,
         16,
         0,
         15,
         2,
         4
        ],
        [
         "2020-02-05",
         16,
         714,
         522,
         18,
         1,
         16,
         2,
         5
        ],
        [
         "2020-02-06",
         16,
         885,
         693,
         23,
         2,
         17,
         2,
         6
        ],
        [
         "2020-02-07",
         16,
         1352,
         1001,
         24,
         2,
         18,
         2,
         7
        ],
        [
         "2020-02-08",
         16,
         2097,
         1134,
         24,
         2,
         19,
         2,
         8
        ],
        [
         "2020-02-09",
         16,
         2598,
         1683,
         27,
         3,
         20,
         2,
         9
        ],
        [
         "2020-02-10",
         16,
         3110,
         2552,
         27,
         4,
         21,
         2,
         10
        ],
        [
         "2020-02-11",
         16,
         4325,
         3535,
         28,
         4,
         22,
         2,
         11
        ],
        [
         "2020-02-12",
         16,
         5624,
         4811,
         28,
         7,
         23,
         2,
         12
        ],
        [
         "2020-02-13",
         16,
         6511,
         5921,
         28,
         7,
         24,
         2,
         13
        ],
        [
         "2020-02-14",
         16,
         7242,
         6679,
         28,
         7,
         25,
         2,
         14
        ],
        [
         "2020-02-15",
         16,
         7734,
         7148,
         28,
         9,
         26,
         2,
         15
        ],
        [
         "2020-02-16",
         16,
         8161,
         7647,
         29,
         9,
         27,
         2,
         16
        ],
        [
         "2020-02-17",
         16,
         8718,
         7980,
         30,
         10,
         28,
         2,
         17
        ],
        [
         "2020-02-18",
         16,
         9772,
         8923,
         31,
         12,
         29,
         2,
         18
        ],
        [
         "2020-02-19",
         16,
         11173,
         9973,
         51,
         16,
         30,
         2,
         19
        ],
        [
         "2020-02-20",
         16,
         13202,
         11238,
         104,
         16,
         31,
         2,
         20
        ],
        [
         "2020-02-21",
         16,
         16400,
         13016,
         204,
         17,
         32,
         2,
         21
        ],
        [
         "2020-02-22",
         16,
         21586,
         15116,
         433,
         18,
         33,
         2,
         22
        ],
        [
         "2020-02-23",
         16,
         26179,
         17520,
         602,
         18,
         34,
         2,
         23
        ],
        [
         "2020-02-24",
         16,
         32756,
         20292,
         833,
         24,
         35,
         2,
         24
        ],
        [
         "2020-02-25",
         16,
         40304,
         25447,
         977,
         24,
         36,
         2,
         25
        ],
        [
         "2020-02-26",
         16,
         53553,
         31576,
         1261,
         24,
         37,
         2,
         26
        ],
        [
         "2020-02-27",
         16,
         66652,
         39318,
         1766,
         26,
         38,
         2,
         27
        ],
        [
         "2020-02-28",
         16,
         81167,
         48593,
         2337,
         27,
         39,
         2,
         28
        ],
        [
         "2020-02-29",
         16,
         94055,
         55723,
         3150,
         28,
         40,
         2,
         29
        ],
        [
         "2020-03-01",
         16,
         98921,
         61825,
         3736,
         30,
         41,
         3,
         1
        ],
        [
         "2020-03-02",
         0,
         109591,
         71580,
         4212,
         31,
         42,
         3,
         2
        ],
        [
         "2020-03-03",
         0,
         125851,
         85484,
         4812,
         34,
         43,
         3,
         3
        ],
        [
         "2020-03-04",
         0,
         136707,
         102965,
         5328,
         41,
         44,
         3,
         4
        ],
        [
         "2020-03-05",
         0,
         146541,
         118965,
         5766,
         88,
         45,
         3,
         5
        ],
        [
         "2020-03-06",
         0,
         164740,
         136624,
         6284,
         108,
         46,
         3,
         6
        ],
        [
         "2020-03-07",
         0,
         178189,
         151802,
         6767,
         118,
         47,
         3,
         7
        ],
        [
         "2020-03-08",
         0,
         188518,
         162008,
         7134,
         130,
         48,
         3,
         8
        ],
        [
         "2020-03-09",
         0,
         196618,
         171778,
         7382,
         166,
         49,
         3,
         9
        ],
        [
         "2020-03-10",
         0,
         210144,
         184179,
         7513,
         247,
         50,
         3,
         10
        ],
        [
         "2020-03-11",
         0,
         222395,
         196100,
         7755,
         288,
         51,
         3,
         11
        ],
        [
         "2020-03-12",
         0,
         234998,
         209402,
         7869,
         333,
         52,
         3,
         12
        ],
        [
         "2020-03-13",
         0,
         248647,
         222728,
         7979,
         510,
         53,
         3,
         13
        ],
        [
         "2020-03-14",
         0,
         261335,
         235615,
         8086,
         714,
         54,
         3,
         14
        ],
        [
         "2020-03-15",
         0,
         268212,
         243778,
         8126,
         834,
         55,
         3,
         15
        ],
        [
         "2020-03-16",
         0,
         274504,
         251297,
         8236,
         1137,
         56,
         3,
         16
        ],
        [
         "2020-03-17",
         0,
         286716,
         261105,
         8320,
         1401,
         57,
         3,
         17
        ],
        [
         "2020-03-18",
         0,
         295647,
         270888,
         8413,
         1540,
         58,
         3,
         18
        ],
        [
         "2020-03-19",
         0,
         307024,
         282555,
         8565,
         1947,
         59,
         3,
         19
        ],
        [
         "2020-03-20",
         0,
         316664,
         292487,
         8652,
         2233,
         60,
         3,
         20
        ],
        [
         "2020-03-21",
         0,
         327509,
         303006,
         8799,
         2612,
         61,
         3,
         21
        ],
        [
         "2020-03-22",
         0,
         331780,
         308343,
         8897,
         2909,
         62,
         3,
         22
        ],
        [
         "2020-03-23",
         0,
         338036,
         315447,
         8961,
         3166,
         63,
         3,
         23
        ],
        [
         "2020-03-24",
         0,
         348582,
         324105,
         9037,
         3507,
         64,
         3,
         24
        ],
        [
         "2020-03-25",
         0,
         357896,
         334481,
         9137,
         3730,
         65,
         3,
         25
        ],
        [
         "2020-03-26",
         0,
         364942,
         341332,
         9241,
         4144,
         66,
         3,
         26
        ],
        [
         "2020-03-27",
         0,
         376961,
         352410,
         9332,
         4528,
         67,
         3,
         27
        ],
        [
         "2020-03-28",
         0,
         387925,
         361883,
         9478,
         4811,
         68,
         3,
         28
        ],
        [
         "2020-03-29",
         0,
         394141,
         369530,
         9583,
         5033,
         69,
         3,
         29
        ],
        [
         "2020-03-30",
         0,
         395194,
         372002,
         9661,
         5228,
         70,
         3,
         30
        ],
        [
         "2020-03-31",
         0,
         410564,
         383886,
         9786,
         5408,
         71,
         3,
         31
        ],
        [
         "2020-04-01",
         0,
         421547,
         395075,
         9887,
         5567,
         72,
         4,
         1
        ],
        [
         "2020-04-02",
         0,
         431743,
         403882,
         9976,
         5828,
         73,
         4,
         2
        ],
        [
         "2020-04-03",
         0,
         443273,
         414303,
         10062,
         6021,
         74,
         4,
         3
        ],
        [
         "2020-04-04",
         0,
         455032,
         424732,
         10156,
         6325,
         75,
         4,
         4
        ],
        [
         "2020-04-05",
         0,
         461233,
         431425,
         10237,
         6463,
         76,
         4,
         5
        ],
        [
         "2020-04-06",
         0,
         466804,
         437225,
         10284,
         6598,
         77,
         4,
         6
        ],
        [
         "2020-04-07",
         0,
         477304,
         446323,
         10331,
         6694,
         78,
         4,
         7
        ],
        [
         "2020-04-08",
         0,
         486003,
         457761,
         10384,
         6776,
         79,
         4,
         8
        ],
        [
         "2020-04-09",
         0,
         494711,
         468779,
         10423,
         6973,
         80,
         4,
         9
        ],
        [
         "2020-04-10",
         0,
         503051,
         477303,
         10450,
         7117,
         81,
         4,
         10
        ],
        [
         "2020-04-11",
         0,
         510479,
         485929,
         10480,
         7243,
         82,
         4,
         11
        ],
        [
         "2020-04-12",
         0,
         514621,
         490321,
         10512,
         7368,
         83,
         4,
         12
        ],
        [
         "2020-04-13",
         0,
         518743,
         494815,
         10537,
         7447,
         84,
         4,
         13
        ],
        [
         "2020-04-14",
         0,
         527438,
         502223,
         10564,
         7534,
         85,
         4,
         14
        ],
        [
         "2020-04-15",
         0,
         534552,
         508935,
         10591,
         7616,
         86,
         4,
         15
        ],
        [
         "2020-04-16",
         0,
         538775,
         513894,
         10613,
         7757,
         87,
         4,
         16
        ],
        [
         "2020-04-17",
         0,
         546463,
         521642,
         10635,
         7829,
         88,
         4,
         17
        ],
        [
         "2020-04-18",
         0,
         554834,
         530631,
         10653,
         7937,
         89,
         4,
         18
        ],
        [
         "2020-04-19",
         0,
         559109,
         536205,
         10661,
         8042,
         90,
         4,
         19
        ],
        [
         "2020-04-20",
         0,
         563035,
         540380,
         10674,
         8114,
         91,
         4,
         20
        ],
        [
         "2020-04-21",
         0,
         571014,
         547610,
         10683,
         8213,
         92,
         4,
         21
        ],
        [
         "2020-04-22",
         0,
         577959,
         555144,
         10694,
         8277,
         93,
         4,
         22
        ],
        [
         "2020-04-23",
         0,
         583971,
         563130,
         10702,
         8411,
         94,
         4,
         23
        ],
        [
         "2020-04-24",
         0,
         589520,
         569212,
         10708,
         8501,
         95,
         4,
         24
        ],
        [
         "2020-04-25",
         0,
         595161,
         575184,
         10718,
         8635,
         96,
         4,
         25
        ],
        [
         "2020-04-26",
         0,
         598285,
         578558,
         10728,
         8717,
         97,
         4,
         26
        ],
        [
         "2020-04-27",
         0,
         601660,
         582027,
         10738,
         8764,
         98,
         4,
         27
        ],
        [
         "2020-04-28",
         0,
         608514,
         588559,
         10752,
         8854,
         99,
         4,
         28
        ],
        [
         "2020-04-29",
         0,
         614197,
         595129,
         10761,
         8922,
         100,
         4,
         29
        ],
        [
         "2020-04-30",
         0,
         619881,
         600482,
         10765,
         9059,
         101,
         4,
         30
        ],
        [
         "2020-05-01",
         0,
         623069,
         603610,
         10774,
         9072,
         102,
         5,
         1
        ],
        [
         "2020-05-02",
         0,
         627562,
         608286,
         10780,
         9123,
         103,
         5,
         2
        ],
        [
         "2020-05-03",
         0,
         630973,
         611592,
         10793,
         9183,
         104,
         5,
         3
        ],
        [
         "2020-05-04",
         0,
         633921,
         614944,
         10801,
         9217,
         105,
         5,
         4
        ],
        [
         "2020-05-05",
         0,
         640237,
         620575,
         10804,
         9283,
         106,
         5,
         5
        ],
        [
         "2020-05-06",
         0,
         643095,
         624280,
         10806,
         9333,
         107,
         5,
         6
        ],
        [
         "2020-05-07",
         0,
         649388,
         630149,
         10810,
         9419,
         108,
         5,
         7
        ],
        [
         "2020-05-08",
         0,
         654863,
         635174,
         10822,
         9484,
         109,
         5,
         8
        ],
        [
         "2020-05-09",
         0,
         660030,
         640037,
         10840,
         9568,
         110,
         5,
         9
        ],
        [
         "2020-05-10",
         0,
         663886,
         642884,
         10874,
         9610,
         111,
         5,
         10
        ],
        [
         "2020-05-11",
         0,
         668492,
         646661,
         10909,
         9632,
         112,
         5,
         11
        ],
        [
         "2020-05-12",
         0,
         680890,
         653624,
         10936,
         9670,
         113,
         5,
         12
        ],
        [
         "2020-05-13",
         0,
         695920,
         665379,
         10962,
         9695,
         114,
         5,
         13
        ],
        [
         "2020-05-14",
         0,
         711484,
         679771,
         10991,
         9762,
         115,
         5,
         14
        ],
        [
         "2020-05-15",
         0,
         726747,
         695854,
         11018,
         9821,
         116,
         5,
         15
        ],
        [
         "2020-05-16",
         0,
         740645,
         711265,
         11037,
         9851,
         117,
         5,
         16
        ],
        [
         "2020-05-17",
         0,
         747653,
         718943,
         11050,
         9888,
         118,
         5,
         17
        ],
        [
         "2020-05-18",
         0,
         753211,
         726053,
         11065,
         9904,
         119,
         5,
         18
        ],
        [
         "2020-05-19",
         0,
         765574,
         737571,
         11078,
         9938,
         120,
         5,
         19
        ],
        [
         "2020-05-20",
         0,
         776433,
         748972,
         11110,
         10066,
         121,
         5,
         20
        ],
        [
         "2020-05-21",
         0,
         788684,
         759473,
         11122,
         10135,
         122,
         5,
         21
        ],
        [
         "2020-05-22",
         0,
         802418,
         770990,
         11142,
         10162,
         123,
         5,
         22
        ],
        [
         "2020-05-23",
         0,
         814420,
         781686,
         11165,
         10194,
         124,
         5,
         23
        ],
        [
         "2020-05-24",
         0,
         820289,
         788766,
         11190,
         10213,
         125,
         5,
         24
        ],
        [
         "2020-05-25",
         0,
         826437,
         796142,
         11206,
         10226,
         126,
         5,
         25
        ],
        [
         "2020-05-26",
         0,
         839475,
         806206,
         11225,
         10275,
         127,
         5,
         26
        ],
        [
         "2020-05-27",
         0,
         852876,
         820550,
         11265,
         10295,
         128,
         5,
         27
        ],
        [
         "2020-05-28",
         0,
         868666,
         834952,
         11344,
         10340,
         129,
         5,
         28
        ],
        [
         "2020-05-29",
         0,
         885120,
         849161,
         11402,
         10363,
         130,
         5,
         29
        ],
        [
         "2020-05-30",
         0,
         902901,
         865162,
         11441,
         10398,
         131,
         5,
         30
        ],
        [
         "2020-05-31",
         0,
         910822,
         876060,
         11468,
         10405,
         132,
         5,
         31
        ],
        [
         "2020-06-01",
         0,
         921391,
         885830,
         11503,
         10422,
         133,
         6,
         1
        ],
        [
         "2020-06-02",
         0,
         939851,
         899388,
         11541,
         10446,
         134,
         6,
         2
        ],
        [
         "2020-06-03",
         0,
         956852,
         917397,
         11590,
         10467,
         135,
         6,
         3
        ],
        [
         "2020-06-04",
         0,
         973858,
         934030,
         11629,
         10499,
         136,
         6,
         4
        ],
        [
         "2020-06-05",
         0,
         990960,
         950526,
         11668,
         10506,
         137,
         6,
         5
        ],
        [
         "2020-06-06",
         0,
         1005305,
         965632,
         11719,
         10531,
         138,
         6,
         6
        ],
        [
         "2020-06-07",
         0,
         1012769,
         974512,
         11776,
         10552,
         139,
         6,
         7
        ],
        [
         "2020-06-08",
         0,
         1018214,
         982026,
         11814,
         10563,
         140,
         6,
         8
        ],
        [
         "2020-06-09",
         0,
         1035997,
         996686,
         11852,
         10589,
         141,
         6,
         9
        ],
        [
         "2020-06-10",
         0,
         1051972,
         1013847,
         11902,
         10611,
         142,
         6,
         10
        ],
        [
         "2020-06-11",
         0,
         1066888,
         1029447,
         11947,
         10654,
         143,
         6,
         11
        ],
        [
         "2020-06-12",
         0,
         1081487,
         1045240,
         12003,
         10669,
         144,
         6,
         12
        ],
        [
         "2020-06-13",
         0,
         1094704,
         1059301,
         12051,
         10691,
         145,
         6,
         13
        ],
        [
         "2020-06-14",
         0,
         1100328,
         1066887,
         12085,
         10718,
         146,
         6,
         14
        ],
        [
         "2020-06-15",
         0,
         1105719,
         1072805,
         12121,
         10730,
         147,
         6,
         15
        ],
        [
         "2020-06-16",
         0,
         1119767,
         1084980,
         12155,
         10760,
         148,
         6,
         16
        ],
        [
         "2020-06-17",
         0,
         1132823,
         1099136,
         12198,
         10774,
         149,
         6,
         17
        ],
        [
         "2020-06-18",
         0,
         1145712,
         1111741,
         12257,
         10800,
         150,
         6,
         18
        ],
        [
         "2020-06-19",
         0,
         1158063,
         1124567,
         12306,
         10835,
         151,
         6,
         19
        ],
        [
         "2020-06-20",
         0,
         1170901,
         1137058,
         12373,
         10856,
         152,
         6,
         20
        ],
        [
         "2020-06-21",
         0,
         1176463,
         1143971,
         12421,
         10868,
         153,
         6,
         21
        ],
        [
         "2020-06-22",
         0,
         1182066,
         1150225,
         12438,
         10881,
         154,
         6,
         22
        ],
        [
         "2020-06-23",
         0,
         1196012,
         1161250,
         12484,
         10908,
         155,
         6,
         23
        ],
        [
         "2020-06-24",
         0,
         1208597,
         1175817,
         12535,
         10930,
         156,
         6,
         24
        ],
        [
         "2020-06-25",
         0,
         1220478,
         1189015,
         12563,
         10974,
         157,
         6,
         25
        ],
        [
         "2020-06-26",
         0,
         1232315,
         1200885,
         12602,
         11172,
         158,
         6,
         26
        ],
        [
         "2020-06-27",
         0,
         1243780,
         1211261,
         12653,
         11317,
         159,
         6,
         27
        ],
        [
         "2020-06-28",
         0,
         1251695,
         1219975,
         12715,
         11364,
         160,
         6,
         28
        ],
        [
         "2020-06-29",
         0,
         1259954,
         1228698,
         12757,
         11429,
         161,
         6,
         29
        ],
        [
         "2020-06-30",
         0,
         1273766,
         1240157,
         12800,
         11537,
         162,
         6,
         30
        ]
       ],
       "datasetInfos": [],
       "dbfsResultPath": null,
       "isJsonSchema": true,
       "metadata": {},
       "overflow": false,
       "plotOptions": {
        "customPlotOptions": {},
        "displayType": "table",
        "pivotAggregation": null,
        "pivotColumns": null,
        "xColumns": null,
        "yColumns": null
       },
       "removedWidgets": [],
       "schema": [
        {
         "metadata": "{\"__detected_date_formats\":\"yyyy-M-d\"}",
         "name": "date",
         "type": "\"date\""
        },
        {
         "metadata": "{}",
         "name": "time",
         "type": "\"integer\""
        },
        {
         "metadata": "{}",
         "name": "test",
         "type": "\"integer\""
        },
        {
         "metadata": "{}",
         "name": "negative",
         "type": "\"integer\""
        },
        {
         "metadata": "{}",
         "name": "confirmed",
         "type": "\"integer\""
        },
        {
         "metadata": "{}",
         "name": "released",
         "type": "\"integer\""
        },
        {
         "metadata": "{}",
         "name": "index",
         "type": "\"long\""
        },
        {
         "metadata": "{}",
         "name": "month",
         "type": "\"integer\""
        },
        {
         "metadata": "{}",
         "name": "day",
         "type": "\"integer\""
        }
       ],
       "type": "table"
      }
     },
     "output_type": "display_data"
    }
   ],
   "source": [
    "# TODO\n",
    "updated_df = fs.read_table(table_name)\n",
    "\n",
    "display(updated_df)"
   ]
  },
  {
   "cell_type": "markdown",
   "metadata": {
    "application/vnd.databricks.v1+cell": {
     "cellMetadata": {},
     "inputWidgets": {},
     "nuid": "7c7ec9b5-c891-47ee-86e7-8a6727f1b0d1",
     "showTitle": false,
     "title": "--i18n-529e3acd-adc0-45e3-b2a7-eed04a3911b2"
    }
   },
   "source": [
    "\n",
    "\n",
    "\n",
    "## Training \n",
    "\n",
    "Now that we have our feature table, we are ready to use it for model training. We'll need our target variable **`deceased`** in addition to our features, so let's get that first."
   ]
  },
  {
   "cell_type": "code",
   "execution_count": 0,
   "metadata": {
    "application/vnd.databricks.v1+cell": {
     "cellMetadata": {
      "byteLimit": 2048000,
      "rowLimit": 10000
     },
     "inputWidgets": {},
     "nuid": "242e4558-10fb-4d4e-9cda-c0913ef4d64b",
     "showTitle": false,
     "title": ""
    }
   },
   "outputs": [
    {
     "output_type": "display_data",
     "data": {
      "text/html": [
       "<style scoped>\n",
       "  .table-result-container {\n",
       "    max-height: 300px;\n",
       "    overflow: auto;\n",
       "  }\n",
       "  table, th, td {\n",
       "    border: 1px solid black;\n",
       "    border-collapse: collapse;\n",
       "  }\n",
       "  th, td {\n",
       "    padding: 5px;\n",
       "  }\n",
       "  th {\n",
       "    text-align: left;\n",
       "  }\n",
       "</style><div class='table-result-container'><table class='table-result'><thead style='background-color: white'><tr><th>index</th><th>deceased</th></tr></thead><tbody><tr><td>0</td><td>0</td></tr><tr><td>1</td><td>0</td></tr><tr><td>2</td><td>0</td></tr><tr><td>3</td><td>0</td></tr><tr><td>4</td><td>0</td></tr><tr><td>5</td><td>0</td></tr><tr><td>6</td><td>0</td></tr><tr><td>7</td><td>0</td></tr><tr><td>8</td><td>0</td></tr><tr><td>9</td><td>0</td></tr><tr><td>10</td><td>0</td></tr><tr><td>11</td><td>0</td></tr><tr><td>12</td><td>0</td></tr><tr><td>13</td><td>0</td></tr><tr><td>14</td><td>0</td></tr><tr><td>15</td><td>0</td></tr><tr><td>16</td><td>0</td></tr><tr><td>17</td><td>0</td></tr><tr><td>18</td><td>0</td></tr><tr><td>19</td><td>0</td></tr><tr><td>20</td><td>0</td></tr><tr><td>21</td><td>0</td></tr><tr><td>22</td><td>0</td></tr><tr><td>23</td><td>0</td></tr><tr><td>24</td><td>0</td></tr><tr><td>25</td><td>0</td></tr><tr><td>26</td><td>0</td></tr><tr><td>27</td><td>0</td></tr><tr><td>28</td><td>0</td></tr><tr><td>29</td><td>0</td></tr><tr><td>30</td><td>0</td></tr><tr><td>31</td><td>1</td></tr><tr><td>32</td><td>2</td></tr><tr><td>33</td><td>2</td></tr><tr><td>34</td><td>6</td></tr><tr><td>35</td><td>8</td></tr><tr><td>36</td><td>12</td></tr><tr><td>37</td><td>12</td></tr><tr><td>38</td><td>13</td></tr><tr><td>39</td><td>13</td></tr><tr><td>40</td><td>17</td></tr><tr><td>41</td><td>18</td></tr><tr><td>42</td><td>22</td></tr><tr><td>43</td><td>28</td></tr><tr><td>44</td><td>32</td></tr><tr><td>45</td><td>35</td></tr><tr><td>46</td><td>42</td></tr><tr><td>47</td><td>44</td></tr><tr><td>48</td><td>50</td></tr><tr><td>49</td><td>51</td></tr><tr><td>50</td><td>54</td></tr><tr><td>51</td><td>60</td></tr><tr><td>52</td><td>66</td></tr><tr><td>53</td><td>67</td></tr><tr><td>54</td><td>72</td></tr><tr><td>55</td><td>75</td></tr><tr><td>56</td><td>75</td></tr><tr><td>57</td><td>81</td></tr><tr><td>58</td><td>84</td></tr><tr><td>59</td><td>91</td></tr><tr><td>60</td><td>94</td></tr><tr><td>61</td><td>102</td></tr><tr><td>62</td><td>104</td></tr><tr><td>63</td><td>111</td></tr><tr><td>64</td><td>120</td></tr><tr><td>65</td><td>126</td></tr><tr><td>66</td><td>131</td></tr><tr><td>67</td><td>139</td></tr><tr><td>68</td><td>144</td></tr><tr><td>69</td><td>152</td></tr><tr><td>70</td><td>158</td></tr><tr><td>71</td><td>162</td></tr><tr><td>72</td><td>165</td></tr><tr><td>73</td><td>169</td></tr><tr><td>74</td><td>174</td></tr><tr><td>75</td><td>177</td></tr><tr><td>76</td><td>183</td></tr><tr><td>77</td><td>186</td></tr><tr><td>78</td><td>192</td></tr><tr><td>79</td><td>200</td></tr><tr><td>80</td><td>204</td></tr><tr><td>81</td><td>208</td></tr><tr><td>82</td><td>211</td></tr><tr><td>83</td><td>214</td></tr><tr><td>84</td><td>217</td></tr><tr><td>85</td><td>222</td></tr><tr><td>86</td><td>225</td></tr><tr><td>87</td><td>229</td></tr><tr><td>88</td><td>230</td></tr><tr><td>89</td><td>232</td></tr><tr><td>90</td><td>234</td></tr><tr><td>91</td><td>236</td></tr><tr><td>92</td><td>237</td></tr><tr><td>93</td><td>238</td></tr><tr><td>94</td><td>240</td></tr><tr><td>95</td><td>240</td></tr><tr><td>96</td><td>240</td></tr><tr><td>97</td><td>242</td></tr><tr><td>98</td><td>243</td></tr><tr><td>99</td><td>244</td></tr><tr><td>100</td><td>246</td></tr><tr><td>101</td><td>247</td></tr><tr><td>102</td><td>248</td></tr><tr><td>103</td><td>250</td></tr><tr><td>104</td><td>250</td></tr><tr><td>105</td><td>252</td></tr><tr><td>106</td><td>254</td></tr><tr><td>107</td><td>255</td></tr><tr><td>108</td><td>256</td></tr><tr><td>109</td><td>256</td></tr><tr><td>110</td><td>256</td></tr><tr><td>111</td><td>256</td></tr><tr><td>112</td><td>256</td></tr><tr><td>113</td><td>258</td></tr><tr><td>114</td><td>259</td></tr><tr><td>115</td><td>260</td></tr><tr><td>116</td><td>260</td></tr><tr><td>117</td><td>262</td></tr><tr><td>118</td><td>262</td></tr><tr><td>119</td><td>263</td></tr><tr><td>120</td><td>263</td></tr><tr><td>121</td><td>263</td></tr><tr><td>122</td><td>264</td></tr><tr><td>123</td><td>264</td></tr><tr><td>124</td><td>266</td></tr><tr><td>125</td><td>266</td></tr><tr><td>126</td><td>267</td></tr><tr><td>127</td><td>269</td></tr><tr><td>128</td><td>269</td></tr><tr><td>129</td><td>269</td></tr><tr><td>130</td><td>269</td></tr><tr><td>131</td><td>269</td></tr><tr><td>132</td><td>270</td></tr><tr><td>133</td><td>271</td></tr><tr><td>134</td><td>272</td></tr><tr><td>135</td><td>273</td></tr><tr><td>136</td><td>273</td></tr><tr><td>137</td><td>273</td></tr><tr><td>138</td><td>273</td></tr><tr><td>139</td><td>273</td></tr><tr><td>140</td><td>273</td></tr><tr><td>141</td><td>274</td></tr><tr><td>142</td><td>276</td></tr><tr><td>143</td><td>276</td></tr><tr><td>144</td><td>277</td></tr><tr><td>145</td><td>277</td></tr><tr><td>146</td><td>277</td></tr><tr><td>147</td><td>277</td></tr><tr><td>148</td><td>278</td></tr><tr><td>149</td><td>279</td></tr><tr><td>150</td><td>280</td></tr><tr><td>151</td><td>280</td></tr><tr><td>152</td><td>280</td></tr><tr><td>153</td><td>280</td></tr><tr><td>154</td><td>280</td></tr><tr><td>155</td><td>281</td></tr><tr><td>156</td><td>281</td></tr><tr><td>157</td><td>282</td></tr><tr><td>158</td><td>282</td></tr><tr><td>159</td><td>282</td></tr><tr><td>160</td><td>282</td></tr><tr><td>161</td><td>282</td></tr><tr><td>162</td><td>282</td></tr></tbody></table></div>"
      ]
     },
     "metadata": {
      "application/vnd.databricks.v1+output": {
       "addedWidgets": {},
       "aggData": [],
       "aggError": "",
       "aggOverflow": false,
       "aggSchema": [],
       "aggSeriesLimitReached": false,
       "aggType": "",
       "arguments": {},
       "columnCustomDisplayInfos": {},
       "data": [
        [
         0,
         0
        ],
        [
         1,
         0
        ],
        [
         2,
         0
        ],
        [
         3,
         0
        ],
        [
         4,
         0
        ],
        [
         5,
         0
        ],
        [
         6,
         0
        ],
        [
         7,
         0
        ],
        [
         8,
         0
        ],
        [
         9,
         0
        ],
        [
         10,
         0
        ],
        [
         11,
         0
        ],
        [
         12,
         0
        ],
        [
         13,
         0
        ],
        [
         14,
         0
        ],
        [
         15,
         0
        ],
        [
         16,
         0
        ],
        [
         17,
         0
        ],
        [
         18,
         0
        ],
        [
         19,
         0
        ],
        [
         20,
         0
        ],
        [
         21,
         0
        ],
        [
         22,
         0
        ],
        [
         23,
         0
        ],
        [
         24,
         0
        ],
        [
         25,
         0
        ],
        [
         26,
         0
        ],
        [
         27,
         0
        ],
        [
         28,
         0
        ],
        [
         29,
         0
        ],
        [
         30,
         0
        ],
        [
         31,
         1
        ],
        [
         32,
         2
        ],
        [
         33,
         2
        ],
        [
         34,
         6
        ],
        [
         35,
         8
        ],
        [
         36,
         12
        ],
        [
         37,
         12
        ],
        [
         38,
         13
        ],
        [
         39,
         13
        ],
        [
         40,
         17
        ],
        [
         41,
         18
        ],
        [
         42,
         22
        ],
        [
         43,
         28
        ],
        [
         44,
         32
        ],
        [
         45,
         35
        ],
        [
         46,
         42
        ],
        [
         47,
         44
        ],
        [
         48,
         50
        ],
        [
         49,
         51
        ],
        [
         50,
         54
        ],
        [
         51,
         60
        ],
        [
         52,
         66
        ],
        [
         53,
         67
        ],
        [
         54,
         72
        ],
        [
         55,
         75
        ],
        [
         56,
         75
        ],
        [
         57,
         81
        ],
        [
         58,
         84
        ],
        [
         59,
         91
        ],
        [
         60,
         94
        ],
        [
         61,
         102
        ],
        [
         62,
         104
        ],
        [
         63,
         111
        ],
        [
         64,
         120
        ],
        [
         65,
         126
        ],
        [
         66,
         131
        ],
        [
         67,
         139
        ],
        [
         68,
         144
        ],
        [
         69,
         152
        ],
        [
         70,
         158
        ],
        [
         71,
         162
        ],
        [
         72,
         165
        ],
        [
         73,
         169
        ],
        [
         74,
         174
        ],
        [
         75,
         177
        ],
        [
         76,
         183
        ],
        [
         77,
         186
        ],
        [
         78,
         192
        ],
        [
         79,
         200
        ],
        [
         80,
         204
        ],
        [
         81,
         208
        ],
        [
         82,
         211
        ],
        [
         83,
         214
        ],
        [
         84,
         217
        ],
        [
         85,
         222
        ],
        [
         86,
         225
        ],
        [
         87,
         229
        ],
        [
         88,
         230
        ],
        [
         89,
         232
        ],
        [
         90,
         234
        ],
        [
         91,
         236
        ],
        [
         92,
         237
        ],
        [
         93,
         238
        ],
        [
         94,
         240
        ],
        [
         95,
         240
        ],
        [
         96,
         240
        ],
        [
         97,
         242
        ],
        [
         98,
         243
        ],
        [
         99,
         244
        ],
        [
         100,
         246
        ],
        [
         101,
         247
        ],
        [
         102,
         248
        ],
        [
         103,
         250
        ],
        [
         104,
         250
        ],
        [
         105,
         252
        ],
        [
         106,
         254
        ],
        [
         107,
         255
        ],
        [
         108,
         256
        ],
        [
         109,
         256
        ],
        [
         110,
         256
        ],
        [
         111,
         256
        ],
        [
         112,
         256
        ],
        [
         113,
         258
        ],
        [
         114,
         259
        ],
        [
         115,
         260
        ],
        [
         116,
         260
        ],
        [
         117,
         262
        ],
        [
         118,
         262
        ],
        [
         119,
         263
        ],
        [
         120,
         263
        ],
        [
         121,
         263
        ],
        [
         122,
         264
        ],
        [
         123,
         264
        ],
        [
         124,
         266
        ],
        [
         125,
         266
        ],
        [
         126,
         267
        ],
        [
         127,
         269
        ],
        [
         128,
         269
        ],
        [
         129,
         269
        ],
        [
         130,
         269
        ],
        [
         131,
         269
        ],
        [
         132,
         270
        ],
        [
         133,
         271
        ],
        [
         134,
         272
        ],
        [
         135,
         273
        ],
        [
         136,
         273
        ],
        [
         137,
         273
        ],
        [
         138,
         273
        ],
        [
         139,
         273
        ],
        [
         140,
         273
        ],
        [
         141,
         274
        ],
        [
         142,
         276
        ],
        [
         143,
         276
        ],
        [
         144,
         277
        ],
        [
         145,
         277
        ],
        [
         146,
         277
        ],
        [
         147,
         277
        ],
        [
         148,
         278
        ],
        [
         149,
         279
        ],
        [
         150,
         280
        ],
        [
         151,
         280
        ],
        [
         152,
         280
        ],
        [
         153,
         280
        ],
        [
         154,
         280
        ],
        [
         155,
         281
        ],
        [
         156,
         281
        ],
        [
         157,
         282
        ],
        [
         158,
         282
        ],
        [
         159,
         282
        ],
        [
         160,
         282
        ],
        [
         161,
         282
        ],
        [
         162,
         282
        ]
       ],
       "datasetInfos": [],
       "dbfsResultPath": null,
       "isJsonSchema": true,
       "metadata": {},
       "overflow": false,
       "plotOptions": {
        "customPlotOptions": {},
        "displayType": "table",
        "pivotAggregation": null,
        "pivotColumns": null,
        "xColumns": null,
        "yColumns": null
       },
       "removedWidgets": [],
       "schema": [
        {
         "metadata": "{}",
         "name": "index",
         "type": "\"long\""
        },
        {
         "metadata": "{}",
         "name": "deceased",
         "type": "\"integer\""
        }
       ],
       "type": "table"
      }
     },
     "output_type": "display_data"
    }
   ],
   "source": [
    "target_df = covid_df.select([\"index\", \"deceased\"])\n",
    "\n",
    "display(target_df)"
   ]
  },
  {
   "cell_type": "markdown",
   "metadata": {
    "application/vnd.databricks.v1+cell": {
     "cellMetadata": {},
     "inputWidgets": {},
     "nuid": "394bd359-b510-4ee3-88ae-95f761ab8978",
     "showTitle": false,
     "title": "--i18n-386a9f38-3c89-41ba-9ce2-3645aa727411"
    }
   },
   "source": [
    "\n",
    "\n",
    "\n",
    "Now let's create our training and test datasets."
   ]
  },
  {
   "cell_type": "code",
   "execution_count": 0,
   "metadata": {
    "application/vnd.databricks.v1+cell": {
     "cellMetadata": {
      "byteLimit": 2048000,
      "rowLimit": 10000
     },
     "inputWidgets": {},
     "nuid": "8003a9a6-c833-4c47-9b87-e1b7cadfed95",
     "showTitle": false,
     "title": ""
    }
   },
   "outputs": [
    {
     "output_type": "display_data",
     "data": {
      "text/html": [
       "<div>\n",
       "<style scoped>\n",
       "    .dataframe tbody tr th:only-of-type {\n",
       "        vertical-align: middle;\n",
       "    }\n",
       "\n",
       "    .dataframe tbody tr th {\n",
       "        vertical-align: top;\n",
       "    }\n",
       "\n",
       "    .dataframe thead th {\n",
       "        text-align: right;\n",
       "    }\n",
       "</style>\n",
       "<table border=\"1\" class=\"dataframe\">\n",
       "  <thead>\n",
       "    <tr style=\"text-align: right;\">\n",
       "      <th></th>\n",
       "      <th>confirmed</th>\n",
       "      <th>day</th>\n",
       "      <th>month</th>\n",
       "      <th>negative</th>\n",
       "      <th>released</th>\n",
       "      <th>test</th>\n",
       "      <th>time</th>\n",
       "    </tr>\n",
       "  </thead>\n",
       "  <tbody>\n",
       "    <tr>\n",
       "      <th>84</th>\n",
       "      <td>10537</td>\n",
       "      <td>13</td>\n",
       "      <td>4</td>\n",
       "      <td>494815</td>\n",
       "      <td>7447</td>\n",
       "      <td>518743</td>\n",
       "      <td>0</td>\n",
       "    </tr>\n",
       "    <tr>\n",
       "      <th>2</th>\n",
       "      <td>1</td>\n",
       "      <td>22</td>\n",
       "      <td>1</td>\n",
       "      <td>3</td>\n",
       "      <td>0</td>\n",
       "      <td>4</td>\n",
       "      <td>16</td>\n",
       "    </tr>\n",
       "    <tr>\n",
       "      <th>94</th>\n",
       "      <td>10702</td>\n",
       "      <td>23</td>\n",
       "      <td>4</td>\n",
       "      <td>563130</td>\n",
       "      <td>8411</td>\n",
       "      <td>583971</td>\n",
       "      <td>0</td>\n",
       "    </tr>\n",
       "    <tr>\n",
       "      <th>45</th>\n",
       "      <td>5766</td>\n",
       "      <td>5</td>\n",
       "      <td>3</td>\n",
       "      <td>118965</td>\n",
       "      <td>88</td>\n",
       "      <td>146541</td>\n",
       "      <td>0</td>\n",
       "    </tr>\n",
       "    <tr>\n",
       "      <th>42</th>\n",
       "      <td>4212</td>\n",
       "      <td>2</td>\n",
       "      <td>3</td>\n",
       "      <td>71580</td>\n",
       "      <td>31</td>\n",
       "      <td>109591</td>\n",
       "      <td>0</td>\n",
       "    </tr>\n",
       "  </tbody>\n",
       "</table>\n",
       "</div>"
      ]
     },
     "metadata": {
      "application/vnd.databricks.v1+output": {
       "addedWidgets": {},
       "arguments": {},
       "data": "<div>\n<style scoped>\n    .dataframe tbody tr th:only-of-type {\n        vertical-align: middle;\n    }\n\n    .dataframe tbody tr th {\n        vertical-align: top;\n    }\n\n    .dataframe thead th {\n        text-align: right;\n    }\n</style>\n<table border=\"1\" class=\"dataframe\">\n  <thead>\n    <tr style=\"text-align: right;\">\n      <th></th>\n      <th>confirmed</th>\n      <th>day</th>\n      <th>month</th>\n      <th>negative</th>\n      <th>released</th>\n      <th>test</th>\n      <th>time</th>\n    </tr>\n  </thead>\n  <tbody>\n    <tr>\n      <th>84</th>\n      <td>10537</td>\n      <td>13</td>\n      <td>4</td>\n      <td>494815</td>\n      <td>7447</td>\n      <td>518743</td>\n      <td>0</td>\n    </tr>\n    <tr>\n      <th>2</th>\n      <td>1</td>\n      <td>22</td>\n      <td>1</td>\n      <td>3</td>\n      <td>0</td>\n      <td>4</td>\n      <td>16</td>\n    </tr>\n    <tr>\n      <th>94</th>\n      <td>10702</td>\n      <td>23</td>\n      <td>4</td>\n      <td>563130</td>\n      <td>8411</td>\n      <td>583971</td>\n      <td>0</td>\n    </tr>\n    <tr>\n      <th>45</th>\n      <td>5766</td>\n      <td>5</td>\n      <td>3</td>\n      <td>118965</td>\n      <td>88</td>\n      <td>146541</td>\n      <td>0</td>\n    </tr>\n    <tr>\n      <th>42</th>\n      <td>4212</td>\n      <td>2</td>\n      <td>3</td>\n      <td>71580</td>\n      <td>31</td>\n      <td>109591</td>\n      <td>0</td>\n    </tr>\n  </tbody>\n</table>\n</div>",
       "datasetInfos": [],
       "metadata": {},
       "removedWidgets": [],
       "textData": null,
       "type": "htmlSandbox"
      }
     },
     "output_type": "display_data"
    }
   ],
   "source": [
    "from sklearn.model_selection import train_test_split\n",
    "\n",
    "def load_data(table_name, lookup_key):\n",
    "    model_feature_lookups = [feature_store.FeatureLookup(table_name=table_name, lookup_key=lookup_key)]\n",
    "\n",
    "    # fs.create_training_set will look up features in model_feature_lookups with matched key from inference_data_df\n",
    "    training_set = fs.create_training_set(target_df, model_feature_lookups, label=\"deceased\", exclude_columns=[\"index\",\"date\"])\n",
    "    training_pd = training_set.load_df().toPandas()\n",
    "\n",
    "    # Create train and test datasets\n",
    "    X = training_pd.drop(\"deceased\", axis=1)\n",
    "    y = training_pd[\"deceased\"]\n",
    "    X_train, X_test, y_train, y_test = train_test_split(X, y, test_size=0.2, random_state=42)\n",
    "    return X_train, X_test, y_train, y_test, training_set\n",
    "\n",
    "X_train, X_test, y_train, y_test, training_set = load_data(table_name, \"index\")\n",
    "X_train.head()"
   ]
  },
  {
   "cell_type": "markdown",
   "metadata": {
    "application/vnd.databricks.v1+cell": {
     "cellMetadata": {},
     "inputWidgets": {},
     "nuid": "84bb6045-b332-4dff-bb4f-17b98d1b224b",
     "showTitle": false,
     "title": "--i18n-3d1f0e1f-5ead-4f3d-81d5-d400231d0e43"
    }
   },
   "source": [
    "\n",
    "\n",
    "\n",
    "Now we can train a model and register it to the feature store."
   ]
  },
  {
   "cell_type": "code",
   "execution_count": 0,
   "metadata": {
    "application/vnd.databricks.v1+cell": {
     "cellMetadata": {
      "byteLimit": 2048000,
      "rowLimit": 10000
     },
     "inputWidgets": {},
     "nuid": "d9887376-8bcd-4155-9881-1d20d92b123b",
     "showTitle": false,
     "title": ""
    }
   },
   "outputs": [],
   "source": [
    "from mlflow.tracking.client import MlflowClient\n",
    "\n",
    "client = MlflowClient()\n",
    "\n",
    "suffix = DA.unique_name(\"-\")\n",
    "model_name = f\"feature-store-covid_{suffix}\"\n",
    "\n",
    "try:\n",
    "    client.delete_registered_model(model_name) # Deleting model if already created\n",
    "except:\n",
    "    None"
   ]
  },
  {
   "cell_type": "code",
   "execution_count": 0,
   "metadata": {
    "application/vnd.databricks.v1+cell": {
     "cellMetadata": {
      "byteLimit": 2048000,
      "rowLimit": 10000
     },
     "inputWidgets": {},
     "nuid": "640ecafa-8fa3-44eb-9674-eef3976795d5",
     "showTitle": false,
     "title": ""
    }
   },
   "outputs": [
    {
     "output_type": "stream",
     "name": "stderr",
     "output_type": "stream",
     "text": [
      "/databricks/python/lib/python3.9/site-packages/mlflow/models/signature.py:130: UserWarning: Hint: Inferred schema contains integer column(s). Integer columns in Python cannot represent missing values. If your input data contains missing values at inference time, it will be encoded as floats and will cause a schema enforcement error. The best way to avoid this problem is to infer the model schema based on a realistic data sample (training dataset) that includes missing values. Alternatively, you can declare integer columns as doubles (float64) whenever these columns may have missing values. See `Handling Integers With Missing Values <https://www.mlflow.org/docs/latest/models.html#handling-integers-with-missing-values>`_ for more details.\n  inputs = _infer_schema(model_input)\n/databricks/python/lib/python3.9/site-packages/mlflow/models/signature.py:131: UserWarning: Hint: Inferred schema contains integer column(s). Integer columns in Python cannot represent missing values. If your input data contains missing values at inference time, it will be encoded as floats and will cause a schema enforcement error. The best way to avoid this problem is to infer the model schema based on a realistic data sample (training dataset) that includes missing values. Alternatively, you can declare integer columns as doubles (float64) whenever these columns may have missing values. See `Handling Integers With Missing Values <https://www.mlflow.org/docs/latest/models.html#handling-integers-with-missing-values>`_ for more details.\n  outputs = _infer_schema(model_output) if model_output is not None else None\n/databricks/python/lib/python3.9/site-packages/_distutils_hack/__init__.py:30: UserWarning: Setuptools is replacing distutils.\n  warnings.warn(\"Setuptools is replacing distutils.\")\nSuccessfully registered model 'feature-store-covid_charlie-ohara-4mi2-da-sml'.\n2024/03/01 16:50:50 INFO mlflow.tracking._model_registry.client: Waiting up to 300 seconds for model version to finish creation.                     Model name: feature-store-covid_charlie-ohara-4mi2-da-sml, version 1\nCreated version '1' of model 'feature-store-covid_charlie-ohara-4mi2-da-sml'.\n"
     ]
    }
   ],
   "source": [
    "import mlflow\n",
    "from sklearn.ensemble import RandomForestRegressor\n",
    "from sklearn.metrics import mean_squared_error, r2_score\n",
    "from mlflow.models.signature import infer_signature\n",
    "\n",
    "def train_model(table_name):\n",
    "    # load data \n",
    "    X_train, X_test, y_train, y_test, training_set = load_data(table_name, \"index\")\n",
    "\n",
    "    ## fit and log model\n",
    "    with mlflow.start_run() as run:\n",
    "        # define algo to use\n",
    "        rf = RandomForestRegressor(max_depth=3, n_estimators=20, random_state=42)\n",
    "        # create the model\n",
    "        rf.fit(X_train, y_train)\n",
    "        # use the model to predict \n",
    "        y_pred = rf.predict(X_test)\n",
    "        # evaluate performance\n",
    "        mlflow.log_metric(\"mse\", mean_squared_error(y_test, y_pred))\n",
    "        mlflow.log_metric(\"r2\", r2_score(y_test, y_pred))\n",
    "\n",
    "        # add to feature store so we can see which features were used to create which model\n",
    "        fs.log_model(\n",
    "            model=rf,\n",
    "            artifact_path=\"feature-store-model\",\n",
    "            flavor=mlflow.sklearn,\n",
    "            training_set=training_set,\n",
    "            registered_model_name=model_name,\n",
    "            input_example=X_train[:5],\n",
    "            signature=infer_signature(X_train, y_train)\n",
    "        )\n",
    "    \n",
    "train_model(table_name)"
   ]
  },
  {
   "cell_type": "markdown",
   "metadata": {
    "application/vnd.databricks.v1+cell": {
     "cellMetadata": {},
     "inputWidgets": {},
     "nuid": "22bea86e-4a31-4e29-ac54-7f987ebda611",
     "showTitle": false,
     "title": "--i18n-1836dc20-0e77-467e-af8f-33dcfdac7209"
    }
   },
   "source": [
    "\n",
    "\n",
    "\n",
    "Now we have a trained model! Check the Feature Store UI to see that our model is now there. Can you tell which features this model uses from that table and which we excluded?\n",
    "\n",
    "Finally, let's apply the model."
   ]
  },
  {
   "cell_type": "code",
   "execution_count": 0,
   "metadata": {
    "application/vnd.databricks.v1+cell": {
     "cellMetadata": {
      "byteLimit": 2048000,
      "rowLimit": 10000
     },
     "inputWidgets": {},
     "nuid": "2bdce1e2-6f74-4664-b9ec-0ea67f379eec",
     "showTitle": false,
     "title": ""
    }
   },
   "outputs": [
    {
     "output_type": "stream",
     "name": "stderr",
     "output_type": "stream",
     "text": [
      "2024/03/01 16:52:06 WARNING mlflow.pyfunc: Calling `spark_udf()` with `env_manager=\"local\"` does not recreate the same environment that was used during training, which may lead to errors or inaccurate predictions. We recommend specifying `env_manager=\"conda\"`, which automatically recreates the environment that was used to train the model and performs inference in the recreated environment.\n2024/03/01 16:52:06 INFO mlflow.models.flavor_backend_registry: Selected backend for flavor 'python_function'\n"
     ]
    },
    {
     "output_type": "display_data",
     "data": {
      "text/html": [
       "<style scoped>\n",
       "  .table-result-container {\n",
       "    max-height: 300px;\n",
       "    overflow: auto;\n",
       "  }\n",
       "  table, th, td {\n",
       "    border: 1px solid black;\n",
       "    border-collapse: collapse;\n",
       "  }\n",
       "  th, td {\n",
       "    padding: 5px;\n",
       "  }\n",
       "  th {\n",
       "    text-align: left;\n",
       "  }\n",
       "</style><div class='table-result-container'><table class='table-result'><thead style='background-color: white'><tr><th>index</th><th>confirmed</th><th>day</th><th>month</th><th>negative</th><th>released</th><th>test</th><th>time</th><th>prediction</th></tr></thead><tbody><tr><td>0</td><td>1</td><td>20</td><td>1</td><td>0</td><td>0</td><td>1</td><td>16</td><td>1.947045450366538</td></tr><tr><td>1</td><td>1</td><td>21</td><td>1</td><td>0</td><td>0</td><td>1</td><td>16</td><td>1.947045450366538</td></tr><tr><td>2</td><td>1</td><td>22</td><td>1</td><td>3</td><td>0</td><td>4</td><td>16</td><td>1.947045450366538</td></tr><tr><td>3</td><td>1</td><td>23</td><td>1</td><td>21</td><td>0</td><td>22</td><td>16</td><td>1.947045450366538</td></tr><tr><td>4</td><td>2</td><td>24</td><td>1</td><td>25</td><td>0</td><td>27</td><td>16</td><td>1.947045450366538</td></tr><tr><td>5</td><td>2</td><td>25</td><td>1</td><td>25</td><td>0</td><td>27</td><td>16</td><td>1.947045450366538</td></tr><tr><td>6</td><td>3</td><td>26</td><td>1</td><td>47</td><td>0</td><td>51</td><td>16</td><td>1.947045450366538</td></tr><tr><td>7</td><td>4</td><td>27</td><td>1</td><td>56</td><td>0</td><td>61</td><td>16</td><td>1.947045450366538</td></tr><tr><td>8</td><td>4</td><td>28</td><td>1</td><td>97</td><td>0</td><td>116</td><td>16</td><td>1.947045450366538</td></tr><tr><td>9</td><td>4</td><td>29</td><td>1</td><td>155</td><td>0</td><td>187</td><td>16</td><td>1.947045450366538</td></tr><tr><td>10</td><td>6</td><td>30</td><td>1</td><td>199</td><td>0</td><td>246</td><td>16</td><td>1.947045450366538</td></tr><tr><td>11</td><td>11</td><td>31</td><td>1</td><td>245</td><td>0</td><td>312</td><td>16</td><td>1.947045450366538</td></tr><tr><td>12</td><td>12</td><td>1</td><td>2</td><td>289</td><td>0</td><td>371</td><td>16</td><td>1.947045450366538</td></tr><tr><td>13</td><td>15</td><td>2</td><td>2</td><td>327</td><td>0</td><td>429</td><td>16</td><td>1.947045450366538</td></tr><tr><td>14</td><td>15</td><td>3</td><td>2</td><td>414</td><td>0</td><td>490</td><td>16</td><td>1.947045450366538</td></tr><tr><td>15</td><td>16</td><td>4</td><td>2</td><td>462</td><td>0</td><td>607</td><td>16</td><td>1.947045450366538</td></tr><tr><td>16</td><td>18</td><td>5</td><td>2</td><td>522</td><td>1</td><td>714</td><td>16</td><td>1.947045450366538</td></tr><tr><td>17</td><td>23</td><td>6</td><td>2</td><td>693</td><td>2</td><td>885</td><td>16</td><td>1.947045450366538</td></tr><tr><td>18</td><td>24</td><td>7</td><td>2</td><td>1001</td><td>2</td><td>1352</td><td>16</td><td>1.947045450366538</td></tr><tr><td>19</td><td>24</td><td>8</td><td>2</td><td>1134</td><td>2</td><td>2097</td><td>16</td><td>1.947045450366538</td></tr><tr><td>20</td><td>27</td><td>9</td><td>2</td><td>1683</td><td>3</td><td>2598</td><td>16</td><td>1.947045450366538</td></tr><tr><td>21</td><td>27</td><td>10</td><td>2</td><td>2552</td><td>4</td><td>3110</td><td>16</td><td>1.947045450366538</td></tr><tr><td>22</td><td>28</td><td>11</td><td>2</td><td>3535</td><td>4</td><td>4325</td><td>16</td><td>1.947045450366538</td></tr><tr><td>23</td><td>28</td><td>12</td><td>2</td><td>4811</td><td>7</td><td>5624</td><td>16</td><td>1.947045450366538</td></tr><tr><td>24</td><td>28</td><td>13</td><td>2</td><td>5921</td><td>7</td><td>6511</td><td>16</td><td>1.947045450366538</td></tr><tr><td>25</td><td>28</td><td>14</td><td>2</td><td>6679</td><td>7</td><td>7242</td><td>16</td><td>1.947045450366538</td></tr><tr><td>26</td><td>28</td><td>15</td><td>2</td><td>7148</td><td>9</td><td>7734</td><td>16</td><td>1.947045450366538</td></tr><tr><td>27</td><td>29</td><td>16</td><td>2</td><td>7647</td><td>9</td><td>8161</td><td>16</td><td>1.947045450366538</td></tr><tr><td>28</td><td>30</td><td>17</td><td>2</td><td>7980</td><td>10</td><td>8718</td><td>16</td><td>1.947045450366538</td></tr><tr><td>29</td><td>31</td><td>18</td><td>2</td><td>8923</td><td>12</td><td>9772</td><td>16</td><td>1.947045450366538</td></tr><tr><td>30</td><td>51</td><td>19</td><td>2</td><td>9973</td><td>16</td><td>11173</td><td>16</td><td>1.947045450366538</td></tr><tr><td>31</td><td>104</td><td>20</td><td>2</td><td>11238</td><td>16</td><td>13202</td><td>16</td><td>1.947045450366538</td></tr><tr><td>32</td><td>204</td><td>21</td><td>2</td><td>13016</td><td>17</td><td>16400</td><td>16</td><td>1.947045450366538</td></tr><tr><td>33</td><td>433</td><td>22</td><td>2</td><td>15116</td><td>18</td><td>21586</td><td>16</td><td>1.947045450366538</td></tr><tr><td>34</td><td>602</td><td>23</td><td>2</td><td>17520</td><td>18</td><td>26179</td><td>16</td><td>1.947045450366538</td></tr><tr><td>35</td><td>833</td><td>24</td><td>2</td><td>20292</td><td>24</td><td>32756</td><td>16</td><td>3.4848334687997173</td></tr><tr><td>36</td><td>977</td><td>25</td><td>2</td><td>25447</td><td>24</td><td>40304</td><td>16</td><td>5.369006766766118</td></tr><tr><td>37</td><td>1261</td><td>26</td><td>2</td><td>31576</td><td>24</td><td>53553</td><td>16</td><td>6.160673433432786</td></tr><tr><td>38</td><td>1766</td><td>27</td><td>2</td><td>39318</td><td>26</td><td>66652</td><td>16</td><td>7.140476389097809</td></tr><tr><td>39</td><td>2337</td><td>28</td><td>2</td><td>48593</td><td>27</td><td>81167</td><td>16</td><td>9.973077121698541</td></tr><tr><td>40</td><td>3150</td><td>29</td><td>2</td><td>55723</td><td>28</td><td>94055</td><td>16</td><td>12.725259661381081</td></tr><tr><td>41</td><td>3736</td><td>1</td><td>3</td><td>61825</td><td>30</td><td>98921</td><td>16</td><td>16.64012802860876</td></tr><tr><td>42</td><td>4212</td><td>2</td><td>3</td><td>71580</td><td>31</td><td>109591</td><td>0</td><td>26.778149572649575</td></tr><tr><td>43</td><td>4812</td><td>3</td><td>3</td><td>85484</td><td>34</td><td>125851</td><td>0</td><td>30.565149572649574</td></tr><tr><td>44</td><td>5328</td><td>4</td><td>3</td><td>102965</td><td>41</td><td>136707</td><td>0</td><td>30.565149572649574</td></tr><tr><td>45</td><td>5766</td><td>5</td><td>3</td><td>118965</td><td>88</td><td>146541</td><td>0</td><td>34.45562576312576</td></tr><tr><td>46</td><td>6284</td><td>6</td><td>3</td><td>136624</td><td>108</td><td>164740</td><td>0</td><td>41.52314102564103</td></tr><tr><td>47</td><td>6767</td><td>7</td><td>3</td><td>151802</td><td>118</td><td>178189</td><td>0</td><td>47.63599816849817</td></tr><tr><td>48</td><td>7134</td><td>8</td><td>3</td><td>162008</td><td>130</td><td>188518</td><td>0</td><td>58.9986507936508</td></tr><tr><td>49</td><td>7382</td><td>9</td><td>3</td><td>171778</td><td>166</td><td>196618</td><td>0</td><td>60.37722222222224</td></tr><tr><td>50</td><td>7513</td><td>10</td><td>3</td><td>184179</td><td>247</td><td>210144</td><td>0</td><td>62.43039682539684</td></tr><tr><td>51</td><td>7755</td><td>11</td><td>3</td><td>196100</td><td>288</td><td>222395</td><td>0</td><td>65.71095238095239</td></tr><tr><td>52</td><td>7869</td><td>12</td><td>3</td><td>209402</td><td>333</td><td>234998</td><td>0</td><td>65.71095238095239</td></tr><tr><td>53</td><td>7979</td><td>13</td><td>3</td><td>222728</td><td>510</td><td>248647</td><td>0</td><td>65.71095238095239</td></tr><tr><td>54</td><td>8086</td><td>14</td><td>3</td><td>235615</td><td>714</td><td>261335</td><td>0</td><td>65.71095238095239</td></tr><tr><td>55</td><td>8126</td><td>15</td><td>3</td><td>243778</td><td>834</td><td>268212</td><td>0</td><td>65.71095238095239</td></tr><tr><td>56</td><td>8236</td><td>16</td><td>3</td><td>251297</td><td>1137</td><td>274504</td><td>0</td><td>72.4384523809524</td></tr><tr><td>57</td><td>8320</td><td>17</td><td>3</td><td>261105</td><td>1401</td><td>286716</td><td>0</td><td>77.37384920634923</td></tr><tr><td>58</td><td>8413</td><td>18</td><td>3</td><td>270888</td><td>1540</td><td>295647</td><td>0</td><td>77.37384920634923</td></tr><tr><td>59</td><td>8565</td><td>19</td><td>3</td><td>282555</td><td>1947</td><td>307024</td><td>0</td><td>90.90825396825397</td></tr><tr><td>60</td><td>8652</td><td>20</td><td>3</td><td>292487</td><td>2233</td><td>316664</td><td>0</td><td>101.06996031746031</td></tr><tr><td>61</td><td>8799</td><td>21</td><td>3</td><td>303006</td><td>2612</td><td>327509</td><td>0</td><td>110.5992857142857</td></tr><tr><td>62</td><td>8897</td><td>22</td><td>3</td><td>308343</td><td>2909</td><td>331780</td><td>0</td><td>110.5992857142857</td></tr><tr><td>63</td><td>8961</td><td>23</td><td>3</td><td>315447</td><td>3166</td><td>338036</td><td>0</td><td>110.5992857142857</td></tr><tr><td>64</td><td>9037</td><td>24</td><td>3</td><td>324105</td><td>3507</td><td>348582</td><td>0</td><td>110.5992857142857</td></tr><tr><td>65</td><td>9137</td><td>25</td><td>3</td><td>334481</td><td>3730</td><td>357896</td><td>0</td><td>110.5992857142857</td></tr><tr><td>66</td><td>9241</td><td>26</td><td>3</td><td>341332</td><td>4144</td><td>364942</td><td>0</td><td>127.17772005772005</td></tr><tr><td>67</td><td>9332</td><td>27</td><td>3</td><td>352410</td><td>4528</td><td>376961</td><td>0</td><td>156.24186507936508</td></tr><tr><td>68</td><td>9478</td><td>28</td><td>3</td><td>361883</td><td>4811</td><td>387925</td><td>0</td><td>158.6372496947497</td></tr><tr><td>69</td><td>9583</td><td>29</td><td>3</td><td>369530</td><td>5033</td><td>394141</td><td>0</td><td>158.6372496947497</td></tr><tr><td>70</td><td>9661</td><td>30</td><td>3</td><td>372002</td><td>5228</td><td>395194</td><td>0</td><td>158.6372496947497</td></tr><tr><td>71</td><td>9786</td><td>31</td><td>3</td><td>383886</td><td>5408</td><td>410564</td><td>0</td><td>158.6372496947497</td></tr><tr><td>72</td><td>9887</td><td>1</td><td>4</td><td>395075</td><td>5567</td><td>421547</td><td>0</td><td>158.6372496947497</td></tr><tr><td>73</td><td>9976</td><td>2</td><td>4</td><td>403882</td><td>5828</td><td>431743</td><td>0</td><td>158.6372496947497</td></tr><tr><td>74</td><td>10062</td><td>3</td><td>4</td><td>414303</td><td>6021</td><td>443273</td><td>0</td><td>160.0097496947497</td></tr><tr><td>75</td><td>10156</td><td>4</td><td>4</td><td>424732</td><td>6325</td><td>455032</td><td>0</td><td>182.2635087135087</td></tr><tr><td>76</td><td>10237</td><td>5</td><td>4</td><td>431425</td><td>6463</td><td>461233</td><td>0</td><td>194.27618548118548</td></tr><tr><td>77</td><td>10284</td><td>6</td><td>4</td><td>437225</td><td>6598</td><td>466804</td><td>0</td><td>194.27618548118548</td></tr><tr><td>78</td><td>10331</td><td>7</td><td>4</td><td>446323</td><td>6694</td><td>477304</td><td>0</td><td>198.6103463203463</td></tr><tr><td>79</td><td>10384</td><td>8</td><td>4</td><td>457761</td><td>6776</td><td>486003</td><td>0</td><td>201.187012987013</td></tr><tr><td>80</td><td>10423</td><td>9</td><td>4</td><td>468779</td><td>6973</td><td>494711</td><td>0</td><td>203.3155844155844</td></tr><tr><td>81</td><td>10450</td><td>10</td><td>4</td><td>477303</td><td>7117</td><td>503051</td><td>0</td><td>206.09289923039924</td></tr><tr><td>82</td><td>10480</td><td>11</td><td>4</td><td>485929</td><td>7243</td><td>510479</td><td>0</td><td>208.13335377585378</td></tr><tr><td>83</td><td>10512</td><td>12</td><td>4</td><td>490321</td><td>7368</td><td>514621</td><td>0</td><td>208.13335377585378</td></tr><tr><td>84</td><td>10537</td><td>13</td><td>4</td><td>494815</td><td>7447</td><td>518743</td><td>0</td><td>208.13335377585378</td></tr><tr><td>85</td><td>10564</td><td>14</td><td>4</td><td>502223</td><td>7534</td><td>527438</td><td>0</td><td>227.50348052484637</td></tr><tr><td>86</td><td>10591</td><td>15</td><td>4</td><td>508935</td><td>7616</td><td>534552</td><td>0</td><td>240.2868301243353</td></tr><tr><td>87</td><td>10613</td><td>16</td><td>4</td><td>513894</td><td>7757</td><td>538775</td><td>0</td><td>240.2868301243353</td></tr><tr><td>88</td><td>10635</td><td>17</td><td>4</td><td>521642</td><td>7829</td><td>546463</td><td>0</td><td>242.1938301243353</td></tr><tr><td>89</td><td>10653</td><td>18</td><td>4</td><td>530631</td><td>7937</td><td>554834</td><td>0</td><td>242.1938301243353</td></tr><tr><td>90</td><td>10661</td><td>19</td><td>4</td><td>536205</td><td>8042</td><td>559109</td><td>0</td><td>242.1938301243353</td></tr><tr><td>91</td><td>10674</td><td>20</td><td>4</td><td>540380</td><td>8114</td><td>563035</td><td>0</td><td>242.1938301243353</td></tr><tr><td>92</td><td>10683</td><td>21</td><td>4</td><td>547610</td><td>8213</td><td>571014</td><td>0</td><td>242.1938301243353</td></tr><tr><td>93</td><td>10694</td><td>22</td><td>4</td><td>555144</td><td>8277</td><td>577959</td><td>0</td><td>243.95644917195438</td></tr><tr><td>94</td><td>10702</td><td>23</td><td>4</td><td>563130</td><td>8411</td><td>583971</td><td>0</td><td>243.95644917195438</td></tr><tr><td>95</td><td>10708</td><td>24</td><td>4</td><td>569212</td><td>8501</td><td>589520</td><td>0</td><td>243.95644917195438</td></tr><tr><td>96</td><td>10718</td><td>25</td><td>4</td><td>575184</td><td>8635</td><td>595161</td><td>0</td><td>243.95644917195438</td></tr><tr><td>97</td><td>10728</td><td>26</td><td>4</td><td>578558</td><td>8717</td><td>598285</td><td>0</td><td>243.95644917195438</td></tr><tr><td>98</td><td>10738</td><td>27</td><td>4</td><td>582027</td><td>8764</td><td>601660</td><td>0</td><td>243.95644917195438</td></tr><tr><td>99</td><td>10752</td><td>28</td><td>4</td><td>588559</td><td>8854</td><td>608514</td><td>0</td><td>243.95644917195438</td></tr><tr><td>100</td><td>10761</td><td>29</td><td>4</td><td>595129</td><td>8922</td><td>614197</td><td>0</td><td>243.95644917195438</td></tr><tr><td>101</td><td>10765</td><td>30</td><td>4</td><td>600482</td><td>9059</td><td>619881</td><td>0</td><td>243.95644917195438</td></tr><tr><td>102</td><td>10774</td><td>1</td><td>5</td><td>603610</td><td>9072</td><td>623069</td><td>0</td><td>243.95644917195438</td></tr><tr><td>103</td><td>10780</td><td>2</td><td>5</td><td>608286</td><td>9123</td><td>627562</td><td>0</td><td>243.95644917195438</td></tr><tr><td>104</td><td>10793</td><td>3</td><td>5</td><td>611592</td><td>9183</td><td>630973</td><td>0</td><td>243.95644917195438</td></tr><tr><td>105</td><td>10801</td><td>4</td><td>5</td><td>614944</td><td>9217</td><td>633921</td><td>0</td><td>248.5906652919645</td></tr><tr><td>106</td><td>10804</td><td>5</td><td>5</td><td>620575</td><td>9283</td><td>640237</td><td>0</td><td>251.99054237916303</td></tr><tr><td>107</td><td>10806</td><td>6</td><td>5</td><td>624280</td><td>9333</td><td>643095</td><td>0</td><td>251.99054237916303</td></tr><tr><td>108</td><td>10810</td><td>7</td><td>5</td><td>630149</td><td>9419</td><td>649388</td><td>0</td><td>251.99054237916303</td></tr><tr><td>109</td><td>10822</td><td>8</td><td>5</td><td>635174</td><td>9484</td><td>654863</td><td>0</td><td>253.61690403493645</td></tr><tr><td>110</td><td>10840</td><td>9</td><td>5</td><td>640037</td><td>9568</td><td>660030</td><td>0</td><td>253.61690403493645</td></tr><tr><td>111</td><td>10874</td><td>10</td><td>5</td><td>642884</td><td>9610</td><td>663886</td><td>0</td><td>253.61690403493645</td></tr><tr><td>112</td><td>10909</td><td>11</td><td>5</td><td>646661</td><td>9632</td><td>668492</td><td>0</td><td>253.61690403493645</td></tr><tr><td>113</td><td>10936</td><td>12</td><td>5</td><td>653624</td><td>9670</td><td>680890</td><td>0</td><td>253.61690403493645</td></tr><tr><td>114</td><td>10962</td><td>13</td><td>5</td><td>665379</td><td>9695</td><td>695920</td><td>0</td><td>254.93269107197347</td></tr><tr><td>115</td><td>10991</td><td>14</td><td>5</td><td>679771</td><td>9762</td><td>711484</td><td>0</td><td>264.15485743260143</td></tr><tr><td>116</td><td>11018</td><td>15</td><td>5</td><td>695854</td><td>9821</td><td>726747</td><td>0</td><td>267.1178058593868</td></tr><tr><td>117</td><td>11037</td><td>16</td><td>5</td><td>711265</td><td>9851</td><td>740645</td><td>0</td><td>268.39916949575047</td></tr><tr><td>118</td><td>11050</td><td>17</td><td>5</td><td>718943</td><td>9888</td><td>747653</td><td>0</td><td>269.57727475890835</td></tr><tr><td>119</td><td>11065</td><td>18</td><td>5</td><td>726053</td><td>9904</td><td>753211</td><td>0</td><td>269.57727475890835</td></tr><tr><td>120</td><td>11078</td><td>19</td><td>5</td><td>737571</td><td>9938</td><td>765574</td><td>0</td><td>269.57727475890835</td></tr><tr><td>121</td><td>11110</td><td>20</td><td>5</td><td>748972</td><td>10066</td><td>776433</td><td>0</td><td>269.57727475890835</td></tr><tr><td>122</td><td>11122</td><td>21</td><td>5</td><td>759473</td><td>10135</td><td>788684</td><td>0</td><td>269.57727475890835</td></tr><tr><td>123</td><td>11142</td><td>22</td><td>5</td><td>770990</td><td>10162</td><td>802418</td><td>0</td><td>270.8586080922417</td></tr><tr><td>124</td><td>11165</td><td>23</td><td>5</td><td>781686</td><td>10194</td><td>814420</td><td>0</td><td>271.9077839164175</td></tr><tr><td>125</td><td>11190</td><td>24</td><td>5</td><td>788766</td><td>10213</td><td>820289</td><td>0</td><td>271.9077839164175</td></tr><tr><td>126</td><td>11206</td><td>25</td><td>5</td><td>796142</td><td>10226</td><td>826437</td><td>0</td><td>271.9077839164175</td></tr><tr><td>127</td><td>11225</td><td>26</td><td>5</td><td>806206</td><td>10275</td><td>839475</td><td>0</td><td>271.9077839164175</td></tr><tr><td>128</td><td>11265</td><td>27</td><td>5</td><td>820550</td><td>10295</td><td>852876</td><td>0</td><td>271.9077839164175</td></tr><tr><td>129</td><td>11344</td><td>28</td><td>5</td><td>834952</td><td>10340</td><td>868666</td><td>0</td><td>271.9077839164175</td></tr><tr><td>130</td><td>11402</td><td>29</td><td>5</td><td>849161</td><td>10363</td><td>885120</td><td>0</td><td>271.9077839164175</td></tr><tr><td>131</td><td>11441</td><td>30</td><td>5</td><td>865162</td><td>10398</td><td>902901</td><td>0</td><td>271.9077839164175</td></tr><tr><td>132</td><td>11468</td><td>31</td><td>5</td><td>876060</td><td>10405</td><td>910822</td><td>0</td><td>271.9077839164175</td></tr><tr><td>133</td><td>11503</td><td>1</td><td>6</td><td>885830</td><td>10422</td><td>921391</td><td>0</td><td>271.9077839164175</td></tr><tr><td>134</td><td>11541</td><td>2</td><td>6</td><td>899388</td><td>10446</td><td>939851</td><td>0</td><td>271.9077839164175</td></tr><tr><td>135</td><td>11590</td><td>3</td><td>6</td><td>917397</td><td>10467</td><td>956852</td><td>0</td><td>271.9077839164175</td></tr><tr><td>136</td><td>11629</td><td>4</td><td>6</td><td>934030</td><td>10499</td><td>973858</td><td>0</td><td>271.9077839164175</td></tr><tr><td>137</td><td>11668</td><td>5</td><td>6</td><td>950526</td><td>10506</td><td>990960</td><td>0</td><td>271.9077839164175</td></tr><tr><td>138</td><td>11719</td><td>6</td><td>6</td><td>965632</td><td>10531</td><td>1005305</td><td>0</td><td>271.9077839164175</td></tr><tr><td>139</td><td>11776</td><td>7</td><td>6</td><td>974512</td><td>10552</td><td>1012769</td><td>0</td><td>271.9077839164175</td></tr><tr><td>140</td><td>11814</td><td>8</td><td>6</td><td>982026</td><td>10563</td><td>1018214</td><td>0</td><td>271.9077839164175</td></tr><tr><td>141</td><td>11852</td><td>9</td><td>6</td><td>996686</td><td>10589</td><td>1035997</td><td>0</td><td>271.9077839164175</td></tr><tr><td>142</td><td>11902</td><td>10</td><td>6</td><td>1013847</td><td>10611</td><td>1051972</td><td>0</td><td>271.9077839164175</td></tr><tr><td>143</td><td>11947</td><td>11</td><td>6</td><td>1029447</td><td>10654</td><td>1066888</td><td>0</td><td>271.9077839164175</td></tr><tr><td>144</td><td>12003</td><td>12</td><td>6</td><td>1045240</td><td>10669</td><td>1081487</td><td>0</td><td>271.9077839164175</td></tr><tr><td>145</td><td>12051</td><td>13</td><td>6</td><td>1059301</td><td>10691</td><td>1094704</td><td>0</td><td>271.9077839164175</td></tr><tr><td>146</td><td>12085</td><td>14</td><td>6</td><td>1066887</td><td>10718</td><td>1100328</td><td>0</td><td>271.9077839164175</td></tr><tr><td>147</td><td>12121</td><td>15</td><td>6</td><td>1072805</td><td>10730</td><td>1105719</td><td>0</td><td>271.9077839164175</td></tr><tr><td>148</td><td>12155</td><td>16</td><td>6</td><td>1084980</td><td>10760</td><td>1119767</td><td>0</td><td>271.9077839164175</td></tr><tr><td>149</td><td>12198</td><td>17</td><td>6</td><td>1099136</td><td>10774</td><td>1132823</td><td>0</td><td>271.9077839164175</td></tr><tr><td>150</td><td>12257</td><td>18</td><td>6</td><td>1111741</td><td>10800</td><td>1145712</td><td>0</td><td>271.9077839164175</td></tr><tr><td>151</td><td>12306</td><td>19</td><td>6</td><td>1124567</td><td>10835</td><td>1158063</td><td>0</td><td>271.9077839164175</td></tr><tr><td>152</td><td>12373</td><td>20</td><td>6</td><td>1137058</td><td>10856</td><td>1170901</td><td>0</td><td>271.9077839164175</td></tr><tr><td>153</td><td>12421</td><td>21</td><td>6</td><td>1143971</td><td>10868</td><td>1176463</td><td>0</td><td>271.9077839164175</td></tr><tr><td>154</td><td>12438</td><td>22</td><td>6</td><td>1150225</td><td>10881</td><td>1182066</td><td>0</td><td>271.9077839164175</td></tr><tr><td>155</td><td>12484</td><td>23</td><td>6</td><td>1161250</td><td>10908</td><td>1196012</td><td>0</td><td>271.9077839164175</td></tr><tr><td>156</td><td>12535</td><td>24</td><td>6</td><td>1175817</td><td>10930</td><td>1208597</td><td>0</td><td>271.9077839164175</td></tr><tr><td>157</td><td>12563</td><td>25</td><td>6</td><td>1189015</td><td>10974</td><td>1220478</td><td>0</td><td>271.9077839164175</td></tr><tr><td>158</td><td>12602</td><td>26</td><td>6</td><td>1200885</td><td>11172</td><td>1232315</td><td>0</td><td>271.9077839164175</td></tr><tr><td>159</td><td>12653</td><td>27</td><td>6</td><td>1211261</td><td>11317</td><td>1243780</td><td>0</td><td>271.9077839164175</td></tr><tr><td>160</td><td>12715</td><td>28</td><td>6</td><td>1219975</td><td>11364</td><td>1251695</td><td>0</td><td>271.9077839164175</td></tr><tr><td>161</td><td>12757</td><td>29</td><td>6</td><td>1228698</td><td>11429</td><td>1259954</td><td>0</td><td>271.9077839164175</td></tr><tr><td>162</td><td>12800</td><td>30</td><td>6</td><td>1240157</td><td>11537</td><td>1273766</td><td>0</td><td>271.9077839164175</td></tr></tbody></table></div>"
      ]
     },
     "metadata": {
      "application/vnd.databricks.v1+output": {
       "addedWidgets": {},
       "aggData": [],
       "aggError": "",
       "aggOverflow": false,
       "aggSchema": [],
       "aggSeriesLimitReached": false,
       "aggType": "",
       "arguments": {},
       "columnCustomDisplayInfos": {},
       "data": [
        [
         0,
         1,
         20,
         1,
         0,
         0,
         1,
         16,
         1.947045450366538
        ],
        [
         1,
         1,
         21,
         1,
         0,
         0,
         1,
         16,
         1.947045450366538
        ],
        [
         2,
         1,
         22,
         1,
         3,
         0,
         4,
         16,
         1.947045450366538
        ],
        [
         3,
         1,
         23,
         1,
         21,
         0,
         22,
         16,
         1.947045450366538
        ],
        [
         4,
         2,
         24,
         1,
         25,
         0,
         27,
         16,
         1.947045450366538
        ],
        [
         5,
         2,
         25,
         1,
         25,
         0,
         27,
         16,
         1.947045450366538
        ],
        [
         6,
         3,
         26,
         1,
         47,
         0,
         51,
         16,
         1.947045450366538
        ],
        [
         7,
         4,
         27,
         1,
         56,
         0,
         61,
         16,
         1.947045450366538
        ],
        [
         8,
         4,
         28,
         1,
         97,
         0,
         116,
         16,
         1.947045450366538
        ],
        [
         9,
         4,
         29,
         1,
         155,
         0,
         187,
         16,
         1.947045450366538
        ],
        [
         10,
         6,
         30,
         1,
         199,
         0,
         246,
         16,
         1.947045450366538
        ],
        [
         11,
         11,
         31,
         1,
         245,
         0,
         312,
         16,
         1.947045450366538
        ],
        [
         12,
         12,
         1,
         2,
         289,
         0,
         371,
         16,
         1.947045450366538
        ],
        [
         13,
         15,
         2,
         2,
         327,
         0,
         429,
         16,
         1.947045450366538
        ],
        [
         14,
         15,
         3,
         2,
         414,
         0,
         490,
         16,
         1.947045450366538
        ],
        [
         15,
         16,
         4,
         2,
         462,
         0,
         607,
         16,
         1.947045450366538
        ],
        [
         16,
         18,
         5,
         2,
         522,
         1,
         714,
         16,
         1.947045450366538
        ],
        [
         17,
         23,
         6,
         2,
         693,
         2,
         885,
         16,
         1.947045450366538
        ],
        [
         18,
         24,
         7,
         2,
         1001,
         2,
         1352,
         16,
         1.947045450366538
        ],
        [
         19,
         24,
         8,
         2,
         1134,
         2,
         2097,
         16,
         1.947045450366538
        ],
        [
         20,
         27,
         9,
         2,
         1683,
         3,
         2598,
         16,
         1.947045450366538
        ],
        [
         21,
         27,
         10,
         2,
         2552,
         4,
         3110,
         16,
         1.947045450366538
        ],
        [
         22,
         28,
         11,
         2,
         3535,
         4,
         4325,
         16,
         1.947045450366538
        ],
        [
         23,
         28,
         12,
         2,
         4811,
         7,
         5624,
         16,
         1.947045450366538
        ],
        [
         24,
         28,
         13,
         2,
         5921,
         7,
         6511,
         16,
         1.947045450366538
        ],
        [
         25,
         28,
         14,
         2,
         6679,
         7,
         7242,
         16,
         1.947045450366538
        ],
        [
         26,
         28,
         15,
         2,
         7148,
         9,
         7734,
         16,
         1.947045450366538
        ],
        [
         27,
         29,
         16,
         2,
         7647,
         9,
         8161,
         16,
         1.947045450366538
        ],
        [
         28,
         30,
         17,
         2,
         7980,
         10,
         8718,
         16,
         1.947045450366538
        ],
        [
         29,
         31,
         18,
         2,
         8923,
         12,
         9772,
         16,
         1.947045450366538
        ],
        [
         30,
         51,
         19,
         2,
         9973,
         16,
         11173,
         16,
         1.947045450366538
        ],
        [
         31,
         104,
         20,
         2,
         11238,
         16,
         13202,
         16,
         1.947045450366538
        ],
        [
         32,
         204,
         21,
         2,
         13016,
         17,
         16400,
         16,
         1.947045450366538
        ],
        [
         33,
         433,
         22,
         2,
         15116,
         18,
         21586,
         16,
         1.947045450366538
        ],
        [
         34,
         602,
         23,
         2,
         17520,
         18,
         26179,
         16,
         1.947045450366538
        ],
        [
         35,
         833,
         24,
         2,
         20292,
         24,
         32756,
         16,
         3.4848334687997173
        ],
        [
         36,
         977,
         25,
         2,
         25447,
         24,
         40304,
         16,
         5.369006766766118
        ],
        [
         37,
         1261,
         26,
         2,
         31576,
         24,
         53553,
         16,
         6.160673433432786
        ],
        [
         38,
         1766,
         27,
         2,
         39318,
         26,
         66652,
         16,
         7.140476389097809
        ],
        [
         39,
         2337,
         28,
         2,
         48593,
         27,
         81167,
         16,
         9.973077121698541
        ],
        [
         40,
         3150,
         29,
         2,
         55723,
         28,
         94055,
         16,
         12.725259661381081
        ],
        [
         41,
         3736,
         1,
         3,
         61825,
         30,
         98921,
         16,
         16.64012802860876
        ],
        [
         42,
         4212,
         2,
         3,
         71580,
         31,
         109591,
         0,
         26.778149572649575
        ],
        [
         43,
         4812,
         3,
         3,
         85484,
         34,
         125851,
         0,
         30.565149572649574
        ],
        [
         44,
         5328,
         4,
         3,
         102965,
         41,
         136707,
         0,
         30.565149572649574
        ],
        [
         45,
         5766,
         5,
         3,
         118965,
         88,
         146541,
         0,
         34.45562576312576
        ],
        [
         46,
         6284,
         6,
         3,
         136624,
         108,
         164740,
         0,
         41.52314102564103
        ],
        [
         47,
         6767,
         7,
         3,
         151802,
         118,
         178189,
         0,
         47.63599816849817
        ],
        [
         48,
         7134,
         8,
         3,
         162008,
         130,
         188518,
         0,
         58.9986507936508
        ],
        [
         49,
         7382,
         9,
         3,
         171778,
         166,
         196618,
         0,
         60.37722222222224
        ],
        [
         50,
         7513,
         10,
         3,
         184179,
         247,
         210144,
         0,
         62.43039682539684
        ],
        [
         51,
         7755,
         11,
         3,
         196100,
         288,
         222395,
         0,
         65.71095238095239
        ],
        [
         52,
         7869,
         12,
         3,
         209402,
         333,
         234998,
         0,
         65.71095238095239
        ],
        [
         53,
         7979,
         13,
         3,
         222728,
         510,
         248647,
         0,
         65.71095238095239
        ],
        [
         54,
         8086,
         14,
         3,
         235615,
         714,
         261335,
         0,
         65.71095238095239
        ],
        [
         55,
         8126,
         15,
         3,
         243778,
         834,
         268212,
         0,
         65.71095238095239
        ],
        [
         56,
         8236,
         16,
         3,
         251297,
         1137,
         274504,
         0,
         72.4384523809524
        ],
        [
         57,
         8320,
         17,
         3,
         261105,
         1401,
         286716,
         0,
         77.37384920634923
        ],
        [
         58,
         8413,
         18,
         3,
         270888,
         1540,
         295647,
         0,
         77.37384920634923
        ],
        [
         59,
         8565,
         19,
         3,
         282555,
         1947,
         307024,
         0,
         90.90825396825397
        ],
        [
         60,
         8652,
         20,
         3,
         292487,
         2233,
         316664,
         0,
         101.06996031746031
        ],
        [
         61,
         8799,
         21,
         3,
         303006,
         2612,
         327509,
         0,
         110.5992857142857
        ],
        [
         62,
         8897,
         22,
         3,
         308343,
         2909,
         331780,
         0,
         110.5992857142857
        ],
        [
         63,
         8961,
         23,
         3,
         315447,
         3166,
         338036,
         0,
         110.5992857142857
        ],
        [
         64,
         9037,
         24,
         3,
         324105,
         3507,
         348582,
         0,
         110.5992857142857
        ],
        [
         65,
         9137,
         25,
         3,
         334481,
         3730,
         357896,
         0,
         110.5992857142857
        ],
        [
         66,
         9241,
         26,
         3,
         341332,
         4144,
         364942,
         0,
         127.17772005772005
        ],
        [
         67,
         9332,
         27,
         3,
         352410,
         4528,
         376961,
         0,
         156.24186507936508
        ],
        [
         68,
         9478,
         28,
         3,
         361883,
         4811,
         387925,
         0,
         158.6372496947497
        ],
        [
         69,
         9583,
         29,
         3,
         369530,
         5033,
         394141,
         0,
         158.6372496947497
        ],
        [
         70,
         9661,
         30,
         3,
         372002,
         5228,
         395194,
         0,
         158.6372496947497
        ],
        [
         71,
         9786,
         31,
         3,
         383886,
         5408,
         410564,
         0,
         158.6372496947497
        ],
        [
         72,
         9887,
         1,
         4,
         395075,
         5567,
         421547,
         0,
         158.6372496947497
        ],
        [
         73,
         9976,
         2,
         4,
         403882,
         5828,
         431743,
         0,
         158.6372496947497
        ],
        [
         74,
         10062,
         3,
         4,
         414303,
         6021,
         443273,
         0,
         160.0097496947497
        ],
        [
         75,
         10156,
         4,
         4,
         424732,
         6325,
         455032,
         0,
         182.2635087135087
        ],
        [
         76,
         10237,
         5,
         4,
         431425,
         6463,
         461233,
         0,
         194.27618548118548
        ],
        [
         77,
         10284,
         6,
         4,
         437225,
         6598,
         466804,
         0,
         194.27618548118548
        ],
        [
         78,
         10331,
         7,
         4,
         446323,
         6694,
         477304,
         0,
         198.6103463203463
        ],
        [
         79,
         10384,
         8,
         4,
         457761,
         6776,
         486003,
         0,
         201.187012987013
        ],
        [
         80,
         10423,
         9,
         4,
         468779,
         6973,
         494711,
         0,
         203.3155844155844
        ],
        [
         81,
         10450,
         10,
         4,
         477303,
         7117,
         503051,
         0,
         206.09289923039924
        ],
        [
         82,
         10480,
         11,
         4,
         485929,
         7243,
         510479,
         0,
         208.13335377585378
        ],
        [
         83,
         10512,
         12,
         4,
         490321,
         7368,
         514621,
         0,
         208.13335377585378
        ],
        [
         84,
         10537,
         13,
         4,
         494815,
         7447,
         518743,
         0,
         208.13335377585378
        ],
        [
         85,
         10564,
         14,
         4,
         502223,
         7534,
         527438,
         0,
         227.50348052484637
        ],
        [
         86,
         10591,
         15,
         4,
         508935,
         7616,
         534552,
         0,
         240.2868301243353
        ],
        [
         87,
         10613,
         16,
         4,
         513894,
         7757,
         538775,
         0,
         240.2868301243353
        ],
        [
         88,
         10635,
         17,
         4,
         521642,
         7829,
         546463,
         0,
         242.1938301243353
        ],
        [
         89,
         10653,
         18,
         4,
         530631,
         7937,
         554834,
         0,
         242.1938301243353
        ],
        [
         90,
         10661,
         19,
         4,
         536205,
         8042,
         559109,
         0,
         242.1938301243353
        ],
        [
         91,
         10674,
         20,
         4,
         540380,
         8114,
         563035,
         0,
         242.1938301243353
        ],
        [
         92,
         10683,
         21,
         4,
         547610,
         8213,
         571014,
         0,
         242.1938301243353
        ],
        [
         93,
         10694,
         22,
         4,
         555144,
         8277,
         577959,
         0,
         243.95644917195438
        ],
        [
         94,
         10702,
         23,
         4,
         563130,
         8411,
         583971,
         0,
         243.95644917195438
        ],
        [
         95,
         10708,
         24,
         4,
         569212,
         8501,
         589520,
         0,
         243.95644917195438
        ],
        [
         96,
         10718,
         25,
         4,
         575184,
         8635,
         595161,
         0,
         243.95644917195438
        ],
        [
         97,
         10728,
         26,
         4,
         578558,
         8717,
         598285,
         0,
         243.95644917195438
        ],
        [
         98,
         10738,
         27,
         4,
         582027,
         8764,
         601660,
         0,
         243.95644917195438
        ],
        [
         99,
         10752,
         28,
         4,
         588559,
         8854,
         608514,
         0,
         243.95644917195438
        ],
        [
         100,
         10761,
         29,
         4,
         595129,
         8922,
         614197,
         0,
         243.95644917195438
        ],
        [
         101,
         10765,
         30,
         4,
         600482,
         9059,
         619881,
         0,
         243.95644917195438
        ],
        [
         102,
         10774,
         1,
         5,
         603610,
         9072,
         623069,
         0,
         243.95644917195438
        ],
        [
         103,
         10780,
         2,
         5,
         608286,
         9123,
         627562,
         0,
         243.95644917195438
        ],
        [
         104,
         10793,
         3,
         5,
         611592,
         9183,
         630973,
         0,
         243.95644917195438
        ],
        [
         105,
         10801,
         4,
         5,
         614944,
         9217,
         633921,
         0,
         248.5906652919645
        ],
        [
         106,
         10804,
         5,
         5,
         620575,
         9283,
         640237,
         0,
         251.99054237916303
        ],
        [
         107,
         10806,
         6,
         5,
         624280,
         9333,
         643095,
         0,
         251.99054237916303
        ],
        [
         108,
         10810,
         7,
         5,
         630149,
         9419,
         649388,
         0,
         251.99054237916303
        ],
        [
         109,
         10822,
         8,
         5,
         635174,
         9484,
         654863,
         0,
         253.61690403493645
        ],
        [
         110,
         10840,
         9,
         5,
         640037,
         9568,
         660030,
         0,
         253.61690403493645
        ],
        [
         111,
         10874,
         10,
         5,
         642884,
         9610,
         663886,
         0,
         253.61690403493645
        ],
        [
         112,
         10909,
         11,
         5,
         646661,
         9632,
         668492,
         0,
         253.61690403493645
        ],
        [
         113,
         10936,
         12,
         5,
         653624,
         9670,
         680890,
         0,
         253.61690403493645
        ],
        [
         114,
         10962,
         13,
         5,
         665379,
         9695,
         695920,
         0,
         254.93269107197347
        ],
        [
         115,
         10991,
         14,
         5,
         679771,
         9762,
         711484,
         0,
         264.15485743260143
        ],
        [
         116,
         11018,
         15,
         5,
         695854,
         9821,
         726747,
         0,
         267.1178058593868
        ],
        [
         117,
         11037,
         16,
         5,
         711265,
         9851,
         740645,
         0,
         268.39916949575047
        ],
        [
         118,
         11050,
         17,
         5,
         718943,
         9888,
         747653,
         0,
         269.57727475890835
        ],
        [
         119,
         11065,
         18,
         5,
         726053,
         9904,
         753211,
         0,
         269.57727475890835
        ],
        [
         120,
         11078,
         19,
         5,
         737571,
         9938,
         765574,
         0,
         269.57727475890835
        ],
        [
         121,
         11110,
         20,
         5,
         748972,
         10066,
         776433,
         0,
         269.57727475890835
        ],
        [
         122,
         11122,
         21,
         5,
         759473,
         10135,
         788684,
         0,
         269.57727475890835
        ],
        [
         123,
         11142,
         22,
         5,
         770990,
         10162,
         802418,
         0,
         270.8586080922417
        ],
        [
         124,
         11165,
         23,
         5,
         781686,
         10194,
         814420,
         0,
         271.9077839164175
        ],
        [
         125,
         11190,
         24,
         5,
         788766,
         10213,
         820289,
         0,
         271.9077839164175
        ],
        [
         126,
         11206,
         25,
         5,
         796142,
         10226,
         826437,
         0,
         271.9077839164175
        ],
        [
         127,
         11225,
         26,
         5,
         806206,
         10275,
         839475,
         0,
         271.9077839164175
        ],
        [
         128,
         11265,
         27,
         5,
         820550,
         10295,
         852876,
         0,
         271.9077839164175
        ],
        [
         129,
         11344,
         28,
         5,
         834952,
         10340,
         868666,
         0,
         271.9077839164175
        ],
        [
         130,
         11402,
         29,
         5,
         849161,
         10363,
         885120,
         0,
         271.9077839164175
        ],
        [
         131,
         11441,
         30,
         5,
         865162,
         10398,
         902901,
         0,
         271.9077839164175
        ],
        [
         132,
         11468,
         31,
         5,
         876060,
         10405,
         910822,
         0,
         271.9077839164175
        ],
        [
         133,
         11503,
         1,
         6,
         885830,
         10422,
         921391,
         0,
         271.9077839164175
        ],
        [
         134,
         11541,
         2,
         6,
         899388,
         10446,
         939851,
         0,
         271.9077839164175
        ],
        [
         135,
         11590,
         3,
         6,
         917397,
         10467,
         956852,
         0,
         271.9077839164175
        ],
        [
         136,
         11629,
         4,
         6,
         934030,
         10499,
         973858,
         0,
         271.9077839164175
        ],
        [
         137,
         11668,
         5,
         6,
         950526,
         10506,
         990960,
         0,
         271.9077839164175
        ],
        [
         138,
         11719,
         6,
         6,
         965632,
         10531,
         1005305,
         0,
         271.9077839164175
        ],
        [
         139,
         11776,
         7,
         6,
         974512,
         10552,
         1012769,
         0,
         271.9077839164175
        ],
        [
         140,
         11814,
         8,
         6,
         982026,
         10563,
         1018214,
         0,
         271.9077839164175
        ],
        [
         141,
         11852,
         9,
         6,
         996686,
         10589,
         1035997,
         0,
         271.9077839164175
        ],
        [
         142,
         11902,
         10,
         6,
         1013847,
         10611,
         1051972,
         0,
         271.9077839164175
        ],
        [
         143,
         11947,
         11,
         6,
         1029447,
         10654,
         1066888,
         0,
         271.9077839164175
        ],
        [
         144,
         12003,
         12,
         6,
         1045240,
         10669,
         1081487,
         0,
         271.9077839164175
        ],
        [
         145,
         12051,
         13,
         6,
         1059301,
         10691,
         1094704,
         0,
         271.9077839164175
        ],
        [
         146,
         12085,
         14,
         6,
         1066887,
         10718,
         1100328,
         0,
         271.9077839164175
        ],
        [
         147,
         12121,
         15,
         6,
         1072805,
         10730,
         1105719,
         0,
         271.9077839164175
        ],
        [
         148,
         12155,
         16,
         6,
         1084980,
         10760,
         1119767,
         0,
         271.9077839164175
        ],
        [
         149,
         12198,
         17,
         6,
         1099136,
         10774,
         1132823,
         0,
         271.9077839164175
        ],
        [
         150,
         12257,
         18,
         6,
         1111741,
         10800,
         1145712,
         0,
         271.9077839164175
        ],
        [
         151,
         12306,
         19,
         6,
         1124567,
         10835,
         1158063,
         0,
         271.9077839164175
        ],
        [
         152,
         12373,
         20,
         6,
         1137058,
         10856,
         1170901,
         0,
         271.9077839164175
        ],
        [
         153,
         12421,
         21,
         6,
         1143971,
         10868,
         1176463,
         0,
         271.9077839164175
        ],
        [
         154,
         12438,
         22,
         6,
         1150225,
         10881,
         1182066,
         0,
         271.9077839164175
        ],
        [
         155,
         12484,
         23,
         6,
         1161250,
         10908,
         1196012,
         0,
         271.9077839164175
        ],
        [
         156,
         12535,
         24,
         6,
         1175817,
         10930,
         1208597,
         0,
         271.9077839164175
        ],
        [
         157,
         12563,
         25,
         6,
         1189015,
         10974,
         1220478,
         0,
         271.9077839164175
        ],
        [
         158,
         12602,
         26,
         6,
         1200885,
         11172,
         1232315,
         0,
         271.9077839164175
        ],
        [
         159,
         12653,
         27,
         6,
         1211261,
         11317,
         1243780,
         0,
         271.9077839164175
        ],
        [
         160,
         12715,
         28,
         6,
         1219975,
         11364,
         1251695,
         0,
         271.9077839164175
        ],
        [
         161,
         12757,
         29,
         6,
         1228698,
         11429,
         1259954,
         0,
         271.9077839164175
        ],
        [
         162,
         12800,
         30,
         6,
         1240157,
         11537,
         1273766,
         0,
         271.9077839164175
        ]
       ],
       "datasetInfos": [],
       "dbfsResultPath": null,
       "isJsonSchema": true,
       "metadata": {},
       "overflow": false,
       "plotOptions": {
        "customPlotOptions": {},
        "displayType": "table",
        "pivotAggregation": null,
        "pivotColumns": null,
        "xColumns": null,
        "yColumns": null
       },
       "removedWidgets": [],
       "schema": [
        {
         "metadata": "{}",
         "name": "index",
         "type": "\"long\""
        },
        {
         "metadata": "{}",
         "name": "confirmed",
         "type": "\"integer\""
        },
        {
         "metadata": "{}",
         "name": "day",
         "type": "\"integer\""
        },
        {
         "metadata": "{}",
         "name": "month",
         "type": "\"integer\""
        },
        {
         "metadata": "{}",
         "name": "negative",
         "type": "\"integer\""
        },
        {
         "metadata": "{}",
         "name": "released",
         "type": "\"integer\""
        },
        {
         "metadata": "{}",
         "name": "test",
         "type": "\"integer\""
        },
        {
         "metadata": "{}",
         "name": "time",
         "type": "\"integer\""
        },
        {
         "metadata": "{}",
         "name": "prediction",
         "type": "\"double\""
        }
       ],
       "type": "table"
      }
     },
     "output_type": "display_data"
    }
   ],
   "source": [
    "## For sake of simplicity, we will just predict on the same inference_data_df\n",
    "batch_input_df = target_df.drop(\"deceased\") # Exclude true label\n",
    "# make predictions based on the features using the registered model\n",
    "predictions_df = fs.score_batch(f\"models:/{model_name}/1\", \n",
    "                                  batch_input_df, result_type=\"double\")\n",
    "display(predictions_df)"
   ]
  },
  {
   "cell_type": "markdown",
   "metadata": {
    "application/vnd.databricks.v1+cell": {
     "cellMetadata": {},
     "inputWidgets": {},
     "nuid": "fef7d72f-d477-4ff7-a6f3-6c948bf2face",
     "showTitle": false,
     "title": "--i18n-a2c7fb12-fd0b-493f-be4f-793d0a61695b"
    }
   },
   "source": [
    "## Classroom Cleanup\n",
    "\n",
    "Run the following cell to remove lessons-specific assets created during this lesson:"
   ]
  },
  {
   "cell_type": "code",
   "execution_count": 0,
   "metadata": {
    "application/vnd.databricks.v1+cell": {
     "cellMetadata": {
      "byteLimit": 2048000,
      "rowLimit": 10000
     },
     "inputWidgets": {},
     "nuid": "e5b9a519-cd86-469d-9e31-81d4a8d2a27b",
     "showTitle": false,
     "title": ""
    }
   },
   "outputs": [],
   "source": [
    "DA.cleanup()"
   ]
  },
  {
   "cell_type": "markdown",
   "metadata": {
    "application/vnd.databricks.v1+cell": {
     "cellMetadata": {},
     "inputWidgets": {},
     "nuid": "f6d432e2-8ba1-4be6-98c7-e313842aee33",
     "showTitle": false,
     "title": ""
    }
   },
   "source": [
    "&copy; 2023 Databricks, Inc. All rights reserved.<br/>\n",
    "Apache, Apache Spark, Spark and the Spark logo are trademarks of the <a href=\"https://www.apache.org/\">Apache Software Foundation</a>.<br/>\n",
    "<br/>\n",
    "<a href=\"https://databricks.com/privacy-policy\">Privacy Policy</a> | <a href=\"https://databricks.com/terms-of-use\">Terms of Use</a> | <a href=\"https://help.databricks.com/\">Support</a>"
   ]
  }
 ],
 "metadata": {
  "application/vnd.databricks.v1+notebook": {
   "dashboards": [],
   "language": "python",
   "notebookMetadata": {
    "pythonIndentUnit": 2
   },
   "notebookName": "ml_10_feature_store_lab",
   "widgets": {}
  }
 },
 "nbformat": 4,
 "nbformat_minor": 0
}
