{
 "cells": [
  {
   "cell_type": "markdown",
   "metadata": {
    "application/vnd.databricks.v1+cell": {
     "cellMetadata": {},
     "inputWidgets": {},
     "nuid": "d6e4c344-994e-4261-87a2-1238a4ee2b0f",
     "showTitle": false,
     "title": ""
    }
   },
   "source": [
    "\n",
    "<div style=\"text-align: center; line-height: 0; padding-top: 9px;\">\n",
    "  <img src=\"https://databricks.com/wp-content/uploads/2018/03/db-academy-rgb-1200px.png\" alt=\"Databricks Learning\" style=\"width: 600px\">\n",
    "</div>"
   ]
  },
  {
   "cell_type": "markdown",
   "metadata": {
    "application/vnd.databricks.v1+cell": {
     "cellMetadata": {},
     "inputWidgets": {},
     "nuid": "e788980e-8e78-4e35-bd61-7d481ce50fe9",
     "showTitle": false,
     "title": "--i18n-04aa5a94-e0d3-4bec-a9b5-a0590c33a257"
    }
   },
   "source": [
    "\n",
    "\n",
    "\n",
    "# Model Registry\n",
    "\n",
    "MLflow Model Registry is a collaborative hub where teams can share ML models, work together from experimentation to online testing and production, integrate with approval and governance workflows, and monitor ML deployments and their performance.  This lesson explores how to manage models using the MLflow model registry.\n",
    "\n",
    "This demo notebook will use scikit-learn on the Airbnb dataset, but in the lab you will use MLlib.\n",
    "\n",
    "## ![Spark Logo Tiny](https://files.training.databricks.com/images/105/logo_spark_tiny.png) Learning Objectives:<br>\n",
    "\n",
    "By the end of this lesson, you should be able to;\n",
    "\n",
    "* Explain MLflow Model Registry components\n",
    "* Register a model to MLflow Model Registry\n",
    "* Manage model lifecycle programmatically\n",
    "* Manage model lifecycle using MLflow UI\n",
    "* Archive and delete models from MLflow Model Registry\n",
    "\n",
    "\n",
    " \n",
    "<img src=\"https://files.training.databricks.com/images/icon_note_24.png\"/> If you would like to set up a model serving endpoint, you will need <a href=\"https://docs.databricks.com/applications/mlflow/model-serving.html#requirements\" target=\"_blank\">cluster creation</a> permissions."
   ]
  },
  {
   "cell_type": "markdown",
   "metadata": {
    "application/vnd.databricks.v1+cell": {
     "cellMetadata": {},
     "inputWidgets": {},
     "nuid": "abc24173-afb6-4eae-9173-4b2bbe35ef6b",
     "showTitle": false,
     "title": "--i18n-1e2c921e-1125-4df3-b914-d74bf7a73ab5"
    }
   },
   "source": [
    "## 📌 Requirements\n",
    "\n",
    "**Required Databricks Runtime Version:** \n",
    "* Please note that in order to run this notebook, you must use one of the following Databricks Runtime(s): **12.2.x-cpu-ml-scala2.12**"
   ]
  },
  {
   "cell_type": "markdown",
   "metadata": {
    "application/vnd.databricks.v1+cell": {
     "cellMetadata": {},
     "inputWidgets": {},
     "nuid": "7f844baa-f1e5-4cf3-a906-8d0f2decb712",
     "showTitle": false,
     "title": "--i18n-6a1bb996-7b50-4f03-9bcd-3d3ec3069a6d"
    }
   },
   "source": [
    "## Lesson Setup\n",
    "\n",
    "The first thing we're going to do is to **run setup script**. This script will define the required configuration variables that are scoped to each user."
   ]
  },
  {
   "cell_type": "code",
   "execution_count": 0,
   "metadata": {
    "application/vnd.databricks.v1+cell": {
     "cellMetadata": {
      "byteLimit": 2048000,
      "rowLimit": 10000
     },
     "inputWidgets": {},
     "nuid": "6aa097c4-4693-4bcd-8954-1b8327e31720",
     "showTitle": false,
     "title": ""
    }
   },
   "outputs": [
    {
     "output_type": "stream",
     "name": "stdout",
     "output_type": "stream",
     "text": [
      "Python interpreter will be restarted.\nPython interpreter will be restarted.\n"
     ]
    },
    {
     "output_type": "stream",
     "name": "stdout",
     "output_type": "stream",
     "text": [
      "Resetting the learning environment:\n| No action taken\n\nSkipping install of existing datasets to \"dbfs:/mnt/dbacademy-datasets/scalable-machine-learning-with-apache-spark/v02\"\n\nValidating the locally installed datasets:\n| listing local files...(4 seconds)\n| validation completed...(4 seconds total)\n\nCreating & using the schema \"charlie_ohara_4mi2_da_sml\" in the catalog \"hive_metastore\"...(1 seconds)\n\nPredefined tables in \"charlie_ohara_4mi2_da_sml\":\n| -none-\n\nPredefined paths variables:\n| DA.paths.working_dir: dbfs:/mnt/dbacademy-users/charlie.ohara@standard.ai/scalable-machine-learning-with-apache-spark\n| DA.paths.user_db:     dbfs:/mnt/dbacademy-users/charlie.ohara@standard.ai/scalable-machine-learning-with-apache-spark/database.db\n| DA.paths.datasets:    dbfs:/mnt/dbacademy-datasets/scalable-machine-learning-with-apache-spark/v02\n\nSetup completed (10 seconds)\n"
     ]
    }
   ],
   "source": [
    "%run \"./Includes/Classroom-Setup\""
   ]
  },
  {
   "cell_type": "markdown",
   "metadata": {
    "application/vnd.databricks.v1+cell": {
     "cellMetadata": {},
     "inputWidgets": {},
     "nuid": "2de8ab42-e242-412f-8a37-157cf008e623",
     "showTitle": false,
     "title": "--i18n-5802ff47-58b5-4789-973d-2fb855bf347a"
    }
   },
   "source": [
    "\n",
    "\n",
    "\n",
    "## Model Registry\n",
    "\n",
    "The MLflow Model Registry component is a centralized model store, set of APIs, and UI, to collaboratively manage the full lifecycle of an MLflow Model. It provides model lineage (which MLflow Experiment and Run produced the model), model versioning, stage transitions (e.g. from staging to production), annotations (e.g. with comments, tags), and deployment management (e.g. which production jobs have requested a specific model version).\n",
    "\n",
    "MLflow Model Registry has the following features:\n",
    "\n",
    "* **Central Repository:** Register MLflow models with the MLflow Model Registry. A registered model has a unique name, version, stage, and other metadata.\n",
    "* **Model Versioning:** Automatically keep track of versions for registered models when updated.\n",
    "* **Model Stage:** Assigned preset or custom stages to each model version, like “Staging” and “Production” to represent the lifecycle of a model.\n",
    "* **Model Stage Transitions:** Record new registration events or changes as activities that automatically log users, changes, and additional metadata such as comments.\n",
    "* **CI/CD Workflow Integration:** Record stage transitions, request, review and approve changes as part of CI/CD pipelines for better control and governance.\n",
    "\n",
    "<div><img src=\"https://files.training.databricks.com/images/eLearning/ML-Part-4/model-registry.png\" style=\"height: 400px; margin: 20px\"/></div>\n",
    "\n",
    "<img src=\"https://files.training.databricks.com/images/icon_note_24.png\"/> See <a href=\"https://mlflow.org/docs/latest/model-registry.html\" target=\"_blank\">the MLflow docs</a> for more details on the model registry."
   ]
  },
  {
   "cell_type": "markdown",
   "metadata": {
    "application/vnd.databricks.v1+cell": {
     "cellMetadata": {},
     "inputWidgets": {},
     "nuid": "b4181375-166a-4292-b84c-80e0025fd2a1",
     "showTitle": false,
     "title": "--i18n-7f34f7da-b5d2-42af-b24d-54e1730db95f"
    }
   },
   "source": [
    "\n",
    "\n",
    "\n",
    "## Registering a Model\n",
    "\n",
    "The following workflow will work with either the UI or in pure Python.  This notebook will use pure Python.\n",
    "\n",
    "<img src=\"https://files.training.databricks.com/images/icon_note_24.png\"/> Explore the UI throughout this lesson by clicking the \"Models\" tab on the left-hand side of the screen."
   ]
  },
  {
   "cell_type": "markdown",
   "metadata": {
    "application/vnd.databricks.v1+cell": {
     "cellMetadata": {},
     "inputWidgets": {},
     "nuid": "fabbbd17-987d-4f5c-bac8-2daed8958923",
     "showTitle": false,
     "title": "--i18n-cbc59424-e45b-4179-a586-8c14a66a61a1"
    }
   },
   "source": [
    "\n",
    "\n",
    "\n",
    "Train a model and log it to MLflow using <a href=\"https://mlflow.org/docs/latest/tracking.html#automatic-logging\" target=\"_blank\">autologging</a>. Autologging allows you to log metrics, parameters, and models without the need for explicit log statements.\n",
    "\n",
    "There are a few ways to use autologging:\n",
    "\n",
    "  1. Call **`mlflow.autolog()`** before your training code. This will enable autologging for each supported library you have installed as soon as you import it.\n",
    "\n",
    "  2. Enable autologging at the workspace level from the admin console\n",
    "\n",
    "  3. Use library-specific autolog calls for each library you use in your code. (e.g. **`mlflow.spark.autolog()`**)\n",
    "\n",
    "Here we are only using numeric features for simplicity of building the random forest."
   ]
  },
  {
   "cell_type": "code",
   "execution_count": 0,
   "metadata": {
    "application/vnd.databricks.v1+cell": {
     "cellMetadata": {
      "byteLimit": 2048000,
      "rowLimit": 10000
     },
     "inputWidgets": {},
     "nuid": "3c6919d5-0074-4c96-bf6c-e9b822228151",
     "showTitle": false,
     "title": ""
    }
   },
   "outputs": [
    {
     "output_type": "display_data",
     "data": {
      "application/vnd.databricks.v1+bamboolib_hint": "{\"pd.DataFrames\": [], \"version\": \"0.0.1\"}",
      "text/plain": []
     },
     "metadata": {},
     "output_type": "display_data"
    },
    {
     "output_type": "stream",
     "name": "stderr",
     "output_type": "stream",
     "text": [
      "2024/02/09 16:33:56 WARNING mlflow.utils.autologging_utils: MLflow autologging encountered a warning: \"/databricks/python/lib/python3.9/site-packages/_distutils_hack/__init__.py:30: UserWarning: Setuptools is replacing distutils.\"\n"
     ]
    }
   ],
   "source": [
    "import mlflow\n",
    "import mlflow.sklearn\n",
    "from mlflow.models.signature import infer_signature\n",
    "\n",
    "import pandas as pd\n",
    "# don't just have to use spark mL with ml flow, so we can demo using sklearn as an alternative\n",
    "from sklearn.linear_model import LinearRegression\n",
    "from sklearn.metrics import mean_squared_error\n",
    "from sklearn.model_selection import train_test_split\n",
    "\n",
    "df = pd.read_csv(\"dbfs:/mnt/dbacademy-datasets/scalable-machine-learning-with-apache-spark/v02/airbnb/sf-listings/airbnb-cleaned-mlflow.csv\".replace(\"dbfs:/\", \"/dbfs/\"))\n",
    "\n",
    "# convert ineteger fields to double in case of missing values, which would cause error\n",
    "int_cols = df.select_dtypes(include='int64').columns\n",
    "df[int_cols] = df[int_cols].astype('float64')\n",
    "X_train, X_test, y_train, y_test = train_test_split(df.drop([\"price\"], axis=1), df[[\"price\"]].values.ravel(), random_state=42)\n",
    "\n",
    "# creates a new experiment with our first run\n",
    "with mlflow.start_run(run_name=\"LR Model\") as run:\n",
    "    # stores all the different metrics for us without specifically defining rmse or r2\n",
    "    mlflow.sklearn.autolog(log_input_examples=True, log_model_signatures=True, log_models=True)\n",
    "    lr = LinearRegression()\n",
    "    lr.fit(X_train, y_train)\n",
    "    signature = infer_signature(X_train, lr.predict(X_train))"
   ]
  },
  {
   "cell_type": "markdown",
   "metadata": {
    "application/vnd.databricks.v1+cell": {
     "cellMetadata": {},
     "inputWidgets": {},
     "nuid": "617bae49-5f78-44db-8da1-eaefe0c8a880",
     "showTitle": false,
     "title": "--i18n-1322cac5-9638-4cc9-b050-3545958f3936"
    }
   },
   "source": [
    "\n",
    "\n",
    "\n",
    "Create a unique model name so you don't clash with other workspace users. \n",
    "\n",
    "Note that a registered model name must be a non-empty UTF-8 string and cannot contain forward slashes(/), periods(.), or colons(:)."
   ]
  },
  {
   "cell_type": "code",
   "execution_count": 0,
   "metadata": {
    "application/vnd.databricks.v1+cell": {
     "cellMetadata": {
      "byteLimit": 2048000,
      "rowLimit": 10000
     },
     "inputWidgets": {},
     "nuid": "557042e0-9c99-4e72-8dfc-056409d5cccf",
     "showTitle": false,
     "title": ""
    }
   },
   "outputs": [
    {
     "output_type": "stream",
     "name": "stdout",
     "output_type": "stream",
     "text": [
      "Model Name: sklearn-lr_charlie-ohara-4mi2-da-sml\n"
     ]
    }
   ],
   "source": [
    "suffix = DA.unique_name(\"-\")\n",
    "model_name = f\"sklearn-lr_{suffix}\"\n",
    "print(f\"Model Name: {model_name}\")"
   ]
  },
  {
   "cell_type": "markdown",
   "metadata": {
    "application/vnd.databricks.v1+cell": {
     "cellMetadata": {},
     "inputWidgets": {},
     "nuid": "f1399a3d-1eeb-40de-8b8d-0c7086bc4802",
     "showTitle": false,
     "title": "--i18n-0777e3f5-ba7c-41c4-a477-9f0a5a809664"
    }
   },
   "source": [
    "\n",
    "\n",
    "\n",
    "Register the model."
   ]
  },
  {
   "cell_type": "code",
   "execution_count": 0,
   "metadata": {
    "application/vnd.databricks.v1+cell": {
     "cellMetadata": {
      "byteLimit": 2048000,
      "rowLimit": 10000
     },
     "inputWidgets": {},
     "nuid": "ba83adba-8b62-4993-a21b-915c9367db65",
     "showTitle": false,
     "title": ""
    }
   },
   "outputs": [
    {
     "output_type": "stream",
     "name": "stderr",
     "output_type": "stream",
     "text": [
      "Successfully registered model 'sklearn-lr_charlie-ohara-4mi2-da-sml'.\n2024/02/09 16:35:16 INFO mlflow.tracking._model_registry.client: Waiting up to 300 seconds for model version to finish creation.                     Model name: sklearn-lr_charlie-ohara-4mi2-da-sml, version 1\nCreated version '1' of model 'sklearn-lr_charlie-ohara-4mi2-da-sml'.\n"
     ]
    }
   ],
   "source": [
    "run_id = run.info.run_id\n",
    "model_uri = f\"runs:/{run_id}/model\"\n",
    "# creates a model under the Machine Learning > Models tab\n",
    "# explicitly register a version of model artifact here for reuse \n",
    "model_details = mlflow.register_model(model_uri=model_uri, name=model_name)"
   ]
  },
  {
   "cell_type": "markdown",
   "metadata": {
    "application/vnd.databricks.v1+cell": {
     "cellMetadata": {},
     "inputWidgets": {},
     "nuid": "b29110da-aae2-45c3-8eae-7107aee93997",
     "showTitle": false,
     "title": "--i18n-22756858-ff7f-4392-826f-f401a81230c4"
    }
   },
   "source": [
    "\n",
    "## Model Registery in MLflow UI\n",
    "\n",
    "**Open the *Models* tab on the left of the screen to explore the registered model.**  Note the following:<br><br>\n",
    "\n",
    "* It logged who trained the model and what code was used\n",
    "* It logged a history of actions taken on this model\n",
    "* It logged this model as a first version\n",
    "\n",
    "<div><img src=\"https://files.training.databricks.com/images/registered_model_v3.png\" style=\"height: 600px; margin: 20px\"/></div>"
   ]
  },
  {
   "cell_type": "markdown",
   "metadata": {
    "application/vnd.databricks.v1+cell": {
     "cellMetadata": {},
     "inputWidgets": {},
     "nuid": "5c5a1524-9280-4022-8ff7-111ca2c764e1",
     "showTitle": false,
     "title": "--i18n-481cba23-661f-4de7-a1d8-06b6be8c57d3"
    }
   },
   "source": [
    "\n",
    "\n",
    "\n",
    "Check the status."
   ]
  },
  {
   "cell_type": "code",
   "execution_count": 0,
   "metadata": {
    "application/vnd.databricks.v1+cell": {
     "cellMetadata": {
      "byteLimit": 2048000,
      "rowLimit": 10000
     },
     "inputWidgets": {},
     "nuid": "178f2e9a-9c57-473b-8928-7b5fe5de6e10",
     "showTitle": false,
     "title": ""
    }
   },
   "outputs": [
    {
     "output_type": "stream",
     "name": "stdout",
     "output_type": "stream",
     "text": [
      "Out[9]: 'READY'"
     ]
    }
   ],
   "source": [
    "from mlflow.tracking.client import MlflowClient\n",
    "\n",
    "client = MlflowClient()\n",
    "model_version_details = client.get_model_version(name=model_name, version=1)\n",
    "\n",
    "model_version_details.status"
   ]
  },
  {
   "cell_type": "markdown",
   "metadata": {
    "application/vnd.databricks.v1+cell": {
     "cellMetadata": {},
     "inputWidgets": {},
     "nuid": "686233c5-71ab-4815-bccd-88db3e2289f8",
     "showTitle": false,
     "title": "--i18n-10556266-2903-4afc-8af9-3213d244aa21"
    }
   },
   "source": [
    "\n",
    "\n",
    "\n",
    "Now add a model description"
   ]
  },
  {
   "cell_type": "code",
   "execution_count": 0,
   "metadata": {
    "application/vnd.databricks.v1+cell": {
     "cellMetadata": {
      "byteLimit": 2048000,
      "rowLimit": 10000
     },
     "inputWidgets": {},
     "nuid": "939a9467-b046-4bb4-8d45-c20b601b9a31",
     "showTitle": false,
     "title": ""
    }
   },
   "outputs": [
    {
     "output_type": "stream",
     "name": "stdout",
     "output_type": "stream",
     "text": [
      "Out[10]: <RegisteredModel: creation_timestamp=1707496515899, description=('This model forecasts Airbnb housing list prices based on various listing '\n 'inputs.'), last_updated_timestamp=1707496624011, latest_versions=[], name='sklearn-lr_charlie-ohara-4mi2-da-sml', tags={}>"
     ]
    }
   ],
   "source": [
    "client.update_registered_model(\n",
    "    name=model_details.name,\n",
    "    description=\"This model forecasts Airbnb housing list prices based on various listing inputs.\"\n",
    ")"
   ]
  },
  {
   "cell_type": "markdown",
   "metadata": {
    "application/vnd.databricks.v1+cell": {
     "cellMetadata": {},
     "inputWidgets": {},
     "nuid": "4d51bb4d-c5e1-47db-98c7-5ee1c5ffa73f",
     "showTitle": false,
     "title": "--i18n-5abeafb2-fd60-4b0d-bf52-79320c10d402"
    }
   },
   "source": [
    "\n",
    "\n",
    "\n",
    "Add a version-specific description."
   ]
  },
  {
   "cell_type": "code",
   "execution_count": 0,
   "metadata": {
    "application/vnd.databricks.v1+cell": {
     "cellMetadata": {
      "byteLimit": 2048000,
      "rowLimit": 10000
     },
     "inputWidgets": {},
     "nuid": "11d0fd47-d116-4969-9eeb-e90134857f3b",
     "showTitle": false,
     "title": ""
    }
   },
   "outputs": [
    {
     "output_type": "stream",
     "name": "stdout",
     "output_type": "stream",
     "text": [
      "Out[11]: <ModelVersion: creation_timestamp=1707496516259, current_stage='None', description='This model version was built using OLS linear regression with sklearn.', last_updated_timestamp=1707496638035, name='sklearn-lr_charlie-ohara-4mi2-da-sml', run_id='b6f076599d4b4ab3a2ad177c7e69c363', run_link='', source='dbfs:/databricks/mlflow-tracking/3021276973847332/b6f076599d4b4ab3a2ad177c7e69c363/artifacts/model', status='READY', status_message='', tags={}, user_id='6043631322962989', version='1'>"
     ]
    }
   ],
   "source": [
    "client.update_model_version(\n",
    "    name=model_details.name,\n",
    "    version=model_details.version,\n",
    "    # OLS = ordinary least squares\n",
    "    description=\"This model version was built using OLS linear regression with sklearn.\"\n",
    ")"
   ]
  },
  {
   "cell_type": "markdown",
   "metadata": {
    "application/vnd.databricks.v1+cell": {
     "cellMetadata": {},
     "inputWidgets": {},
     "nuid": "78fa4e01-4c5f-4c42-b1d7-9b3e3ecbd183",
     "showTitle": false,
     "title": "--i18n-aaac467f-3a52-4428-a119-8286cb0ac158"
    }
   },
   "source": [
    "\n",
    "\n",
    "\n",
    "## Deploying a Model\n",
    "\n",
    "The MLflow Model Registry defines several model stages: **`None`**, **`Staging`**, **`Production`**, and **`Archived`**. Each stage has a unique meaning. For example, **`Staging`** is meant for model testing, while **`Production`** is for models that have completed the testing or review processes and have been deployed to applications. \n",
    "\n",
    "Users with appropriate permissions can transition models between stages."
   ]
  },
  {
   "cell_type": "markdown",
   "metadata": {
    "application/vnd.databricks.v1+cell": {
     "cellMetadata": {},
     "inputWidgets": {},
     "nuid": "a59d9fe5-1f05-4023-b51b-f9c66a91fa1c",
     "showTitle": false,
     "title": "--i18n-dff93671-f891-4779-9e41-a0960739516f"
    }
   },
   "source": [
    "\n",
    "\n",
    "\n",
    "Now that you've learned about stage transitions, transition the model to the **`Production`** stage."
   ]
  },
  {
   "cell_type": "code",
   "execution_count": 0,
   "metadata": {
    "application/vnd.databricks.v1+cell": {
     "cellMetadata": {
      "byteLimit": 2048000,
      "rowLimit": 10000
     },
     "inputWidgets": {},
     "nuid": "c5ce2bd3-4c1c-4f83-b0e6-8cb819882860",
     "showTitle": false,
     "title": ""
    }
   },
   "outputs": [
    {
     "output_type": "display_data",
     "data": {
      "text/html": [
       "<style scoped>\n",
       "  .ansiout {\n",
       "    display: block;\n",
       "    unicode-bidi: embed;\n",
       "    white-space: pre-wrap;\n",
       "    word-wrap: break-word;\n",
       "    word-break: break-all;\n",
       "    font-family: \"Menlo\", \"Monaco\", \"Consolas\", \"Ubuntu Mono\", \"Source Code Pro\", monospace;\n",
       "    font-size: 13px;\n",
       "    color: #555;\n",
       "    margin-left: 4px;\n",
       "    line-height: 19px;\n",
       "  }\n",
       "</style>"
      ]
     },
     "metadata": {
      "application/vnd.databricks.v1+output": {
       "arguments": {},
       "data": "",
       "errorSummary": "Cancelled",
       "errorTraceType": "html",
       "metadata": {},
       "type": "ipynbError"
      }
     },
     "output_type": "display_data"
    }
   ],
   "source": [
    "import time\n",
    "\n",
    "time.sleep(10) # In case the registration is still pending"
   ]
  },
  {
   "cell_type": "code",
   "execution_count": 0,
   "metadata": {
    "application/vnd.databricks.v1+cell": {
     "cellMetadata": {
      "byteLimit": 2048000,
      "rowLimit": 10000
     },
     "inputWidgets": {},
     "nuid": "538a6075-8152-4596-b07d-22336f560a7b",
     "showTitle": false,
     "title": ""
    }
   },
   "outputs": [
    {
     "output_type": "stream",
     "name": "stdout",
     "output_type": "stream",
     "text": [
      "Out[13]: <ModelVersion: creation_timestamp=1707496516259, current_stage='Production', description='This model version was built using OLS linear regression with sklearn.', last_updated_timestamp=1707496726914, name='sklearn-lr_charlie-ohara-4mi2-da-sml', run_id='b6f076599d4b4ab3a2ad177c7e69c363', run_link='', source='dbfs:/databricks/mlflow-tracking/3021276973847332/b6f076599d4b4ab3a2ad177c7e69c363/artifacts/model', status='READY', status_message='', tags={}, user_id='6043631322962989', version='1'>"
     ]
    }
   ],
   "source": [
    "client.transition_model_version_stage(\n",
    "    name=model_details.name,\n",
    "    version=model_details.version,\n",
    "    # model in production is not able to be deleted = protected \n",
    "    stage=\"Production\"\n",
    ")"
   ]
  },
  {
   "cell_type": "markdown",
   "metadata": {
    "application/vnd.databricks.v1+cell": {
     "cellMetadata": {},
     "inputWidgets": {},
     "nuid": "dac19f0e-824f-481e-bf7e-921ed0de0095",
     "showTitle": false,
     "title": "--i18n-4dc7e8b7-da38-4ce1-a238-39cad74d97c5"
    }
   },
   "source": [
    "\n",
    "\n",
    "\n",
    "Fetch the model's current status."
   ]
  },
  {
   "cell_type": "code",
   "execution_count": 0,
   "metadata": {
    "application/vnd.databricks.v1+cell": {
     "cellMetadata": {
      "byteLimit": 2048000,
      "rowLimit": 10000
     },
     "inputWidgets": {},
     "nuid": "862e2121-9518-4ca7-9b84-56bcc42b4aad",
     "showTitle": false,
     "title": ""
    }
   },
   "outputs": [
    {
     "output_type": "stream",
     "name": "stdout",
     "output_type": "stream",
     "text": [
      "The current model stage is: 'Production'\n"
     ]
    }
   ],
   "source": [
    "model_version_details = client.get_model_version(\n",
    "    name=model_details.name,\n",
    "    version=model_details.version\n",
    ")\n",
    "print(f\"The current model stage is: '{model_version_details.current_stage}'\")"
   ]
  },
  {
   "cell_type": "markdown",
   "metadata": {
    "application/vnd.databricks.v1+cell": {
     "cellMetadata": {},
     "inputWidgets": {},
     "nuid": "a676f670-d0b3-4779-b987-99492e77fdc8",
     "showTitle": false,
     "title": "--i18n-ba563293-bb74-4318-9618-a1dcf86ec7a3"
    }
   },
   "source": [
    "\n",
    "\n",
    "\n",
    "Fetch the latest model using a **`pyfunc`**.  Loading the model in this way allows us to use the model regardless of the package that was used to train it.\n",
    "\n",
    "<img src=\"https://files.training.databricks.com/images/icon_note_24.png\"/> You can load a specific version of the model too."
   ]
  },
  {
   "cell_type": "code",
   "execution_count": 0,
   "metadata": {
    "application/vnd.databricks.v1+cell": {
     "cellMetadata": {
      "byteLimit": 2048000,
      "rowLimit": 10000
     },
     "inputWidgets": {},
     "nuid": "18665665-fc82-4a3e-be03-898fd61539bd",
     "showTitle": false,
     "title": ""
    }
   },
   "outputs": [
    {
     "output_type": "stream",
     "name": "stdout",
     "output_type": "stream",
     "text": [
      "Loading registered model version from URI: 'models:/sklearn-lr_charlie-ohara-4mi2-da-sml/1'\n"
     ]
    }
   ],
   "source": [
    "import mlflow.pyfunc # used to load in all sort of models no matter if made by Spark ML or skikitlearn etc\n",
    "\n",
    "model_version_uri = f\"models:/{model_name}/1\"\n",
    "\n",
    "print(f\"Loading registered model version from URI: '{model_version_uri}'\")\n",
    "model_version_1 = mlflow.pyfunc.load_model(model_version_uri)"
   ]
  },
  {
   "cell_type": "markdown",
   "metadata": {
    "application/vnd.databricks.v1+cell": {
     "cellMetadata": {},
     "inputWidgets": {},
     "nuid": "52f64de3-feb8-4154-82db-9e14b873a200",
     "showTitle": false,
     "title": "--i18n-e1bb8ae5-6cf3-42c2-aebd-bde925a9ef30"
    }
   },
   "source": [
    "\n",
    "\n",
    "\n",
    "Apply the model."
   ]
  },
  {
   "cell_type": "code",
   "execution_count": 0,
   "metadata": {
    "application/vnd.databricks.v1+cell": {
     "cellMetadata": {
      "byteLimit": 2048000,
      "rowLimit": 10000
     },
     "inputWidgets": {},
     "nuid": "82ad6e57-d108-4660-8266-4ffdcc8b9dc6",
     "showTitle": false,
     "title": ""
    }
   },
   "outputs": [
    {
     "output_type": "stream",
     "name": "stdout",
     "output_type": "stream",
     "text": [
      "Out[16]: array([101.11471214, 157.97132179, 147.97169741, ..., 209.28368398,\n       144.62247929, 131.32160683])"
     ]
    }
   ],
   "source": [
    "model_version_1.predict(X_test) # equivalent with spark ml is transform"
   ]
  },
  {
   "cell_type": "markdown",
   "metadata": {
    "application/vnd.databricks.v1+cell": {
     "cellMetadata": {},
     "inputWidgets": {},
     "nuid": "ca79f42c-6775-4009-b634-ac45952bc689",
     "showTitle": false,
     "title": "--i18n-75a9c277-0115-4cef-b4aa-dd69a0a5d8a0"
    }
   },
   "source": [
    "\n",
    "\n",
    "\n",
    "### Deploying a New Model Version\n",
    "\n",
    "The MLflow Model Registry enables you to create multiple model versions corresponding to a single registered model. By performing stage transitions, you can seamlessly integrate new model versions into your staging or production environments."
   ]
  },
  {
   "cell_type": "markdown",
   "metadata": {
    "application/vnd.databricks.v1+cell": {
     "cellMetadata": {},
     "inputWidgets": {},
     "nuid": "57994569-6562-4382-8fbb-b3e17505a154",
     "showTitle": false,
     "title": "--i18n-2ef7acd0-422a-4449-ad27-3a26f217ab15"
    }
   },
   "source": [
    "\n",
    "\n",
    "\n",
    "Create a new model version and register that model when it's logged."
   ]
  },
  {
   "cell_type": "code",
   "execution_count": 0,
   "metadata": {
    "application/vnd.databricks.v1+cell": {
     "cellMetadata": {
      "byteLimit": 2048000,
      "rowLimit": 10000
     },
     "inputWidgets": {},
     "nuid": "03be2d36-928b-40d2-9c67-7b19022e1a1a",
     "showTitle": false,
     "title": ""
    }
   },
   "outputs": [
    {
     "output_type": "stream",
     "name": "stderr",
     "output_type": "stream",
     "text": [
      "Registered model 'sklearn-lr_charlie-ohara-4mi2-da-sml' already exists. Creating a new version of this model...\n2024/02/09 16:41:12 INFO mlflow.tracking._model_registry.client: Waiting up to 300 seconds for model version to finish creation.                     Model name: sklearn-lr_charlie-ohara-4mi2-da-sml, version 2\nCreated version '2' of model 'sklearn-lr_charlie-ohara-4mi2-da-sml'.\n"
     ]
    }
   ],
   "source": [
    "from sklearn.linear_model import Ridge\n",
    "\n",
    "with mlflow.start_run(run_name=\"LR Ridge Model\") as run:\n",
    "    alpha = .9\n",
    "    # use an alternative algorithm still using skikitlearn\n",
    "    ridge_regression = Ridge(alpha=alpha)\n",
    "    ridge_regression.fit(X_train, y_train)\n",
    "\n",
    "    # Specify the `registered_model_name` parameter of the `mlflow.sklearn.log_model()`\n",
    "    # function to register the model with the MLflow Model Registry. This automatically\n",
    "    # creates a new model version\n",
    "\n",
    "    mlflow.sklearn.log_model(\n",
    "        sk_model=ridge_regression,\n",
    "        artifact_path=\"sklearn-ridge-model\",\n",
    "        registered_model_name=model_name,\n",
    "    )\n",
    "\n",
    "    mlflow.log_params(ridge_regression.get_params())\n",
    "    mlflow.log_metric(\"mse\", mean_squared_error(y_test, ridge_regression.predict(X_test)))"
   ]
  },
  {
   "cell_type": "markdown",
   "metadata": {
    "application/vnd.databricks.v1+cell": {
     "cellMetadata": {},
     "inputWidgets": {},
     "nuid": "479caca8-e8a4-48c6-98e2-1979f547f80b",
     "showTitle": false,
     "title": "--i18n-dc1dd6b4-9e9e-45be-93c4-5500a10191ed"
    }
   },
   "source": [
    "\n",
    "\n",
    "\n",
    "Put the new model into staging."
   ]
  },
  {
   "cell_type": "code",
   "execution_count": 0,
   "metadata": {
    "application/vnd.databricks.v1+cell": {
     "cellMetadata": {
      "byteLimit": 2048000,
      "rowLimit": 10000
     },
     "inputWidgets": {},
     "nuid": "bddf969d-c287-454f-a849-5a3ade524aed",
     "showTitle": false,
     "title": ""
    }
   },
   "outputs": [
    {
     "output_type": "stream",
     "name": "stdout",
     "output_type": "stream",
     "text": [
      "Out[18]: <ModelVersion: creation_timestamp=1707496872315, current_stage='Staging', description='', last_updated_timestamp=1707496903650, name='sklearn-lr_charlie-ohara-4mi2-da-sml', run_id='636a724f775b4d79a4da949b41b51dc3', run_link='', source='dbfs:/databricks/mlflow-tracking/3021276973847332/636a724f775b4d79a4da949b41b51dc3/artifacts/sklearn-ridge-model', status='READY', status_message='', tags={}, user_id='6043631322962989', version='2'>"
     ]
    }
   ],
   "source": [
    "client.transition_model_version_stage(\n",
    "    name=model_details.name,\n",
    "    version=2,\n",
    "    stage=\"Staging\"\n",
    ")"
   ]
  },
  {
   "cell_type": "markdown",
   "metadata": {
    "application/vnd.databricks.v1+cell": {
     "cellMetadata": {},
     "inputWidgets": {},
     "nuid": "2f23798a-38d8-47e5-b394-3718272a2804",
     "showTitle": false,
     "title": "--i18n-fe857eeb-6119-4927-ad79-77eaa7bffe3a"
    }
   },
   "source": [
    "\n",
    "### Review Model Using the UI\n",
    "\n",
    "\n",
    "Check the UI to see the new model version.\n",
    "\n",
    "<div><img src=\"https://files.training.databricks.com/images/model_version_v3.png\" style=\"height: 400px; margin: 20px\"/></div>"
   ]
  },
  {
   "cell_type": "markdown",
   "metadata": {
    "application/vnd.databricks.v1+cell": {
     "cellMetadata": {},
     "inputWidgets": {},
     "nuid": "ae959b6c-2701-474c-affe-13d3b129c76a",
     "showTitle": false,
     "title": "--i18n-6f568dd2-0413-4b78-baf6-23debb8a5118"
    }
   },
   "source": [
    "\n",
    "\n",
    "\n",
    "Use the search functionality to grab the latest model version."
   ]
  },
  {
   "cell_type": "code",
   "execution_count": 0,
   "metadata": {
    "application/vnd.databricks.v1+cell": {
     "cellMetadata": {
      "byteLimit": 2048000,
      "rowLimit": 10000
     },
     "inputWidgets": {},
     "nuid": "9aa254d8-4d48-44f2-b432-71baf9108d35",
     "showTitle": false,
     "title": ""
    }
   },
   "outputs": [
    {
     "output_type": "stream",
     "name": "stdout",
     "output_type": "stream",
     "text": [
      "2\n"
     ]
    }
   ],
   "source": [
    "model_version_infos = client.search_model_versions(f\"name = '{model_name}'\")\n",
    "new_model_version = max([model_version_info.version for model_version_info in model_version_infos])\n",
    "print(new_model_version)"
   ]
  },
  {
   "cell_type": "markdown",
   "metadata": {
    "application/vnd.databricks.v1+cell": {
     "cellMetadata": {},
     "inputWidgets": {},
     "nuid": "3a728f41-bdbe-4408-b8a5-fcededd719d6",
     "showTitle": false,
     "title": "--i18n-4fb5d7c9-b0c0-49d5-a313-ac95da7e0f91"
    }
   },
   "source": [
    "\n",
    "### Update a Deployed Model\n",
    "\n",
    "Add a description to this new version."
   ]
  },
  {
   "cell_type": "code",
   "execution_count": 0,
   "metadata": {
    "application/vnd.databricks.v1+cell": {
     "cellMetadata": {
      "byteLimit": 2048000,
      "rowLimit": 10000
     },
     "inputWidgets": {},
     "nuid": "988455ac-18b4-4986-90ed-81a3459c2e0a",
     "showTitle": false,
     "title": ""
    }
   },
   "outputs": [
    {
     "output_type": "stream",
     "name": "stdout",
     "output_type": "stream",
     "text": [
      "Out[21]: <ModelVersion: creation_timestamp=1707496872315, current_stage='Staging', description=('This model version is a ridge regression model with an alpha value of 0.9 '\n 'that was trained in scikit-learn.'), last_updated_timestamp=1707496972776, name='sklearn-lr_charlie-ohara-4mi2-da-sml', run_id='636a724f775b4d79a4da949b41b51dc3', run_link='', source='dbfs:/databricks/mlflow-tracking/3021276973847332/636a724f775b4d79a4da949b41b51dc3/artifacts/sklearn-ridge-model', status='READY', status_message='', tags={}, user_id='6043631322962989', version='2'>"
     ]
    }
   ],
   "source": [
    "client.update_model_version(\n",
    "    name=model_name,\n",
    "    version=new_model_version,\n",
    "    description=f\"This model version is a ridge regression model with an alpha value of {alpha} that was trained in scikit-learn.\"\n",
    ")"
   ]
  },
  {
   "cell_type": "markdown",
   "metadata": {
    "application/vnd.databricks.v1+cell": {
     "cellMetadata": {},
     "inputWidgets": {},
     "nuid": "d91fbc5e-6fe5-40a4-852f-61356f7e647d",
     "showTitle": false,
     "title": "--i18n-10adff21-8116-4a01-a309-ce5a7d233fcf"
    }
   },
   "source": [
    "\n",
    "\n",
    "\n",
    "Since this model is now in staging, you can execute an automated CI/CD pipeline against it to test it before going into production.  Once that is completed, you can push that model into production."
   ]
  },
  {
   "cell_type": "code",
   "execution_count": 0,
   "metadata": {
    "application/vnd.databricks.v1+cell": {
     "cellMetadata": {
      "byteLimit": 2048000,
      "rowLimit": 10000
     },
     "inputWidgets": {},
     "nuid": "e9809f2e-d560-4b8e-8baf-87f8b1b4d1af",
     "showTitle": false,
     "title": ""
    }
   },
   "outputs": [
    {
     "output_type": "stream",
     "name": "stdout",
     "output_type": "stream",
     "text": [
      "Out[22]: <ModelVersion: creation_timestamp=1707496872315, current_stage='Production', description=('This model version is a ridge regression model with an alpha value of 0.9 '\n 'that was trained in scikit-learn.'), last_updated_timestamp=1707496997433, name='sklearn-lr_charlie-ohara-4mi2-da-sml', run_id='636a724f775b4d79a4da949b41b51dc3', run_link='', source='dbfs:/databricks/mlflow-tracking/3021276973847332/636a724f775b4d79a4da949b41b51dc3/artifacts/sklearn-ridge-model', status='READY', status_message='', tags={}, user_id='6043631322962989', version='2'>"
     ]
    }
   ],
   "source": [
    "client.transition_model_version_stage(\n",
    "    name=model_name,\n",
    "    version=new_model_version,\n",
    "    stage=\"Production\", \n",
    "    archive_existing_versions=True # Archive existing model in production to be replaced with new verion 2 \n",
    ")"
   ]
  },
  {
   "cell_type": "markdown",
   "metadata": {
    "application/vnd.databricks.v1+cell": {
     "cellMetadata": {},
     "inputWidgets": {},
     "nuid": "b90566a0-b002-460a-82e2-57688310b048",
     "showTitle": false,
     "title": "--i18n-e3caaf08-a721-425b-8765-050c757d1d2e"
    }
   },
   "source": [
    "\n",
    "\n",
    "\n",
    "Delete version 1.  \n",
    "\n",
    "<img src=\"https://files.training.databricks.com/images/icon_note_24.png\"/> You cannot delete a model that is not first archived."
   ]
  },
  {
   "cell_type": "code",
   "execution_count": 0,
   "metadata": {
    "application/vnd.databricks.v1+cell": {
     "cellMetadata": {
      "byteLimit": 2048000,
      "rowLimit": 10000
     },
     "inputWidgets": {},
     "nuid": "8357669f-40b5-4874-9bbc-25cbaec4af01",
     "showTitle": false,
     "title": ""
    }
   },
   "outputs": [],
   "source": [
    "client.delete_model_version( # need to archive first (see step above)\n",
    "    name=model_name,\n",
    "    version=1\n",
    ")"
   ]
  },
  {
   "cell_type": "markdown",
   "metadata": {
    "application/vnd.databricks.v1+cell": {
     "cellMetadata": {},
     "inputWidgets": {},
     "nuid": "f0c2685a-321e-4ac1-8657-9ac1f95c3681",
     "showTitle": false,
     "title": "--i18n-a896f3e5-d83c-4328-821f-a67d60699f0e"
    }
   },
   "source": [
    "\n",
    "\n",
    "\n",
    "Archive version 2 of the model too."
   ]
  },
  {
   "cell_type": "code",
   "execution_count": 0,
   "metadata": {
    "application/vnd.databricks.v1+cell": {
     "cellMetadata": {
      "byteLimit": 2048000,
      "rowLimit": 10000
     },
     "inputWidgets": {},
     "nuid": "44f77e50-cbba-4a44-9021-33d10171e1d3",
     "showTitle": false,
     "title": ""
    }
   },
   "outputs": [
    {
     "output_type": "stream",
     "name": "stdout",
     "output_type": "stream",
     "text": [
      "Out[24]: <ModelVersion: creation_timestamp=1707496872315, current_stage='Archived', description=('This model version is a ridge regression model with an alpha value of 0.9 '\n 'that was trained in scikit-learn.'), last_updated_timestamp=1707497048722, name='sklearn-lr_charlie-ohara-4mi2-da-sml', run_id='636a724f775b4d79a4da949b41b51dc3', run_link='', source='dbfs:/databricks/mlflow-tracking/3021276973847332/636a724f775b4d79a4da949b41b51dc3/artifacts/sklearn-ridge-model', status='READY', status_message='', tags={}, user_id='6043631322962989', version='2'>"
     ]
    }
   ],
   "source": [
    "client.transition_model_version_stage(\n",
    "    name=model_name,\n",
    "    version=2,\n",
    "    stage=\"Archived\"\n",
    ")"
   ]
  },
  {
   "cell_type": "markdown",
   "metadata": {
    "application/vnd.databricks.v1+cell": {
     "cellMetadata": {},
     "inputWidgets": {},
     "nuid": "4bbf5e56-1353-4d04-b4a4-3951fdaec8d9",
     "showTitle": false,
     "title": "--i18n-0eb4929d-648b-4ae6-bca3-aff8af50f15f"
    }
   },
   "source": [
    "\n",
    "\n",
    "\n",
    "Now delete the entire registered model."
   ]
  },
  {
   "cell_type": "code",
   "execution_count": 0,
   "metadata": {
    "application/vnd.databricks.v1+cell": {
     "cellMetadata": {
      "byteLimit": 2048000,
      "rowLimit": 10000
     },
     "inputWidgets": {},
     "nuid": "f5108ae7-72d9-40a0-9936-977236090549",
     "showTitle": false,
     "title": ""
    }
   },
   "outputs": [],
   "source": [
    "client.delete_registered_model(model_name)"
   ]
  },
  {
   "cell_type": "markdown",
   "metadata": {
    "application/vnd.databricks.v1+cell": {
     "cellMetadata": {},
     "inputWidgets": {},
     "nuid": "5c16736e-dda6-41fe-a713-aad938f501ad",
     "showTitle": false,
     "title": "--i18n-6fe495ec-f481-4181-a006-bea55a6cef09"
    }
   },
   "source": [
    "\n",
    "\n",
    "\n",
    "## Review\n",
    "**Question:** How does MLflow tracking differ from the model registry?  \n",
    "**Answer:** Tracking is meant for experimentation and development.  The model registry is designed to take a model from tracking and put it through staging and into production.  This is often the point that a data engineer or a machine learning engineer takes responsibility for the deployment process.\n",
    "\n",
    "**Question:** Why do I need a model registry?  \n",
    "**Answer:** Just as MLflow tracking provides end-to-end reproducibility for the machine learning training process, a model registry provides reproducibility and governance for the deployment process.  Since production systems are mission critical, components can be isolated with ACL's so only specific individuals can alter production models.  Version control and CI/CD workflow integration is also a critical dimension of deploying models into production.\n",
    "\n",
    "**Question:** What can I do programmatically versus using the UI?  \n",
    "**Answer:** Most operations can be done using the UI or in pure Python.  A model must be tracked using Python, but from that point on everything can be done either way.  For instance, a model logged using the MLflow tracking API can then be registered using the UI and can then be pushed into production."
   ]
  },
  {
   "cell_type": "markdown",
   "metadata": {
    "application/vnd.databricks.v1+cell": {
     "cellMetadata": {},
     "inputWidgets": {},
     "nuid": "f78bdc4f-17c8-43bd-b1dd-a45b711a4781",
     "showTitle": false,
     "title": "--i18n-ecf5132e-f80d-4374-a325-28b4e96d5b61"
    }
   },
   "source": [
    "\n",
    "\n",
    "\n",
    "## Additional Topics & Resources\n",
    "\n",
    "**Q:** Where can I find out more information on MLflow Model Registry?  \n",
    "**A:** Check out <a href=\"https://mlflow.org/docs/latest/model-registry.html\" target=\"_blank\">the MLflow documentation</a>"
   ]
  },
  {
   "cell_type": "markdown",
   "metadata": {
    "application/vnd.databricks.v1+cell": {
     "cellMetadata": {},
     "inputWidgets": {},
     "nuid": "02f74ebb-413f-4a57-abb8-9c7e4624c435",
     "showTitle": false,
     "title": "--i18n-a2c7fb12-fd0b-493f-be4f-793d0a61695b"
    }
   },
   "source": [
    "\n",
    "## Classroom Cleanup\n",
    "\n",
    "Run the following cell to remove lessons-specific assets created during this lesson:"
   ]
  },
  {
   "cell_type": "code",
   "execution_count": 0,
   "metadata": {
    "application/vnd.databricks.v1+cell": {
     "cellMetadata": {
      "byteLimit": 2048000,
      "rowLimit": 10000
     },
     "inputWidgets": {},
     "nuid": "a56ede40-5ac0-44d8-bf8e-c63694b2ef76",
     "showTitle": false,
     "title": ""
    }
   },
   "outputs": [
    {
     "output_type": "stream",
     "name": "stdout",
     "output_type": "stream",
     "text": [
      "Resetting the learning environment:\n| dropping the schema \"charlie_ohara_4mi2_da_sml\"...(1 seconds)\n| removing the working directory \"dbfs:/mnt/dbacademy-users/charlie.ohara@standard.ai/scalable-machine-learning-with-apache-spark\"...(0 seconds)\n\nValidating the locally installed datasets:\n| listing local files...(3 seconds)\n| validation completed...(3 seconds total)\n"
     ]
    }
   ],
   "source": [
    "DA.cleanup()"
   ]
  },
  {
   "cell_type": "markdown",
   "metadata": {
    "application/vnd.databricks.v1+cell": {
     "cellMetadata": {},
     "inputWidgets": {},
     "nuid": "9e60de95-2659-4b8d-9b77-ab5bc9d6b8b3",
     "showTitle": false,
     "title": ""
    }
   },
   "source": [
    "&copy; 2023 Databricks, Inc. All rights reserved.<br/>\n",
    "Apache, Apache Spark, Spark and the Spark logo are trademarks of the <a href=\"https://www.apache.org/\">Apache Software Foundation</a>.<br/>\n",
    "<br/>\n",
    "<a href=\"https://databricks.com/privacy-policy\">Privacy Policy</a> | <a href=\"https://databricks.com/terms-of-use\">Terms of Use</a> | <a href=\"https://help.databricks.com/\">Support</a>"
   ]
  }
 ],
 "metadata": {
  "application/vnd.databricks.v1+notebook": {
   "dashboards": [],
   "language": "python",
   "notebookMetadata": {
    "pythonIndentUnit": 2
   },
   "notebookName": "ml_05_mlflow_model_registry",
   "widgets": {}
  }
 },
 "nbformat": 4,
 "nbformat_minor": 0
}
